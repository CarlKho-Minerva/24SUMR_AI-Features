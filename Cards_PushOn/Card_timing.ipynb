{
 "cells": [
  {
   "cell_type": "markdown",
   "metadata": {},
   "source": [
    "# Pseudocode for Card Insertion Algorithm"
   ]
  },
  {
   "cell_type": "code",
   "execution_count": 2,
   "metadata": {},
   "outputs": [],
   "source": [
    "# Initialize session and swipe counters\n",
    "user_session_swipes = 0\n",
    "card_interval = 100  # Define the interval at which cards are inserted"
   ]
  },
  {
   "cell_type": "code",
   "execution_count": 3,
   "metadata": {},
   "outputs": [],
   "source": [
    "def on_video_swipe():\n",
    "    global user_session_swipes\n",
    "    user_session_swipes += 1\n",
    "\n",
    "    # Check if the user has reached the interval for card insertion\n",
    "    if user_session_swipes % card_interval == 0:\n",
    "        insert_card()"
   ]
  },
  {
   "cell_type": "code",
   "execution_count": 5,
   "metadata": {},
   "outputs": [],
   "source": [
    "def insert_card():\n",
    "    # Define the card content\n",
    "    card = {\n",
    "        \"header_text\": \"Take a Break!\",\n",
    "        \"description\": \"You've been scrolling for a while. How about a quick break to refresh?\",\n",
    "        \"button_text\": \"Okay\",\n",
    "        \"action\": lambda: print(\"Card acknowledged by the user.\"),\n",
    "    }\n",
    "\n",
    "    # Display the card to the user\n",
    "    display_card(card)\n",
    "\n",
    "\n",
    "def display_card(card):\n",
    "    # Simulate displaying the card (replace with actual display logic)\n",
    "    print(f\"Header: {card['header_text']}\")\n",
    "    print(f\"Description: {card['description']}\")\n",
    "    print(f\"Button: {card['button_text']}\")\n",
    "    # Simulate button click action\n",
    "    card[\"action\"]()"
   ]
  },
  {
   "cell_type": "code",
   "execution_count": 6,
   "metadata": {},
   "outputs": [
    {
     "name": "stdout",
     "output_type": "stream",
     "text": [
      "Header: Take a Break!\n",
      "Description: You've been scrolling for a while. How about a quick break to refresh?\n",
      "Button: Okay\n",
      "Card acknowledged by the user.\n",
      "Header: Take a Break!\n",
      "Description: You've been scrolling for a while. How about a quick break to refresh?\n",
      "Button: Okay\n",
      "Card acknowledged by the user.\n",
      "Header: Take a Break!\n",
      "Description: You've been scrolling for a while. How about a quick break to refresh?\n",
      "Button: Okay\n",
      "Card acknowledged by the user.\n"
     ]
    }
   ],
   "source": [
    "# Simulate user swipes\n",
    "for _ in range(300):  # Simulate 300 swipes\n",
    "    on_video_swipe()"
   ]
  },
  {
   "cell_type": "markdown",
   "metadata": {},
   "source": [
    "## Explanation\n",
    "\n",
    "1. **Pseudocode Explanation:**\n",
    "   - `user_session_swipes` tracks the number of swipes in the current session.\n",
    "   - `card_interval` is the interval at which cards are inserted.\n",
    "   - `on_video_swipe()` increments the swipe counter and checks if it's time to insert a card.\n",
    "   - `insert_card()` define the card content and simulate displaying it to the user.\n",
    "   - `display_card(card)` simulates the display logic for the card.\n",
    "\n",
    "2. **Card Content:**\n",
    "   - **Header Text:** A brief, attention-grabbing message.\n",
    "   - **Description:** A short explanation of the card's purpose.\n",
    "   - **Button Text:** A call-to-action button.\n",
    "   - **Action:** The action to take when the button is clicked (simulated here with a print statement).\n",
    "\n",
    "Feel free to customize the card content and logic as needed for your specific use case."
   ]
  },
  {
   "cell_type": "markdown",
   "metadata": {},
   "source": []
  }
 ],
 "metadata": {
  "kernelspec": {
   "display_name": "Python 3",
   "language": "python",
   "name": "python3"
  },
  "language_info": {
   "codemirror_mode": {
    "name": "ipython",
    "version": 3
   },
   "file_extension": ".py",
   "mimetype": "text/x-python",
   "name": "python",
   "nbconvert_exporter": "python",
   "pygments_lexer": "ipython3",
   "version": "3.11.9"
  }
 },
 "nbformat": 4,
 "nbformat_minor": 2
}
