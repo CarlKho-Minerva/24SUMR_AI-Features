{
 "cells": [
  {
   "cell_type": "code",
   "execution_count": 12,
   "metadata": {},
   "outputs": [],
   "source": [
    "from pprint import pprint\n",
    "import chromadb\n",
    "\n",
    "chroma_client = chromadb.Client()\n"
   ]
  },
  {
   "cell_type": "code",
   "execution_count": null,
   "metadata": {},
   "outputs": [],
   "source": [
    "collection = chroma_client.create_collection(name=\"my_collection\")"
   ]
  },
  {
   "cell_type": "code",
   "execution_count": 4,
   "metadata": {},
   "outputs": [
    {
     "name": "stderr",
     "output_type": "stream",
     "text": [
      "/Users/cvk/.cache/chroma/onnx_models/all-MiniLM-L6-v2/onnx.tar.gz: 100%|██████████| 79.3M/79.3M [00:11<00:00, 7.53MiB/s]\n"
     ]
    }
   ],
   "source": [
    "# Chroma will store your text and handle embedding and indexing automatically. You can also customize the embedding model.\n",
    "\n",
    "collection.add(\n",
    "    documents=[\n",
    "        \"This is a document about pineapple\",\n",
    "        \"This is a document about oranges\"\n",
    "    ],\n",
    "    ids=[\"id1\", \"id2\"]\n",
    ")\n"
   ]
  },
  {
   "cell_type": "code",
   "execution_count": 5,
   "metadata": {},
   "outputs": [
    {
     "name": "stdout",
     "output_type": "stream",
     "text": [
      "{'ids': [['id1', 'id2']], 'distances': [[1.0403728485107422, 1.2430635690689087]], 'metadatas': [[None, None]], 'embeddings': None, 'documents': [['This is a document about pineapple', 'This is a document about oranges']], 'uris': None, 'data': None}\n"
     ]
    }
   ],
   "source": [
    "results = collection.query(\n",
    "    query_texts=[\"This is a query document about hawaii\"], # Chroma will embed this for you\n",
    "    n_results=2 # how many results to return\n",
    ")\n",
    "print(results)\n"
   ]
  },
  {
   "cell_type": "markdown",
   "metadata": {},
   "source": [
    "Output\n",
    "\n",
    "```javascript\n",
    "{\n",
    "  'documents': [[\n",
    "      'This is a document about pineapple',\n",
    "      'This is a document about oranges'\n",
    "  ]],\n",
    "  'ids': [['id1', 'id2']],\n",
    "  'distances': [[1.0404009819030762, 1.243080496788025]],\n",
    "  'uris': None,\n",
    "  'data': None,\n",
    "  'metadatas': [[None, None]],\n",
    "  'embeddings': None,\n",
    "}\n",
    "\n",
    "```"
   ]
  },
  {
   "cell_type": "code",
   "execution_count": 15,
   "metadata": {},
   "outputs": [
    {
     "name": "stdout",
     "output_type": "stream",
     "text": [
      "{'data': None,\n",
      " 'distances': [[1.0151069164276123, 1.060719609260559]],\n",
      " 'documents': [['This is a document about pineapple',\n",
      "                'This is a document about oranges']],\n",
      " 'embeddings': None,\n",
      " 'ids': [['id1', 'id2']],\n",
      " 'metadatas': [[None, None]],\n",
      " 'uris': None}\n"
     ]
    }
   ],
   "source": [
    "# switch `create_collection` to `get_or_create_collection` to avoid creating a new collection every time\n",
    "collection = chroma_client.get_or_create_collection(name=\"my_collection\")\n",
    "\n",
    "# switch `add` to `upsert` to avoid adding the same documents every time\n",
    "collection.upsert(\n",
    "    documents=[\n",
    "        \"This is a document about pineapple\",\n",
    "        \"This is a document about oranges\"\n",
    "    ],\n",
    "    ids=[\"id1\", \"id2\"]\n",
    ")\n",
    "\n",
    "results = collection.query(\n",
    "    query_texts=[\"This is a query document about apples\"], # Chroma will embed this for you\n",
    "    n_results=2 # how many results to return\n",
    ")\n",
    "\n",
    "pprint(results)"
   ]
  },
  {
   "cell_type": "code",
   "execution_count": 26,
   "metadata": {},
   "outputs": [
    {
     "name": "stdout",
     "output_type": "stream",
     "text": [
      "{'data': None,\n",
      " 'distances': [[0.8069612979888916,\n",
      "                0.9570289254188538,\n",
      "                1.0970666408538818,\n",
      "                1.176741123199463,\n",
      "                1.629639983177185]],\n",
      " 'documents': [['Introduction to Linear Regression in Python. Linear '\n",
      "                'regression, Python, introduction, data analysis, machine '\n",
      "                'learning. In this video, we will delve into the fundamentals '\n",
      "                'of linear regression in Python, a powerful tool for analyzing '\n",
      "                'and predicting relationships between variables.',\n",
      "                'How to Use Dictionaries in Python. Python, Dictionaries, '\n",
      "                'Tutorial, Data Structures, Programming. Learn how to '\n",
      "                'efficiently use dictionaries in Python with this '\n",
      "                'comprehensive tutorial.',\n",
      "                'Solving Linear Equations with NumPy. Linear equations, NumPy, '\n",
      "                \"Mathematics, Solving, Array. In this tutorial on 'Solving \"\n",
      "                \"Linear Equations with NumPy,' learn how to use the NumPy \"\n",
      "                'library in Python to solve systems of linear equations '\n",
      "                'efficiently.',\n",
      "                'Quick Guide to Python List Comprehensions. Python, List '\n",
      "                'Comprehensions, Quick Guide, Programming, Python Basics. '\n",
      "                'Learn how to use Python list comprehensions in this quick and '\n",
      "                'easy guide.',\n",
      "                \"Understanding Bayes' Theorem with Real-World Examples. Bayes' \"\n",
      "                'Theorem, Real-World Examples, Probability, Statistics, Data '\n",
      "                \"Analysis. In this video, we dive into the world of Bayes' \"\n",
      "                'Theorem with real-world examples to help you understand its '\n",
      "                'application in probability and statistics.']],\n",
      " 'embeddings': None,\n",
      " 'ids': [['1', '4', '5', '3', '2']],\n",
      " 'metadatas': [[None, None, None, None, None]],\n",
      " 'uris': None}\n"
     ]
    }
   ],
   "source": [
    "# Create a collection in ChromaDB with the video data\n",
    "collection = chroma_client.get_or_create_collection(name=\"video_collection\", )\n",
    "\n",
    "# Add the video data to the collection\n",
    "collection.upsert(\n",
    "    documents=[\n",
    "        \"Introduction to Linear Regression in Python. Linear regression, Python, introduction, data analysis, machine learning. In this video, we will delve into the fundamentals of linear regression in Python, a powerful tool for analyzing and predicting relationships between variables.\",\n",
    "        \"Understanding Bayes' Theorem with Real-World Examples. Bayes' Theorem, Real-World Examples, Probability, Statistics, Data Analysis. In this video, we dive into the world of Bayes' Theorem with real-world examples to help you understand its application in probability and statistics.\",\n",
    "        \"Quick Guide to Python List Comprehensions. Python, List Comprehensions, Quick Guide, Programming, Python Basics. Learn how to use Python list comprehensions in this quick and easy guide.\",\n",
    "        \"How to Use Dictionaries in Python. Python, Dictionaries, Tutorial, Data Structures, Programming. Learn how to efficiently use dictionaries in Python with this comprehensive tutorial.\",\n",
    "        \"Solving Linear Equations with NumPy. Linear equations, NumPy, Mathematics, Solving, Array. In this tutorial on 'Solving Linear Equations with NumPy,' learn how to use the NumPy library in Python to solve systems of linear equations efficiently.\"\n",
    "    ],\n",
    "    ids=[\"1\", \"2\", \"3\", \"4\", \"5\"]  # The video IDs\n",
    ")\n",
    "\n",
    "# Use the user profile information to create a query\n",
    "# For example, if the user is interested in Python and data analysis, the query could be:\n",
    "query_text = \"Python and data analysis\"\n",
    "\n",
    "# Use the `query` method of the collection to find the most semantically similar videos\n",
    "results = collection.query(\n",
    "    query_texts=[query_text],  # Chroma will embed this for you\n",
    "    n_results=5  # how many results to return\n",
    ")\n",
    "\n",
    "pprint(results)"
   ]
  },
  {
   "cell_type": "markdown",
   "metadata": {},
   "source": [
    "# FIN For now\n",
    "\n",
    "creds to : https://www.markhneedham.com/blog/2024/02/27/clustering-youtube-comments-ollama-embeddings-nomic/\n",
    "\n",
    "todo: research pgvector\n"
   ]
  },
  {
   "cell_type": "code",
   "execution_count": null,
   "metadata": {},
   "outputs": [],
   "source": []
  }
 ],
 "metadata": {
  "kernelspec": {
   "display_name": "Python 3",
   "language": "python",
   "name": "python3"
  },
  "language_info": {
   "codemirror_mode": {
    "name": "ipython",
    "version": 3
   },
   "file_extension": ".py",
   "mimetype": "text/x-python",
   "name": "python",
   "nbconvert_exporter": "python",
   "pygments_lexer": "ipython3",
   "version": "3.11.9"
  }
 },
 "nbformat": 4,
 "nbformat_minor": 2
}
