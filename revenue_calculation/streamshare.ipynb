{
 "cells": [
  {
   "cell_type": "code",
   "execution_count": 94,
   "metadata": {},
   "outputs": [],
   "source": [
    "# Importing required libraries\n",
    "import pandas as pd\n",
    "import uuid"
   ]
  },
  {
   "cell_type": "code",
   "execution_count": 95,
   "metadata": {},
   "outputs": [],
   "source": [
    "# Constants\n",
    "\n",
    "# Setting up total revenue and views\n",
    "total_revenue = 10000  # Example: total revenue in dollars\n",
    "total_views = 1000  # Example: total views\n",
    "\n",
    "pool_percentage = 0.25  # Taken from Edgur's profits\n",
    "\n",
    "min_payout = 34"
   ]
  },
  {
   "cell_type": "code",
   "execution_count": 96,
   "metadata": {},
   "outputs": [],
   "source": [
    "# Defining the resource pool\n",
    "resource_pool = total_revenue * pool_percentage"
   ]
  },
  {
   "cell_type": "code",
   "execution_count": 97,
   "metadata": {},
   "outputs": [],
   "source": [
    "import pandas as pd\n",
    "import uuid\n",
    "import random\n",
    "\n",
    "\n",
    "def create_creators_dataframe(num_creators: int, seed: int) -> pd.DataFrame:\n",
    "    \"\"\"Create a DataFrame with unique creator IDs and random view shares.\"\"\"\n",
    "    random.seed(seed)\n",
    "    ids = [str(uuid.uuid4()) for _ in range(num_creators)]\n",
    "    views_percentage = [random.random() for _ in range(num_creators)]\n",
    "\n",
    "    creators_data = {\n",
    "        \"id\": ids,\n",
    "        \"view_share\": views_percentage,\n",
    "    }\n",
    "\n",
    "    return pd.DataFrame(creators_data)\n",
    "\n",
    "\n",
    "# Example usage\n",
    "creators_df = create_creators_dataframe(5, seed=120)"
   ]
  },
  {
   "cell_type": "code",
   "execution_count": 98,
   "metadata": {},
   "outputs": [],
   "source": [
    "# Calculating initial allocations\n",
    "creators_df[\"initial_allocation\"] = creators_df[\"view_share\"] * resource_pool"
   ]
  },
  {
   "cell_type": "code",
   "execution_count": 99,
   "metadata": {},
   "outputs": [],
   "source": [
    "# Applying minimum payout filter\n",
    "eligible_creators = creators_df[creators_df[\"initial_allocation\"] >= min_payout]"
   ]
  },
  {
   "cell_type": "code",
   "execution_count": 100,
   "metadata": {},
   "outputs": [],
   "source": [
    "# Adjusting payouts\n",
    "eligible_total_share = eligible_creators[\"view_share\"].sum()\n",
    "\n",
    "eligible_creators.loc[:, \"adjusted_share\"] = (\n",
    "    eligible_creators[\"view_share\"] / eligible_total_share\n",
    ")\n",
    "eligible_creators.loc[:, \"final_payout\"] = (\n",
    "    eligible_creators[\"adjusted_share\"] * resource_pool\n",
    ")"
   ]
  },
  {
   "cell_type": "code",
   "execution_count": 101,
   "metadata": {},
   "outputs": [
    {
     "data": {
      "text/html": [
       "<div>\n",
       "<style scoped>\n",
       "    .dataframe tbody tr th:only-of-type {\n",
       "        vertical-align: middle;\n",
       "    }\n",
       "\n",
       "    .dataframe tbody tr th {\n",
       "        vertical-align: top;\n",
       "    }\n",
       "\n",
       "    .dataframe thead th {\n",
       "        text-align: right;\n",
       "    }\n",
       "</style>\n",
       "<table border=\"1\" class=\"dataframe\">\n",
       "  <thead>\n",
       "    <tr style=\"text-align: right;\">\n",
       "      <th></th>\n",
       "      <th>id</th>\n",
       "      <th>view_share</th>\n",
       "      <th>initial_allocation</th>\n",
       "      <th>adjusted_share</th>\n",
       "      <th>final_payout</th>\n",
       "    </tr>\n",
       "  </thead>\n",
       "  <tbody>\n",
       "    <tr>\n",
       "      <th>0</th>\n",
       "      <td>17007e40-fe2b-4c53-a52e-6ed2d8556475</td>\n",
       "      <td>0.514938</td>\n",
       "      <td>1287.344885</td>\n",
       "      <td>0.178709</td>\n",
       "      <td>446.771895</td>\n",
       "    </tr>\n",
       "    <tr>\n",
       "      <th>1</th>\n",
       "      <td>890c4e8a-44c4-405f-9a6a-9ae7eefb0ada</td>\n",
       "      <td>0.188648</td>\n",
       "      <td>471.620428</td>\n",
       "      <td>0.065470</td>\n",
       "      <td>163.675449</td>\n",
       "    </tr>\n",
       "    <tr>\n",
       "      <th>2</th>\n",
       "      <td>522d341f-2e7c-4b43-bac3-bf41c66af350</td>\n",
       "      <td>0.952920</td>\n",
       "      <td>2382.298818</td>\n",
       "      <td>0.330710</td>\n",
       "      <td>826.774681</td>\n",
       "    </tr>\n",
       "    <tr>\n",
       "      <th>3</th>\n",
       "      <td>9da0c928-4a58-494b-b638-44fdbca23c7f</td>\n",
       "      <td>0.635269</td>\n",
       "      <td>1588.172703</td>\n",
       "      <td>0.220470</td>\n",
       "      <td>551.173921</td>\n",
       "    </tr>\n",
       "    <tr>\n",
       "      <th>4</th>\n",
       "      <td>54b806fe-e8b3-449d-ba5f-2abff4fae0c7</td>\n",
       "      <td>0.589662</td>\n",
       "      <td>1474.154641</td>\n",
       "      <td>0.204642</td>\n",
       "      <td>511.604054</td>\n",
       "    </tr>\n",
       "  </tbody>\n",
       "</table>\n",
       "</div>"
      ],
      "text/plain": [
       "                                     id  view_share  initial_allocation  \\\n",
       "0  17007e40-fe2b-4c53-a52e-6ed2d8556475    0.514938         1287.344885   \n",
       "1  890c4e8a-44c4-405f-9a6a-9ae7eefb0ada    0.188648          471.620428   \n",
       "2  522d341f-2e7c-4b43-bac3-bf41c66af350    0.952920         2382.298818   \n",
       "3  9da0c928-4a58-494b-b638-44fdbca23c7f    0.635269         1588.172703   \n",
       "4  54b806fe-e8b3-449d-ba5f-2abff4fae0c7    0.589662         1474.154641   \n",
       "\n",
       "   adjusted_share  final_payout  \n",
       "0        0.178709    446.771895  \n",
       "1        0.065470    163.675449  \n",
       "2        0.330710    826.774681  \n",
       "3        0.220470    551.173921  \n",
       "4        0.204642    511.604054  "
      ]
     },
     "execution_count": 101,
     "metadata": {},
     "output_type": "execute_result"
    }
   ],
   "source": [
    "# Displaying final payouts\n",
    "eligible_creators"
   ]
  }
 ],
 "metadata": {
  "kernelspec": {
   "display_name": "Python 3",
   "language": "python",
   "name": "python3"
  },
  "language_info": {
   "codemirror_mode": {
    "name": "ipython",
    "version": 3
   },
   "file_extension": ".py",
   "mimetype": "text/x-python",
   "name": "python",
   "nbconvert_exporter": "python",
   "pygments_lexer": "ipython3",
   "version": "3.11.9"
  }
 },
 "nbformat": 4,
 "nbformat_minor": 2
}
