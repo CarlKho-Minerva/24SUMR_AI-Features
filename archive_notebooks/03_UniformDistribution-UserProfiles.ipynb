{
 "cells": [
  {
   "cell_type": "code",
   "execution_count": 2,
   "metadata": {},
   "outputs": [],
   "source": [
    "from pprint import pprint\n",
    "import random"
   ]
  },
  {
   "cell_type": "code",
   "execution_count": 2,
   "metadata": {},
   "outputs": [
    {
     "name": "stdout",
     "output_type": "stream",
     "text": [
      "Interest weights: 100.0\n",
      "{'Cats': 18.0,\n",
      " 'Cooking': 18.0,\n",
      " 'DevOps': 18.0,\n",
      " 'Machine Learning': 18.0,\n",
      " 'Random': 10,\n",
      " 'Tests (SAT)': 18.0}\n"
     ]
    }
   ],
   "source": [
    "def create_user_interest_dict(*interests):\n",
    "    interest_count = len(interests)\n",
    "    interest_weight = (100 - 10) / interest_count  # Subtract 10 for 'Random'\n",
    "    user_interests = {interest: interest_weight for interest in interests}\n",
    "    user_interests[\"Random\"] = 10  # Add 'Random' with constant value of 10\n",
    "\n",
    "    print(\n",
    "        f\"Interest weights: {sum(user_interests.values())}\"\n",
    "    )  # Sum of all weights should be 100\n",
    "\n",
    "    return user_interests\n",
    "\n",
    "\n",
    "# New user selects interests (max 5)\n",
    "# 10 total - 5 start to discover other 5 naturally\n",
    "\n",
    "carl_interests = create_user_interest_dict(\n",
    "    \"DevOps\",\n",
    "    \"Tests (SAT)\",\n",
    "    \"Machine Learning\",\n",
    "    \"Cats\",\n",
    "    \"Cooking\"\n",
    ")\n",
    "\n",
    "pprint(carl_interests)"
   ]
  },
  {
   "cell_type": "code",
   "execution_count": 3,
   "metadata": {},
   "outputs": [],
   "source": [
    "# HELPER FUNCTIONS for update_weight\n",
    "\n",
    "\n",
    "def observe_action_taken(video_tag, liked, shared, watched, loop_count):\n",
    "    \"\"\"\n",
    "    This function calculates the total points based on the user's actions.\n",
    "\n",
    "    Parameters:\n",
    "    video_tag (str): The tag of the video.\n",
    "    liked (bool): Whether the user liked the video.\n",
    "    shared (bool): Whether the user shared the video.\n",
    "    watched (bool): Whether the user watched the video.\n",
    "    loop_count (int): The number of times the user looped the video.\n",
    "\n",
    "    Returns:\n",
    "    float: The total points calculated based on the user's actions.\n",
    "    \"\"\"\n",
    "    # Actions and their corresponding points to add\n",
    "    Actions = {\n",
    "        \"Like\": 0.1,\n",
    "        \"Share\": 0.2,\n",
    "        \"Watch\": 0.1,  # more than 50% of total duration\n",
    "        # todo: experiment with increasing watch value\n",
    "        \"Loop\": 0.05,\n",
    "    }\n",
    "\n",
    "    total_points = 0\n",
    "\n",
    "    if liked:\n",
    "        total_points += Actions[\"Like\"]\n",
    "    if shared:\n",
    "        total_points += Actions[\"Share\"]\n",
    "    if watched:\n",
    "        total_points += Actions[\"Watch\"]\n",
    "    total_points += loop_count * Actions[\"Loop\"]\n",
    "\n",
    "    print(f\"\\nUpdating weights for video tag: {video_tag}\")\n",
    "    print(f\"Total points to add: {total_points}\")\n",
    "\n",
    "    return total_points\n",
    "\n",
    "\n",
    "def handle_update_weight(user_dict_interest, video_tag, total_points):\n",
    "    \"\"\"\n",
    "    This function updates the user's interest score based on the total points.\n",
    "\n",
    "    Parameters:\n",
    "    user_dict_interest (dict): The user's interest dictionary.\n",
    "    video_tag (str): The tag of the video.\n",
    "    total_points (float): The total points calculated based on the user's actions.\n",
    "\n",
    "    Returns:\n",
    "    dict: The updated user's interest dictionary.\n",
    "    \"\"\"\n",
    "    # Increase the weight of the interest based on the action points\n",
    "    user_dict_interest[video_tag] += total_points\n",
    "    print(f\"Updated {video_tag} to {user_dict_interest[video_tag]}\\n\")\n",
    "\n",
    "    # Deduct the total points proportionally from existing interests (excluding 'Random' and the video_tag itself)\n",
    "    total_deductable_weight = sum(\n",
    "        weight\n",
    "        for interest, weight in user_dict_interest.items()\n",
    "        if interest != \"Random\" and interest != video_tag\n",
    "    )\n",
    "\n",
    "    print(\n",
    "        f\"Total weight to deduct from other interests: {total_points}\\nTotal deductable weight (excluding 'Random' and {video_tag}): {total_deductable_weight}\"\n",
    "    )\n",
    "\n",
    "    for interest in user_dict_interest:\n",
    "        if interest != \"Random\" and interest != video_tag:\n",
    "            deduction = (total_points / total_deductable_weight) * user_dict_interest[\n",
    "                interest\n",
    "            ]\n",
    "            user_dict_interest[interest] -= deduction\n",
    "\n",
    "            print(\n",
    "                f\"Deducted {deduction} from {interest}, new weight: {user_dict_interest[interest]}\"\n",
    "            )\n",
    "\n",
    "    return user_dict_interest\n",
    "\n",
    "\n",
    "def handle_add_new_tag(user_dict_interest, video_tag):\n",
    "    \"\"\"\n",
    "    This function adds a new interest to the user's interest dictionary.\n",
    "\n",
    "    Parameters:\n",
    "    user_dict_interest (dict): The user's interest dictionary.\n",
    "    video_tag (str): The tag of the video.\n",
    "\n",
    "    Returns:\n",
    "    dict: The updated user's interest dictionary with the new interest added.\n",
    "    \"\"\"\n",
    "    # Add new interest if it doesn't exist and give initial points\n",
    "    initial_points = 5\n",
    "    user_dict_interest[video_tag] = initial_points\n",
    "    print(f\"Added new interest {video_tag} with initial weight: {initial_points}\")\n",
    "\n",
    "    # Deduct initial points proportionally from existing interests (excluding 'Random' and current video_tag)\n",
    "    total_deductable_weight = sum(\n",
    "        weight\n",
    "        for interest, weight in user_dict_interest.items()\n",
    "        if interest != \"Random\" and interest != video_tag\n",
    "    )\n",
    "\n",
    "    print(\n",
    "        f\"Total weight to deduct from other interests: {initial_points}\\nTotal deductable weight (excluding 'Random' and {video_tag}): {total_deductable_weight}\\n\"\n",
    "    )\n",
    "\n",
    "    for interest in user_dict_interest:\n",
    "        if interest != \"Random\" and interest != video_tag:\n",
    "            deduction = (initial_points / total_deductable_weight) * user_dict_interest[\n",
    "                interest\n",
    "            ]\n",
    "            user_dict_interest[interest] -= deduction\n",
    "\n",
    "            pprint(\n",
    "                f\"Deducted {deduction} from {interest}, new weight: {user_dict_interest[interest]}\"\n",
    "            )\n",
    "\n",
    "    return user_dict_interest"
   ]
  },
  {
   "cell_type": "code",
   "execution_count": 4,
   "metadata": {},
   "outputs": [],
   "source": [
    "def watch_video_and_update_weight(\n",
    "    user_dict_interest,\n",
    "    video_tag,\n",
    "    liked=False,\n",
    "    shared=False,\n",
    "    watched=False,\n",
    "    loop_count=0,\n",
    "):\n",
    "\n",
    "    total_points = observe_action_taken(video_tag, liked, shared, watched, loop_count)\n",
    "\n",
    "    if video_tag in user_dict_interest:\n",
    "        handle_update_weight(user_dict_interest, video_tag, total_points)\n",
    "    else:\n",
    "        handle_add_new_tag(user_dict_interest, video_tag)\n",
    "\n",
    "    # Sort the interests (\"key=item[1]\") by weight in descending order and keep only the top 10\n",
    "    user_dict_interest = dict(\n",
    "        sorted(user_dict_interest.items(), key=lambda item: item[1], reverse=True)[:10]\n",
    "    )\n",
    "\n",
    "    # Check total weight to ensure it sums to 100 (for debugging purposes)\n",
    "    total_weight = sum(user_dict_interest.values())\n",
    "    print(f\"Total weight after update: {total_weight} (should be 100)\\n\")\n",
    "    # pprint(f\"Updated interests: {user_dict_interest}\\n\")\n",
    "\n",
    "    return user_dict_interest"
   ]
  },
  {
   "cell_type": "code",
   "execution_count": 5,
   "metadata": {},
   "outputs": [],
   "source": [
    "def get_random_tag_for_recommendation(user_dict_interest):\n",
    "\n",
    "    random_value = round(random.uniform(0, 100), 0)\n",
    "\n",
    "    print(\"_\" * 50)\n",
    "    print(f\"\\nRandom value: {random_value}\\n\")\n",
    "\n",
    "    cumulative_probability = 0.0\n",
    "    partitions = []\n",
    "\n",
    "    for interest, probability in user_dict_interest.items():\n",
    "        # Save the starting point of the current tag's range (in probability)\n",
    "        previous_cumulative_probability = cumulative_probability\n",
    "\n",
    "        # Add the tag's probability to the cumulative total to get the end point of the tag's range\n",
    "        cumulative_probability += probability\n",
    "\n",
    "        partitions.append(\n",
    "            (interest, previous_cumulative_probability, cumulative_probability)\n",
    "        )\n",
    "\n",
    "        pprint(\n",
    "            f\"Checking interest: {interest}, cumulative range: {previous_cumulative_probability} - {cumulative_probability}\"\n",
    "        )\n",
    "\n",
    "        # If the random value is less than or equal to the cumulative probability up to the current interest,\n",
    "        # select the current interest and stop looking at the rest of the interests.\n",
    "        if random_value <= cumulative_probability:\n",
    "            print(f\"\\nSelected interest: {interest}\\n\")\n",
    "            break\n",
    "\n",
    "    if interest == \"Random\":\n",
    "        interest = random.choice(list(user_dict_interest.keys()))\n",
    "        print(f\"Random tag selected: {interest}\")\n",
    "        print(\"MODIFY THIS LATER TO POINT TO CSV COLUMN\")\n",
    "        return interest\n",
    "\n",
    "    return interest"
   ]
  },
  {
   "cell_type": "code",
   "execution_count": 6,
   "metadata": {},
   "outputs": [
    {
     "name": "stdout",
     "output_type": "stream",
     "text": [
      "Interest weights: 100.0\n",
      "{'Cats': 22.5,\n",
      " 'DevOps': 22.5,\n",
      " 'Machine Learning': 22.5,\n",
      " 'Random': 10,\n",
      " 'Tests (SAT)': 22.5}\n"
     ]
    }
   ],
   "source": [
    "# New user selects interests (max 5)\n",
    "# 10 total - 5 start to discover other 5 naturally\n",
    "\n",
    "carl_interests = create_user_interest_dict(\n",
    "    \"DevOps\",\n",
    "    \"Tests (SAT)\",\n",
    "    \"Machine Learning\",\n",
    "    \"Cats\"\n",
    ")\n",
    "pprint(carl_interests)"
   ]
  },
  {
   "cell_type": "code",
   "execution_count": null,
   "metadata": {},
   "outputs": [],
   "source": []
  },
  {
   "cell_type": "code",
   "execution_count": 7,
   "metadata": {},
   "outputs": [
    {
     "name": "stdout",
     "output_type": "stream",
     "text": [
      "(\"Before update: {'DevOps': 22.5, 'Tests (SAT)': 22.5, 'Machine Learning': \"\n",
      " \"22.5, 'Cats': 22.5, 'Random': 10}\")\n",
      "\n",
      "Updating weights for video tag: Cats\n",
      "Total points to add: 0.9\n",
      "Updated Cats to 23.4\n",
      "\n",
      "Total weight to deduct from other interests: 0.9\n",
      "Total deductable weight (excluding 'Random' and Cats): 67.5\n",
      "Deducted 0.30000000000000004 from DevOps, new weight: 22.2\n",
      "Deducted 0.30000000000000004 from Tests (SAT), new weight: 22.2\n",
      "Deducted 0.30000000000000004 from Machine Learning, new weight: 22.2\n",
      "Total weight after update: 100.0 (should be 100)\n",
      "\n",
      "(\"After update: {'DevOps': 22.2, 'Tests (SAT)': 22.2, 'Machine Learning': \"\n",
      " \"22.2, 'Cats': 23.4, 'Random': 10}\")\n"
     ]
    }
   ],
   "source": [
    "# Simulate user actions\n",
    "pprint(f\"Before update: {carl_interests}\")\n",
    "\n",
    "watch_video_and_update_weight(\n",
    "    carl_interests, \"Cats\", liked=True, watched=True, shared=True, loop_count=10\n",
    ")\n",
    "\n",
    "pprint(f\"After update: {carl_interests}\")"
   ]
  },
  {
   "cell_type": "code",
   "execution_count": 8,
   "metadata": {},
   "outputs": [
    {
     "name": "stdout",
     "output_type": "stream",
     "text": [
      "__________________________________________________\n",
      "\n",
      "Random value: 90.0\n",
      "\n",
      "'Checking interest: DevOps, cumulative range: 0.0 - 22.2'\n",
      "'Checking interest: Tests (SAT), cumulative range: 22.2 - 44.4'\n",
      "'Checking interest: Machine Learning, cumulative range: 44.4 - 66.6'\n",
      "'Checking interest: Cats, cumulative range: 66.6 - 90.0'\n",
      "\n",
      "Selected interest: Cats\n",
      "\n"
     ]
    }
   ],
   "source": [
    "# Simulate algorithm picking the next video to recommend via tag\n",
    "selected_interest = get_random_tag_for_recommendation(carl_interests)"
   ]
  },
  {
   "cell_type": "code",
   "execution_count": 40,
   "metadata": {},
   "outputs": [],
   "source": [
    "import pandas as pd\n",
    "from pprint import pprint\n",
    "import chromadb\n",
    "\n",
    "# Set the URL and initialize ChromaDB client\n",
    "url = \"https://docs.google.com/spreadsheets/d/e/2PACX-1vSAE2tBAnAdXsxk9a9YClFN7MSEVhzEmJD01ewwtooMLxL-Ilod26EbdD8sZeZk0ybiqD-jqT-9RZbn/pub?gid=497214901&single=true&output=csv\"\n",
    "chroma_client = chromadb.Client()\n",
    "\n",
    "# Read the CSV file into a DataFrame\n",
    "df = pd.read_csv(url)\n",
    "# Limit the DataFrame to the first 10 rows\n",
    "df = df.head(10)\n",
    "\n",
    "def prepare_documents(url):\n",
    "    # Convert the 'tags' column to a list of strings\n",
    "    documents = df[\"tags\"].apply(lambda x: x.split(\",\")).tolist()\n",
    "    documents_str = [\", \".join(doc) for doc in documents]\n",
    "\n",
    "    return documents_str\n",
    "\n",
    "def get_recommendations(query, documents):\n",
    "    # Initialize ChromaDB collection\n",
    "    collection = chroma_client.get_or_create_collection(name=\"my_collection\")\n",
    "\n",
    "    # Add the documents to the collection\n",
    "    ids = [str(i+1) for i in range(len(documents))]\n",
    "    collection.upsert(documents=documents, ids=ids)\n",
    "\n",
    "    # Query the collection\n",
    "    results = collection.query(query_texts=[query], n_results=10)\n",
    "\n",
    "    # Print the results\n",
    "    pprint(results)\n",
    "\n",
    "    # Get the ID of the first result\n",
    "    result_id = int(results['ids'][0][0])\n",
    "\n",
    "    # Get the title corresponding to the ID\n",
    "    title = df.loc[df['video_id'] == result_id, 'video_title'].values[0]\n",
    "\n",
    "    return title"
   ]
  },
  {
   "cell_type": "code",
   "execution_count": 41,
   "metadata": {},
   "outputs": [
    {
     "name": "stdout",
     "output_type": "stream",
     "text": [
      "Selected Interest = Cats\n",
      "\n"
     ]
    },
    {
     "name": "stdout",
     "output_type": "stream",
     "text": [
      "{'data': None,\n",
      " 'distances': [[1.6762529611587524,\n",
      "                1.713335633277893,\n",
      "                1.7914196252822876,\n",
      "                1.7973018884658813,\n",
      "                1.8210651874542236,\n",
      "                1.8309388160705566,\n",
      "                1.8676985502243042,\n",
      "                1.8740798234939575,\n",
      "                1.9057185649871826,\n",
      "                1.945681095123291]],\n",
      " 'documents': [['Python,  Dictionaries,  Tutorial,  Data Structures,  '\n",
      "                'Programming',\n",
      "                'Python,  Pandas,  Data Analysis,  CSV,  File Parsing',\n",
      "                'Linear equations,  NumPy,  Mathematics,  Solving,  Array',\n",
      "                'Python,  Logical Operators,  Basics,  Array,  Video Tutorial',\n",
      "                'Sorting algorithms,  Quick sort,  Python programming,  '\n",
      "                'Algorithm explanation',\n",
      "                'linear regression,  Python,  introduction,  data analysis,  '\n",
      "                'machine learning',\n",
      "                'Python,  List Comprehensions,  Quick Guide,  Programming,  '\n",
      "                'Python Basics',\n",
      "                'Statistics,  Probability distributions,  Data analysis,  '\n",
      "                'Mathematics',\n",
      "                'data visualization,  matplotlib,  quick start',\n",
      "                \"Bayes' Theorem,  Real-World Examples,  Probability,  \"\n",
      "                'Statistics,  Data Analysis']],\n",
      " 'embeddings': None,\n",
      " 'ids': [['4', '9', '5', '8', '10', '1', '3', '7', '6', '2']],\n",
      " 'metadatas': [[None, None, None, None, None, None, None, None, None, None]],\n",
      " 'uris': None}\n",
      "Up next: How to Use Dictionaries in Python\n"
     ]
    }
   ],
   "source": [
    "print(f\"Selected Interest = {selected_interest}\\n\")\n",
    "\n",
    "# Prepare documents and call the function with a query\n",
    "edgur_test_data = prepare_documents(url)\n",
    "recommended_video = get_recommendations(selected_interest, edgur_test_data)\n",
    "\n",
    "print(f\"Up next: {recommended_video}\")"
   ]
  },
  {
   "cell_type": "markdown",
   "metadata": {},
   "source": []
  },
  {
   "cell_type": "markdown",
   "metadata": {},
   "source": [
    "# User swipes to next video"
   ]
  },
  {
   "cell_type": "code",
   "execution_count": 42,
   "metadata": {},
   "outputs": [
    {
     "name": "stdout",
     "output_type": "stream",
     "text": [
      "\n",
      "Updating weights for video tag: Python\n",
      "Total points to add: 0.1\n",
      "Added new interest Python with initial weight: 5\n",
      "Total weight to deduct from other interests: 5\n",
      "Total deductable weight (excluding 'Random' and Python): 90.0\n",
      "\n",
      "'Deducted 1.2333333333333332 from DevOps, new weight: 20.966666666666665'\n",
      "'Deducted 1.2333333333333332 from Tests (SAT), new weight: 20.966666666666665'\n",
      "('Deducted 1.2333333333333332 from Machine Learning, new weight: '\n",
      " '20.966666666666665')\n",
      "'Deducted 1.2999999999999998 from Cats, new weight: 22.099999999999998'\n",
      "Total weight after update: 100.0 (should be 100)\n",
      "\n",
      "__________________________________________________\n",
      "\n",
      "Random value: 22.0\n",
      "\n",
      "'Checking interest: DevOps, cumulative range: 0.0 - 20.966666666666665'\n",
      "('Checking interest: Tests (SAT), cumulative range: 20.966666666666665 - '\n",
      " '41.93333333333333')\n",
      "\n",
      "Selected interest: Tests (SAT)\n",
      "\n",
      "{'data': None,\n",
      " 'distances': [[1.3169050216674805,\n",
      "                1.3815304040908813,\n",
      "                1.419775128364563,\n",
      "                1.4221547842025757,\n",
      "                1.5603305101394653,\n",
      "                1.5950998067855835,\n",
      "                1.6243172883987427,\n",
      "                1.6363420486450195,\n",
      "                1.648553729057312,\n",
      "                1.8127609491348267]],\n",
      " 'documents': [['Statistics,  Probability distributions,  Data analysis,  '\n",
      "                'Mathematics',\n",
      "                \"Bayes' Theorem,  Real-World Examples,  Probability,  \"\n",
      "                'Statistics,  Data Analysis',\n",
      "                'Python,  List Comprehensions,  Quick Guide,  Programming,  '\n",
      "                'Python Basics',\n",
      "                'Python,  Logical Operators,  Basics,  Array,  Video Tutorial',\n",
      "                'Linear equations,  NumPy,  Mathematics,  Solving,  Array',\n",
      "                'Sorting algorithms,  Quick sort,  Python programming,  '\n",
      "                'Algorithm explanation',\n",
      "                'Python,  Pandas,  Data Analysis,  CSV,  File Parsing',\n",
      "                'linear regression,  Python,  introduction,  data analysis,  '\n",
      "                'machine learning',\n",
      "                'Python,  Dictionaries,  Tutorial,  Data Structures,  '\n",
      "                'Programming',\n",
      "                'data visualization,  matplotlib,  quick start']],\n",
      " 'embeddings': None,\n",
      " 'ids': [['7', '2', '3', '8', '5', '10', '9', '1', '4', '6']],\n",
      " 'metadatas': [[None, None, None, None, None, None, None, None, None, None]],\n",
      " 'uris': None}\n",
      "Up next: Understanding Probability Distributions in Statistics\n"
     ]
    }
   ],
   "source": [
    "watch_video_and_update_weight(carl_interests, \"Python\", liked=True)\n",
    "selected_interest = get_random_tag_for_recommendation(carl_interests)\n",
    "recommended_video = get_recommendations(selected_interest, edgur_test_data)\n",
    "\n",
    "print(f\"Up next: {recommended_video}\")"
   ]
  },
  {
   "cell_type": "markdown",
   "metadata": {},
   "source": [
    "______"
   ]
  },
  {
   "cell_type": "code",
   "execution_count": 12,
   "metadata": {},
   "outputs": [],
   "source": [
    "# remove video from queue (or mark as watched)\n",
    "    # ID not title to handle duplicates"
   ]
  },
  {
   "cell_type": "code",
   "execution_count": 13,
   "metadata": {},
   "outputs": [],
   "source": [
    "# random.choice tag from selected video\n",
    "    # run weights thing all over again"
   ]
  },
  {
   "cell_type": "code",
   "execution_count": null,
   "metadata": {},
   "outputs": [],
   "source": [
    "# clustering preprocess\n",
    "    # https://www.datacamp.com/tutorial/introduction-to-text-embeddings-with-the-open-ai-api"
   ]
  },
  {
   "cell_type": "code",
   "execution_count": null,
   "metadata": {},
   "outputs": [],
   "source": []
  },
  {
   "cell_type": "code",
   "execution_count": null,
   "metadata": {},
   "outputs": [],
   "source": [
    "# if no categories select\n",
    "    # random = 10\n",
    "    # UI for sliders\n",
    "\n"
   ]
  },
  {
   "cell_type": "code",
   "execution_count": null,
   "metadata": {},
   "outputs": [],
   "source": [
    "# decay top 10 interests\n",
    "\n"
   ]
  },
  {
   "cell_type": "code",
   "execution_count": null,
   "metadata": {},
   "outputs": [],
   "source": [
    "# After 10 swipes, show the category selection card"
   ]
  }
 ],
 "metadata": {
  "kernelspec": {
   "display_name": "Python 3",
   "language": "python",
   "name": "python3"
  },
  "language_info": {
   "codemirror_mode": {
    "name": "ipython",
    "version": 3
   },
   "file_extension": ".py",
   "mimetype": "text/x-python",
   "name": "python",
   "nbconvert_exporter": "python",
   "pygments_lexer": "ipython3",
   "version": "3.11.9"
  }
 },
 "nbformat": 4,
 "nbformat_minor": 2
}
