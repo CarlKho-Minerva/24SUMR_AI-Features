{
 "cells": [
  {
   "cell_type": "markdown",
   "metadata": {},
   "source": [
    "___\n",
    "# User Interest Algorithm\n"
   ]
  },
  {
   "cell_type": "code",
   "execution_count": 24,
   "metadata": {},
   "outputs": [],
   "source": [
    "import random\n",
    "import pandas as pd\n",
    "import chromadb\n",
    "\n",
    "from pprint import pprint\n",
    "from chromadb.utils import embedding_functions\n",
    "\n",
    "# Constants\n",
    "\n",
    "NEW_VIDEO_WEIGHT = 10\n",
    "STARTING_WEIGHT = 10\n",
    "\n",
    "USER_MIN_INTEREST = 4\n",
    "USER_MAX_INTEREST = 8\n",
    "\n",
    "# Number of vids to queue before running query again (to save costs)\n",
    "COUNT_QUEUED_VIDEOS = 5\n",
    "    # AKA n_results = 3\n",
    "\n",
    "# User Actions\n",
    "LIKE = 1\n",
    "SHARE = 2\n",
    "WATCH = 1  # more than 50% of total duration\n",
    "LOOP = 1\n",
    "\n",
    "# AI-Related Constants\n",
    "OPENAI_API_KEY = \"\"\n",
    "OPENAI_EmbeddingModel = \"text-embedding-3-small\""
   ]
  },
  {
   "cell_type": "code",
   "execution_count": 25,
   "metadata": {},
   "outputs": [],
   "source": [
    "\n",
    "chroma_client = chromadb.PersistentClient(path=\"db\")\n",
    "\n",
    "# Use OpenAI as the embedding model (word to vector)\n",
    "OPENAI_EF = embedding_functions.OpenAIEmbeddingFunction(\n",
    "                api_key=OPENAI_API_KEY,\n",
    "                model_name=OPENAI_EmbeddingModel\n",
    "            )\n",
    "\n",
    "# Create a vectorstore database and use Cosine Similarity for semantic search within the DB\n",
    "collection = chroma_client.get_or_create_collection(\n",
    "    name=\"Edgur_Video_DB_Vectorstore\",\n",
    "    embedding_function=OPENAI_EF,\n",
    "    metadata={\"hnsw:space\": \"cosine\"},\n",
    ")\n",
    "\n"
   ]
  },
  {
   "cell_type": "code",
   "execution_count": 26,
   "metadata": {},
   "outputs": [
    {
     "name": "stdout",
     "output_type": "stream",
     "text": [
      "Number of documents that can be inserted at once:  41666\n"
     ]
    }
   ],
   "source": [
    "print(\"Number of documents that can be inserted at once: \", chroma_client.max_batch_size)"
   ]
  },
  {
   "cell_type": "code",
   "execution_count": 27,
   "metadata": {},
   "outputs": [],
   "source": [
    "def DebugPrint(msg, function_name):\n",
    "    print(\"START ------- DEBUG (INFUNC):\", function_name, \"\\n\")\n",
    "    pprint(msg)\n",
    "    print(\"\\nEND ------- DEBUG (INFUNC):\", function_name, \"\\n\\n\\n\")"
   ]
  },
  {
   "cell_type": "code",
   "execution_count": 28,
   "metadata": {},
   "outputs": [],
   "source": [
    "def create_user_interest_dict(user_interest_list):\n",
    "    if len(user_interest_list) < USER_MIN_INTEREST:\n",
    "        raise ValueError(\"You must have at least 4 interests\")\n",
    "    elif len(user_interest_list) > USER_MAX_INTEREST:\n",
    "        raise ValueError(\"You may have 8 interests at most\")\n",
    "\n",
    "    user_dict_interest = {interest: STARTING_WEIGHT for interest in user_interest_list}\n",
    "    user_dict_interest[\"Random\"] = STARTING_WEIGHT\n",
    "\n",
    "    DebugPrint(user_dict_interest, \"create_user_interest_dict\")\n",
    "\n",
    "    return user_dict_interest"
   ]
  },
  {
   "cell_type": "code",
   "execution_count": 29,
   "metadata": {},
   "outputs": [],
   "source": [
    "def observe_action_taken(\n",
    "    interest_tag, liked=False, shared=False, watched=False, loop_count=0\n",
    "):\n",
    "    \"\"\"\n",
    "    This function calculates the total points based on the user's actions.\n",
    "\n",
    "    Parameters:\n",
    "    interest_tag (str): The tag of the video.\n",
    "    liked (bool): Whether the user liked the video.\n",
    "    shared (bool): Whether the user shared the video.\n",
    "    watched (bool): Whether the user watched the video.\n",
    "    loop_count (int): The number of times the user looped the video.\n",
    "\n",
    "    Returns:\n",
    "    float: The total points calculated based on the user's actions.\n",
    "    \"\"\"\n",
    "    # Actions and their corresponding points to add\n",
    "    Actions = {\n",
    "        \"LIKE\": LIKE,\n",
    "        \"SHARE\": SHARE,\n",
    "        \"WATCH\": WATCH,  # more than 50% of total duration\n",
    "        \"LOOP\": LOOP,\n",
    "    }\n",
    "\n",
    "    total_action_points = 0\n",
    "\n",
    "    if liked:\n",
    "        total_action_points += Actions[\"LIKE\"]\n",
    "    if shared:\n",
    "        total_action_points += Actions[\"SHARE\"]\n",
    "    if watched:\n",
    "        total_action_points += Actions[\"WATCH\"]\n",
    "    total_action_points += loop_count * Actions[\"LOOP\"]\n",
    "\n",
    "    # DebugPrint(\"Updating weights for interest: {}. Total points to add: {} (10 if new interest).\".format(interest_tag, total_action_points), \"observe_action_taken()\")\n",
    "\n",
    "    return total_action_points"
   ]
  },
  {
   "cell_type": "code",
   "execution_count": 30,
   "metadata": {},
   "outputs": [],
   "source": [
    "# observe_action_taken(chosen_interest_tag, liked=True, shared=True, watched=True, loop_count=1)"
   ]
  },
  {
   "cell_type": "code",
   "execution_count": 31,
   "metadata": {},
   "outputs": [],
   "source": [
    "def recalculate_percentages(user_dict_interest):\n",
    "    \"\"\"\n",
    "    Recalculate the percentage of each interest relative to the total weight.\n",
    "    \"\"\"\n",
    "    total_weight = sum(user_dict_interest.values())\n",
    "\n",
    "    user_dict_percentage = {}\n",
    "\n",
    "    for interest_tag, weight in user_dict_interest.items():\n",
    "        user_dict_percentage[interest_tag] = round((weight / total_weight) * 100, 2)\n",
    "\n",
    "    DebugPrint(user_dict_percentage, \"recalculate_percentages (%)\")\n",
    "    return user_dict_percentage"
   ]
  },
  {
   "cell_type": "code",
   "execution_count": 32,
   "metadata": {},
   "outputs": [],
   "source": [
    "# recalculate_percentages(create_user_interest_dict(user1_interests))"
   ]
  },
  {
   "cell_type": "code",
   "execution_count": 33,
   "metadata": {},
   "outputs": [],
   "source": [
    "def handle_interruptions(user_dict_percentage):\n",
    "    \"\"\"\n",
    "    Handle intentional interruptions and suggest relevant interests (50% dominance) or recommend more of the same interest.\n",
    "\n",
    "    Parameters:\n",
    "    user_dict_percentage (dict): A dictionary where keys are interest tags and values are their percentages.\n",
    "    \"\"\"\n",
    "    # Get the interest with the highest percentage\n",
    "    interest_tag, interest_percentage = max(user_dict_percentage.items(), key=lambda item: item[1])\n",
    "\n",
    "    if interest_percentage > 75:\n",
    "        print(f\"Have you been enjoying {interest_tag} so far?\")\n",
    "        response = input()  # Get user's response\n",
    "        if response.lower() == \"yes\":\n",
    "            print(\"Recommend less of the same interest.\")\n",
    "            # Add checkbox code to recommend more videos of the same interest\n",
    "\n",
    "    elif interest_percentage > 50:\n",
    "        print(\"Suggesting relevant interests...\")\n",
    "        # Add slider code\n",
    "\n",
    "    DebugPrint(\"The highest tag is {}. It dominates the interest weights by {}%.\".format(interest_tag, interest_percentage), \"handle_interruptions\")\n"
   ]
  },
  {
   "cell_type": "code",
   "execution_count": 34,
   "metadata": {},
   "outputs": [],
   "source": [
    "# handle_interruptions(recalculate_percentages(create_user_interest_dict(user1_interests)))"
   ]
  },
  {
   "cell_type": "code",
   "execution_count": 35,
   "metadata": {},
   "outputs": [],
   "source": [
    "def note_actions_and_update_weights(\n",
    "    user_dict_interest,\n",
    "    interest_tag,\n",
    "    liked=False,\n",
    "    shared=False,\n",
    "    watched=False,\n",
    "    loop_count=0,\n",
    "):\n",
    "    TOTAL_ACTION_POINTS = observe_action_taken(\n",
    "        interest_tag, liked, shared, watched, loop_count\n",
    "    )\n",
    "\n",
    "    # Update raw weights\n",
    "    if interest_tag in user_dict_interest:\n",
    "        print(\"Updating weights for interest: {}. Total points to add: {}.\".format(interest_tag, TOTAL_ACTION_POINTS))\n",
    "        user_dict_interest[interest_tag] += TOTAL_ACTION_POINTS\n",
    "        print(\"Updated weight for interest: {}. New weight: {}.\".format(interest_tag, user_dict_interest[interest_tag]))\n",
    "    else:\n",
    "        print(\"Adding new interest: {}. Total points to add: 10 (default).\".format(interest_tag, TOTAL_ACTION_POINTS))\n",
    "        user_dict_interest[interest_tag] = STARTING_WEIGHT\n",
    "        print(\"Added new interest: {}. Weight: {}.\".format(interest_tag, user_dict_interest[interest_tag]))\n",
    "\n",
    "    # Recalculate percentages\n",
    "    user_dict_percentage = recalculate_percentages(user_dict_interest)\n",
    "\n",
    "    # Handle interruptions\n",
    "    handle_interruptions(user_dict_percentage)\n",
    "\n",
    "    # Sort the interests (\"key=item[1]\") by weight in descending order and keep only the top 10\n",
    "    user_dict_interest = dict(\n",
    "        sorted(user_dict_interest.items(), key=lambda item: item[1], reverse=True)[:10]\n",
    "    )\n",
    "\n",
    "    return user_dict_interest"
   ]
  },
  {
   "cell_type": "code",
   "execution_count": 36,
   "metadata": {},
   "outputs": [],
   "source": [
    "# updated_user1_dict = note_actions_and_update_weights(create_user_interest_dict(user1_interests), \"Dogs\", liked=True, shared=True, watched=True, loop_count=1)"
   ]
  },
  {
   "cell_type": "code",
   "execution_count": 37,
   "metadata": {},
   "outputs": [],
   "source": [
    "def get_interest_tag_for_recommendation(user_dict_interest):\n",
    "    # Recalculate percentages\n",
    "    user_dict_percentage = recalculate_percentages(user_dict_interest)\n",
    "\n",
    "    # Generate a random number between 0 and 100\n",
    "    random_value = random.randint(0, 100)\n",
    "\n",
    "    print(\"_\" * 50)\n",
    "    print(f\"\\nRandom value: {random_value}\\n\")\n",
    "\n",
    "    cumulative_percentage = 0\n",
    "\n",
    "    print(\"Based on User_Dictionary_Percentage (%)\\n\")\n",
    "\n",
    "    for interest_tag, percentage in user_dict_percentage.items():\n",
    "        # Save the starting point of the current tag's range (in percentage)\n",
    "        previous_cumulative_percentage = cumulative_percentage\n",
    "\n",
    "        # Add the tag's percentage to the cumulative total to get the end point of the tag's range\n",
    "        cumulative_percentage += percentage\n",
    "\n",
    "        print(f\"Checking interest: {interest_tag}, cumulative range: {int(previous_cumulative_percentage)} - {int(cumulative_percentage)}\")\n",
    "\n",
    "        # If the random value is less than or equal to the cumulative percentage up to the current interest,\n",
    "        # select the current interest and stop looking at the rest of the interests.\n",
    "        if random_value <= cumulative_percentage:\n",
    "            print(f\"\\nSelected interest: {interest_tag}\\n\")\n",
    "            break\n",
    "\n",
    "    if interest_tag == \"Random\":\n",
    "        interest_tag = random.choice(list(user_dict_percentage.keys()))\n",
    "        print(f\"!!Random!! tag selected: {interest_tag}\")\n",
    "        print(\"MODIFY THIS LATER TO POINT TO CSV COLUMN\")\n",
    "        return interest_tag\n",
    "\n",
    "    DebugPrint('Chosen interest tag: \"{}\"'.format(interest_tag), \"get_interest_tag_for_recommendation()\")\n",
    "    return interest_tag"
   ]
  },
  {
   "cell_type": "markdown",
   "metadata": {},
   "source": [
    "___\n",
    "# Ranking Algorithm\n"
   ]
  },
  {
   "cell_type": "code",
   "execution_count": 38,
   "metadata": {},
   "outputs": [],
   "source": [
    "# Function for adding new rows to the collection\n",
    "\n",
    "# Convert the 'tags' column to a list of strings (grouped according to its respective row)\n",
    "def add_or_update_ChromaDB_rows():\n",
    "    documents = df[\"tags\"].apply(lambda x: x.split(\",\")).tolist()\n",
    "    documents_str = [\", \".join(doc) for doc in documents]\n",
    "\n",
    "    # Add the documents to the collection\n",
    "    # todo: handle UUIDs\n",
    "    ids = [str(i + 1) for i in range(len(documents_str))]\n",
    "\n",
    "    # Add new rows to the collection\n",
    "    collection.upsert(documents=documents_str, ids=ids)\n",
    "\n",
    "    DebugPrint(\"Added new rows to the collection.\", \"add_new_rows()\")"
   ]
  },
  {
   "cell_type": "code",
   "execution_count": 39,
   "metadata": {},
   "outputs": [],
   "source": [
    "# add_new_rows()"
   ]
  },
  {
   "cell_type": "code",
   "execution_count": 40,
   "metadata": {},
   "outputs": [],
   "source": [
    "# Functions handling the watched videos dictionary\n",
    "\n",
    "def mark_as_watched(video_id, title, watched_dict):\n",
    "    watched_dict[video_id] = title\n",
    "    DebugPrint('\"{}\" with ID {} has been added to watched videos.'.format(title, video_id), \"mark_as_watched\")\n",
    "    return watched_dict\n",
    "\n",
    "def show_video_again(video_id, title, watched_dict):\n",
    "    watched_dict.pop(video_id)\n",
    "    DebugPrint('\"{}\" with ID {} has been removed from watched videos. It will be played again on algorithm match.'.format(title, video_id), \"show_video_again\")\n",
    "    return watched_dict"
   ]
  },
  {
   "cell_type": "code",
   "execution_count": 41,
   "metadata": {},
   "outputs": [],
   "source": [
    "# mark_as_watched(\"1\", \"Dictionaries\", watched)\n",
    "# show_video_again(\"1\", \"Dictionaries\", watched)"
   ]
  },
  {
   "cell_type": "code",
   "execution_count": 42,
   "metadata": {},
   "outputs": [],
   "source": [
    "# Function to add videos to the queue\n",
    "def add_to_queue(interest_tag, n_results=5):\n",
    "\n",
    "    original_interest_tag = interest_tag  # Save the original interest tag\n",
    "\n",
    "    # Use ChromaDB to query top 5 videos closest to given interest\n",
    "    results = collection.query(query_texts=[interest_tag], n_results=n_results)\n",
    "    DebugPrint('Queried top {} videos for tag \"{}\"'.format(n_results, interest_tag), \"add_to_queue\")\n",
    "\n",
    "    # Check if there are not enough results for the given interest tag\n",
    "    if len(results[\"ids\"][0]) < n_results:\n",
    "        print(f\"Not enough results for interest tag '{interest_tag}'. Needed {n_results}, but got {len(results['ids'][0])}.\")\n",
    "        print(\"Algorithm set to Random mode.\")\n",
    "        interest_tag = \"Random\"\n",
    "        watched.clear()\n",
    "        results = collection.query(query_texts=[interest_tag], n_results=n_results)\n",
    "\n",
    "    # If more videos are added, remove the \"Random\" mode\n",
    "    if len(results[\"ids\"][0]) > n_results:\n",
    "        print(\"More videos added. Removing Random mode.\")\n",
    "        interest_tag = original_interest_tag\n",
    "        results = collection.query(query_texts=[interest_tag], n_results=n_results)\n",
    "\n",
    "    # Add the videos to the queue\n",
    "    for i in range(n_results):\n",
    "        result_id = int(results[\"ids\"][0][i])\n",
    "        title = df.loc[df[\"video_id\"] == result_id, \"video_title\"].values[0]\n",
    "        tag = (\n",
    "            df.loc[df[\"video_id\"] == result_id, \"tags\"].values[0].split(\",\")[0]\n",
    "        )  # get the first tag\n",
    "\n",
    "        # Check if the video has already been watched by user\n",
    "        if result_id not in watched:\n",
    "            queue[result_id] = tag\n",
    "            print(\n",
    "                f'Added \"{title}\" with ID {result_id} and tag \"{tag}\" to the queue'\n",
    "            )  # Debugging line\n",
    "\n",
    "    return queue"
   ]
  },
  {
   "cell_type": "code",
   "execution_count": 43,
   "metadata": {},
   "outputs": [],
   "source": [
    "def view_video(queue, user_dict_interest, watched_dict):\n",
    "    if not queue:\n",
    "        print(\"Queue is empty! Adding more videos...\")\n",
    "        new_interest_tag = get_interest_tag_for_recommendation(user_dict_interest)\n",
    "        add_to_queue(new_interest_tag, COUNT_QUEUED_VIDEOS)\n",
    "\n",
    "\n",
    "    video_id, interest_tag = next(iter(queue.items()))\n",
    "    del queue[video_id]\n",
    "    title = df.loc[df[\"video_id\"] == video_id, \"video_title\"].values[0]\n",
    "    mark_as_watched(video_id, title, watched_dict)\n",
    "    note_actions_and_update_weights(user_dict_interest, interest_tag, liked=True, watched=True)\n",
    "\n",
    "    if len(queue) <= 2:\n",
    "        print(\"\\n2 cached videos left. \\nAdding more videos to the queue...\\n\")\n",
    "        new_interest_tag = get_interest_tag_for_recommendation(user_dict_interest)\n",
    "        add_to_queue(new_interest_tag, COUNT_QUEUED_VIDEOS)\n",
    "\n",
    "    DebugPrint(\"Viewed video: {}. Queue: {}. Watched: {}\".format(title, queue, watched_dict), \"view_video\")\n",
    "    return queue"
   ]
  },
  {
   "cell_type": "code",
   "execution_count": null,
   "metadata": {},
   "outputs": [],
   "source": []
  },
  {
   "cell_type": "code",
   "execution_count": 44,
   "metadata": {},
   "outputs": [
    {
     "ename": "NameError",
     "evalue": "name 'df' is not defined",
     "output_type": "error",
     "traceback": [
      "\u001b[0;31m---------------------------------------------------------------------------\u001b[0m",
      "\u001b[0;31mNameError\u001b[0m                                 Traceback (most recent call last)",
      "Cell \u001b[0;32mIn[44], line 8\u001b[0m\n\u001b[1;32m      5\u001b[0m queue \u001b[38;5;241m=\u001b[39m {}  \u001b[38;5;66;03m# should be in class\u001b[39;00m\n\u001b[1;32m      6\u001b[0m watched \u001b[38;5;241m=\u001b[39m {}  \u001b[38;5;66;03m# Should be in a class\u001b[39;00m\n\u001b[0;32m----> 8\u001b[0m \u001b[43madd_or_update_ChromaDB_rows\u001b[49m\u001b[43m(\u001b[49m\u001b[43m)\u001b[49m\n\u001b[1;32m      9\u001b[0m new_user_dict \u001b[38;5;241m=\u001b[39m create_user_interest_dict(user1_interests)\n\u001b[1;32m     11\u001b[0m n \u001b[38;5;241m=\u001b[39m \u001b[38;5;241m20\u001b[39m  \u001b[38;5;66;03m# Replace with the number of times you want to run the simulation\u001b[39;00m\n",
      "Cell \u001b[0;32mIn[38], line 5\u001b[0m, in \u001b[0;36madd_or_update_ChromaDB_rows\u001b[0;34m()\u001b[0m\n\u001b[1;32m      4\u001b[0m \u001b[38;5;28;01mdef\u001b[39;00m \u001b[38;5;21madd_or_update_ChromaDB_rows\u001b[39m():\n\u001b[0;32m----> 5\u001b[0m     documents \u001b[38;5;241m=\u001b[39m \u001b[43mdf\u001b[49m[\u001b[38;5;124m\"\u001b[39m\u001b[38;5;124mtags\u001b[39m\u001b[38;5;124m\"\u001b[39m]\u001b[38;5;241m.\u001b[39mapply(\u001b[38;5;28;01mlambda\u001b[39;00m x: x\u001b[38;5;241m.\u001b[39msplit(\u001b[38;5;124m\"\u001b[39m\u001b[38;5;124m,\u001b[39m\u001b[38;5;124m\"\u001b[39m))\u001b[38;5;241m.\u001b[39mtolist()\n\u001b[1;32m      6\u001b[0m     documents_str \u001b[38;5;241m=\u001b[39m [\u001b[38;5;124m\"\u001b[39m\u001b[38;5;124m, \u001b[39m\u001b[38;5;124m\"\u001b[39m\u001b[38;5;241m.\u001b[39mjoin(doc) \u001b[38;5;28;01mfor\u001b[39;00m doc \u001b[38;5;129;01min\u001b[39;00m documents]\n\u001b[1;32m      8\u001b[0m     \u001b[38;5;66;03m# Add the documents to the collection\u001b[39;00m\n\u001b[1;32m      9\u001b[0m     \u001b[38;5;66;03m# todo: handle UUIDs\u001b[39;00m\n",
      "\u001b[0;31mNameError\u001b[0m: name 'df' is not defined"
     ]
    }
   ],
   "source": [
    "# Simulation Only (replace user input)\n",
    "chosen_interest_tag = \"Dictionaries\"\n",
    "user1_interests = [\"DevOps\", \"Tests (SAT)\", \"Machine Learning\", \"Dogs\"] # count: 4\n",
    "\n",
    "queue = {}  # should be in class\n",
    "watched = {}  # Should be in a class\n",
    "\n",
    "add_or_update_ChromaDB_rows()\n",
    "new_user_dict = create_user_interest_dict(user1_interests)\n",
    "\n",
    "n = 20  # Replace with the number of times you want to run the simulation\n",
    "for _ in range(n):\n",
    "    view_video(queue, new_user_dict, watched)"
   ]
  },
  {
   "cell_type": "code",
   "execution_count": null,
   "metadata": {},
   "outputs": [],
   "source": [
    "# Frontend implementation scope\n",
    "    # ACTIONS: Watched and Likes only\n",
    "        # Watched when 70%\n",
    "\n",
    "# Backend robustness (view_video())\n",
    "    # If len queue still 0, then cache 5 random videos (even in marked as watched)"
   ]
  },
  {
   "cell_type": "code",
   "execution_count": null,
   "metadata": {},
   "outputs": [],
   "source": [
    "# Update relative calculation (100)\n",
    "\n",
    "# User schema\n",
    "    # Dict of Interests\n",
    "    # Dict `watched`\n",
    "    # Dict `queue`\n",
    "\n",
    "# Research Relational database\n",
    "    # Tables how do we store?"
   ]
  },
  {
   "cell_type": "code",
   "execution_count": null,
   "metadata": {},
   "outputs": [],
   "source": []
  },
  {
   "cell_type": "code",
   "execution_count": null,
   "metadata": {},
   "outputs": [],
   "source": []
  }
 ],
 "metadata": {
  "kernelspec": {
   "display_name": "Python 3",
   "language": "python",
   "name": "python3"
  },
  "language_info": {
   "codemirror_mode": {
    "name": "ipython",
    "version": 3
   },
   "file_extension": ".py",
   "mimetype": "text/x-python",
   "name": "python",
   "nbconvert_exporter": "python",
   "pygments_lexer": "ipython3",
   "version": "3.11.9"
  }
 },
 "nbformat": 4,
 "nbformat_minor": 2
}
