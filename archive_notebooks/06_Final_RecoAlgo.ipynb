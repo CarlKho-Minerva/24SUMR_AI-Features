{
 "cells": [
  {
   "cell_type": "markdown",
   "metadata": {},
   "source": [
    "_____\n",
    "# MAIN SIM"
   ]
  },
  {
   "cell_type": "code",
   "execution_count": 1,
   "metadata": {},
   "outputs": [],
   "source": [
    "from pprint import pprint\n",
    "import pandas as pd\n",
    "import random\n",
    "import chromadb\n",
    "from chromadb.utils import embedding_functions\n",
    "\n",
    "# Constants\n",
    "NEW_VIDEO_WEIGHT = 10\n",
    "STARTING_WEIGHT = 10\n",
    "\n",
    "LIKE = 1\n",
    "SHARE = 2\n",
    "WATCH = 1\n",
    "LOOP = 1\n",
    "\n",
    "USER_MIN_INTEREST = 4\n",
    "USER_MAX_INTEREST = 8\n",
    "COUNT_QUEUED_VIDEOS = 5\n",
    "\n",
    "# AI-Related Constants\n",
    "OPENAI_API_KEY = \"\"\n",
    "OPENAI_EMBEDDING_MODEL = \"text-embedding-3-small\""
   ]
  },
  {
   "cell_type": "code",
   "execution_count": 2,
   "metadata": {},
   "outputs": [],
   "source": [
    "# Initialize ChromaDB client and collection\n",
    "chroma_client = chromadb.PersistentClient(path=\"db\")\n",
    "openai_ef = embedding_functions.OpenAIEmbeddingFunction(\n",
    "    api_key=OPENAI_API_KEY,\n",
    "    model_name=OPENAI_EMBEDDING_MODEL\n",
    ")\n",
    "\n",
    "collection = chroma_client.get_or_create_collection(\n",
    "    name=\"Edgur_Video_DB_Vectorstore\",\n",
    "    embedding_function=openai_ef,\n",
    "    metadata={\"hnsw:space\": \"cosine\"},\n",
    ")\n",
    "\n",
    "# Load data from Google Sheets\n",
    "DB_URL = \"https://docs.google.com/spreadsheets/d/e/2PACX-1vSAE2tBAnAdXsxk9a9YClFN7MSEVhzEmJD01ewwtooMLxL-Ilod26EbdD8sZeZk0ybiqD-jqT-9RZbn/pub?gid=497214901&single=true&output=csv\"\n",
    "df = pd.read_csv(DB_URL)"
   ]
  },
  {
   "cell_type": "code",
   "execution_count": 3,
   "metadata": {},
   "outputs": [],
   "source": [
    "# Functions\n",
    "\n",
    "def create_user_interest_dict(user_interest_list):\n",
    "    if len(user_interest_list) < USER_MIN_INTEREST:\n",
    "        raise ValueError(\"You must have at least 4 interests\")\n",
    "    elif len(user_interest_list) > USER_MAX_INTEREST:\n",
    "        raise ValueError(\"You may have 8 interests at most\")\n",
    "\n",
    "    user_dict_interest = {interest: STARTING_WEIGHT for interest in user_interest_list}\n",
    "    user_dict_interest[\"Random\"] = STARTING_WEIGHT\n",
    "    return user_dict_interest\n",
    "\n",
    "def observe_action_taken(interest_tag, liked=False, shared=False, watched=False, loop_count=0):\n",
    "    Actions = {\"Like\": LIKE, \"Share\": SHARE, \"Watch\": WATCH, \"Loop\": LOOP}\n",
    "    total_action_points = 0\n",
    "    if liked:\n",
    "        total_action_points += Actions[\"Like\"]\n",
    "    if shared:\n",
    "        total_action_points += Actions[\"Share\"]\n",
    "    if watched:\n",
    "        total_action_points += Actions[\"Watch\"]\n",
    "    total_action_points += loop_count * Actions[\"Loop\"]\n",
    "    return total_action_points\n",
    "\n",
    "def recalculate_percentages(user_dict_interest):\n",
    "    total_weight = sum(user_dict_interest.values())\n",
    "    user_dict_percentage = {interest_tag: (weight / total_weight) * 100 for interest_tag, weight in user_dict_interest.items()}\n",
    "    return user_dict_percentage\n",
    "\n",
    "def handle_interruptions(user_dict_percentage):\n",
    "    interest_tag, interest_percentage = max(user_dict_percentage.items(), key=lambda item: item[1])\n",
    "    if interest_percentage > 75:\n",
    "        print(f\"Have you been enjoying {interest_tag} so far?\")\n",
    "        response = input()\n",
    "        if response.lower() == \"yes\":\n",
    "            print(\"Recommend less of the same interest.\")\n",
    "    elif interest_percentage > 50:\n",
    "        print(\"Suggesting relevant interests...\")\n",
    "    print(f\"The highest tag is {interest_tag}. It dominates the interest weights by {interest_percentage}%.\")\n",
    "\n",
    "def note_actions_and_update_weights(user_dict_interest, interest_tag, liked=False, shared=False, watched=False, loop_count=0):\n",
    "    total_action_points = observe_action_taken(interest_tag, liked, shared, watched, loop_count)\n",
    "    if interest_tag in user_dict_interest:\n",
    "        user_dict_interest[interest_tag] += total_action_points\n",
    "    else:\n",
    "        user_dict_interest[interest_tag] = STARTING_WEIGHT\n",
    "    user_dict_percentage = recalculate_percentages(user_dict_interest)\n",
    "    handle_interruptions(user_dict_percentage)\n",
    "    user_dict_interest = dict(sorted(user_dict_interest.items(), key=lambda item: item[1], reverse=True)[:10])\n",
    "    return user_dict_interest\n",
    "\n",
    "def get_interest_tag_for_recommendation(user_dict_interest):\n",
    "    user_dict_percentage = recalculate_percentages(user_dict_interest)\n",
    "    random_value = random.randint(0, 100)\n",
    "    cumulative_percentage = 0\n",
    "    for interest_tag, percentage in user_dict_percentage.items():\n",
    "        previous_cumulative_percentage = cumulative_percentage\n",
    "        cumulative_percentage += percentage\n",
    "        if random_value <= cumulative_percentage:\n",
    "            break\n",
    "    if interest_tag == \"Random\":\n",
    "        interest_tag = random.choice(list(user_dict_percentage.keys()))\n",
    "        return interest_tag\n",
    "    return interest_tag\n",
    "\n",
    "def add_to_watched(video_id, title, watched_dict):\n",
    "    watched_dict[video_id] = title\n",
    "    print(f'\"{title}\" with ID {video_id} has been added to watched videos.')\n",
    "    return watched_dict\n",
    "\n",
    "def show_to_user_again(video_id, title, watched_dict):\n",
    "    watched_dict.pop(video_id)\n",
    "    print(f'\"{title}\" with ID {video_id} will be shown to user again in the future.')\n",
    "    return watched_dict\n",
    "\n",
    "def add_to_queue(interest_tag, n_results=5):\n",
    "    results = collection.query(query_texts=[interest_tag], n_results=n_results)\n",
    "    print(f'Queried top {n_results} videos for tag \"{interest_tag}\"')\n",
    "    for i in range(n_results):\n",
    "        result_id = int(results[\"ids\"][0][i])\n",
    "        title = df.loc[df[\"video_id\"] == result_id, \"video_title\"].values[0]\n",
    "        tag = df.loc[df[\"video_id\"] == result_id, \"tags\"].values[0].split(',')[0]\n",
    "        if result_id not in watched:\n",
    "            queue[result_id] = tag\n",
    "            print(f'Added \"{title}\" with ID {result_id} and tag \"{tag}\" to the queue')\n",
    "    return queue\n",
    "\n",
    "def view_video(queue, user_dict_interest, watched_dict):\n",
    "    if not queue:\n",
    "        print(\"Queue is empty! Adding more videos...\")\n",
    "        new_interest_tag = get_interest_tag_for_recommendation(user_dict_interest)\n",
    "        add_to_queue(new_interest_tag, COUNT_QUEUED_VIDEOS)\n",
    "\n",
    "    video_id, interest_tag = next(iter(queue.items()))\n",
    "    del queue[video_id]\n",
    "    title = df.loc[df[\"video_id\"] == video_id, \"video_title\"].values[0]\n",
    "    add_to_watched(video_id, title, watched_dict)\n",
    "    note_actions_and_update_weights(user_dict_interest, interest_tag, liked=True, watched=True)\n",
    "    if len(queue) <= 2:\n",
    "        print(\"\\nAdding more videos to the queue...\\n\")\n",
    "        new_interest_tag = get_interest_tag_for_recommendation(user_dict_interest)\n",
    "        add_to_queue(new_interest_tag, COUNT_QUEUED_VIDEOS)\n",
    "    return queue"
   ]
  },
  {
   "cell_type": "code",
   "execution_count": 4,
   "metadata": {},
   "outputs": [],
   "source": [
    "# Main Simulation\n",
    "\n",
    "def main_simulation(user_interests, initial_interest_tag, num_iterations=5):\n",
    "\n",
    "    # Create a dictionary to store user interests\n",
    "    user_dict_interest = create_user_interest_dict(user_interests)\n",
    "    print(f\"Initial user interests: {user_dict_interest}\")\n",
    "\n",
    "    # Add the initial interest tag to the queue\n",
    "    queue = add_to_queue(initial_interest_tag)\n",
    "    print(f\"Initial queue: {queue}\")\n",
    "\n",
    "    # Iterate for the given number of iterations\n",
    "    for i in range(num_iterations):\n",
    "        print(f\"\\n=== Iteration {i+1} ===\")\n",
    "\n",
    "        # View the next video in the queue, update the queue, user interests, and watched videos\n",
    "        queue = view_video(queue, user_dict_interest, watched)\n",
    "\n",
    "        # Print the updated queue, user interests, and watched videos\n",
    "        print(f\"\\nUpdated Queue: {queue}\")\n",
    "        print(f\"Updated user interests: {user_dict_interest}\")\n",
    "        print(f\"Watched Videos: {watched}\")\n",
    "\n",
    "        print(\"\\n=========================\\n\")"
   ]
  },
  {
   "cell_type": "code",
   "execution_count": 5,
   "metadata": {},
   "outputs": [
    {
     "name": "stdout",
     "output_type": "stream",
     "text": [
      "Initial user interests: {'DevOps': 10, 'Tests (SAT)': 10, 'Machine Learning': 10, 'Cats': 10, 'Cooking': 10, 'Random': 10}\n",
      "Queried top 5 videos for tag \"Shiba\"\n"
     ]
    },
    {
     "ename": "NameError",
     "evalue": "name 'watched' is not defined",
     "output_type": "error",
     "traceback": [
      "\u001b[0;31m---------------------------------------------------------------------------\u001b[0m",
      "\u001b[0;31mNameError\u001b[0m                                 Traceback (most recent call last)",
      "Cell \u001b[0;32mIn[5], line 6\u001b[0m\n\u001b[1;32m      3\u001b[0m initial_interest_tag \u001b[38;5;241m=\u001b[39m \u001b[38;5;124m\"\u001b[39m\u001b[38;5;124mShiba\u001b[39m\u001b[38;5;124m\"\u001b[39m\n\u001b[1;32m      5\u001b[0m \u001b[38;5;66;03m# Run the main simulation\u001b[39;00m\n\u001b[0;32m----> 6\u001b[0m \u001b[43mmain_simulation\u001b[49m\u001b[43m(\u001b[49m\u001b[43muser_interests\u001b[49m\u001b[43m,\u001b[49m\u001b[43m \u001b[49m\u001b[43minitial_interest_tag\u001b[49m\u001b[43m,\u001b[49m\u001b[43m \u001b[49m\u001b[38;5;241;43m1\u001b[39;49m\u001b[43m)\u001b[49m\n",
      "Cell \u001b[0;32mIn[4], line 10\u001b[0m, in \u001b[0;36mmain_simulation\u001b[0;34m(user_interests, initial_interest_tag, num_iterations)\u001b[0m\n\u001b[1;32m      7\u001b[0m \u001b[38;5;28mprint\u001b[39m(\u001b[38;5;124mf\u001b[39m\u001b[38;5;124m\"\u001b[39m\u001b[38;5;124mInitial user interests: \u001b[39m\u001b[38;5;132;01m{\u001b[39;00muser_dict_interest\u001b[38;5;132;01m}\u001b[39;00m\u001b[38;5;124m\"\u001b[39m)\n\u001b[1;32m      9\u001b[0m \u001b[38;5;66;03m# Add the initial interest tag to the queue\u001b[39;00m\n\u001b[0;32m---> 10\u001b[0m queue \u001b[38;5;241m=\u001b[39m \u001b[43madd_to_queue\u001b[49m\u001b[43m(\u001b[49m\u001b[43minitial_interest_tag\u001b[49m\u001b[43m)\u001b[49m\n\u001b[1;32m     11\u001b[0m \u001b[38;5;28mprint\u001b[39m(\u001b[38;5;124mf\u001b[39m\u001b[38;5;124m\"\u001b[39m\u001b[38;5;124mInitial queue: \u001b[39m\u001b[38;5;132;01m{\u001b[39;00mqueue\u001b[38;5;132;01m}\u001b[39;00m\u001b[38;5;124m\"\u001b[39m)\n\u001b[1;32m     13\u001b[0m \u001b[38;5;66;03m# Iterate for the given number of iterations\u001b[39;00m\n",
      "Cell \u001b[0;32mIn[3], line 83\u001b[0m, in \u001b[0;36madd_to_queue\u001b[0;34m(interest_tag, n_results)\u001b[0m\n\u001b[1;32m     81\u001b[0m title \u001b[38;5;241m=\u001b[39m df\u001b[38;5;241m.\u001b[39mloc[df[\u001b[38;5;124m\"\u001b[39m\u001b[38;5;124mvideo_id\u001b[39m\u001b[38;5;124m\"\u001b[39m] \u001b[38;5;241m==\u001b[39m result_id, \u001b[38;5;124m\"\u001b[39m\u001b[38;5;124mvideo_title\u001b[39m\u001b[38;5;124m\"\u001b[39m]\u001b[38;5;241m.\u001b[39mvalues[\u001b[38;5;241m0\u001b[39m]\n\u001b[1;32m     82\u001b[0m tag \u001b[38;5;241m=\u001b[39m df\u001b[38;5;241m.\u001b[39mloc[df[\u001b[38;5;124m\"\u001b[39m\u001b[38;5;124mvideo_id\u001b[39m\u001b[38;5;124m\"\u001b[39m] \u001b[38;5;241m==\u001b[39m result_id, \u001b[38;5;124m\"\u001b[39m\u001b[38;5;124mtags\u001b[39m\u001b[38;5;124m\"\u001b[39m]\u001b[38;5;241m.\u001b[39mvalues[\u001b[38;5;241m0\u001b[39m]\u001b[38;5;241m.\u001b[39msplit(\u001b[38;5;124m'\u001b[39m\u001b[38;5;124m,\u001b[39m\u001b[38;5;124m'\u001b[39m)[\u001b[38;5;241m0\u001b[39m]\n\u001b[0;32m---> 83\u001b[0m \u001b[38;5;28;01mif\u001b[39;00m result_id \u001b[38;5;129;01mnot\u001b[39;00m \u001b[38;5;129;01min\u001b[39;00m \u001b[43mwatched\u001b[49m:\n\u001b[1;32m     84\u001b[0m     queue[result_id] \u001b[38;5;241m=\u001b[39m tag\n\u001b[1;32m     85\u001b[0m     \u001b[38;5;28mprint\u001b[39m(\u001b[38;5;124mf\u001b[39m\u001b[38;5;124m'\u001b[39m\u001b[38;5;124mAdded \u001b[39m\u001b[38;5;124m\"\u001b[39m\u001b[38;5;132;01m{\u001b[39;00mtitle\u001b[38;5;132;01m}\u001b[39;00m\u001b[38;5;124m\"\u001b[39m\u001b[38;5;124m with ID \u001b[39m\u001b[38;5;132;01m{\u001b[39;00mresult_id\u001b[38;5;132;01m}\u001b[39;00m\u001b[38;5;124m and tag \u001b[39m\u001b[38;5;124m\"\u001b[39m\u001b[38;5;132;01m{\u001b[39;00mtag\u001b[38;5;132;01m}\u001b[39;00m\u001b[38;5;124m\"\u001b[39m\u001b[38;5;124m to the queue\u001b[39m\u001b[38;5;124m'\u001b[39m)\n",
      "\u001b[0;31mNameError\u001b[0m: name 'watched' is not defined"
     ]
    }
   ],
   "source": [
    "# Example user interests and initial setup\n",
    "user_interests = [\"DevOps\", \"Tests (SAT)\", \"Machine Learning\", \"Cats\", \"Cooking\"]\n",
    "initial_interest_tag = \"Shiba\"\n",
    "\n",
    "# Run the main simulation\n",
    "main_simulation(user_interests, initial_interest_tag, 1)\n"
   ]
  },
  {
   "cell_type": "code",
   "execution_count": null,
   "metadata": {},
   "outputs": [
    {
     "data": {
      "text/plain": [
       "-58.130000000000024"
      ]
     },
     "execution_count": 34,
     "metadata": {},
     "output_type": "execute_result"
    }
   ],
   "source": [
    "# import yfinance as yf\n",
    "# nvda = yf.Ticker(\"NVDA\")\n",
    "# nvda.info['regularMarketPrice']\n",
    "\n",
    "price_now = 1200 # Change me\n",
    "\n",
    "bought_at = 1138 # needs +75 to breakeven\n",
    "my_current_net = (price_now - bought_at)\n",
    "allsold = sum([291.25])\n",
    "num_stocks = 3.76\n",
    "\n",
    "must_be_positive = my_current_net * num_stocks - allsold\n",
    "\n",
    "must_be_positive # sell when positive"
   ]
  },
  {
   "cell_type": "code",
   "execution_count": 15,
   "metadata": {},
   "outputs": [
    {
     "name": "stdout",
     "output_type": "stream",
     "text": [
      "Net gain from selling all stocks: 268.99\n",
      "Price to sell at for profit: 1216\n",
      "'Profit per stock: 71. Current profits: -24.29000000000002'\n"
     ]
    }
   ],
   "source": [
    "# Define the current price, the price at which you bought the stocks, and the number of stocks\n",
    "price_now = 1287 # Change me\n",
    "bought_at = 1138\n",
    "num_stocks = 3.76\n",
    "\n",
    "# Calculate the net gain per stock\n",
    "my_current_net = (price_now - bought_at)\n",
    "\n",
    "# Calculate the total amount you've already sold\n",
    "allsold = sum([291.25])\n",
    "\n",
    "# Calculate the net gain from selling all your stocks\n",
    "must_be_positive = my_current_net * num_stocks - allsold\n",
    "\n",
    "# Calculate the price at which you should sell your stocks to start making a profit\n",
    "price_for_positive = bought_at + 78\n",
    "\n",
    "# Print the results\n",
    "print(f\"Net gain from selling all stocks: {must_be_positive}\")\n",
    "print(f\"Price to sell at for profit: {price_for_positive}\")\n",
    "\n",
    "profit_per_stock = price_now - price_for_positive\n",
    "pprint(f\"Profit per stock: {profit_per_stock}. Current profits: {(profit_per_stock * num_stocks) - allsold}\")\n",
    "\n"
   ]
  },
  {
   "cell_type": "code",
   "execution_count": 13,
   "metadata": {},
   "outputs": [
    {
     "name": "stdout",
     "output_type": "stream",
     "text": [
      "'Price to sell at for profit: 121.64999999999999'\n",
      "'Profit per stock: 7.15000000000002. Current profits: 239.71384000000072'\n"
     ]
    }
   ],
   "source": [
    "from pprint import pprint\n",
    "\n",
    "# Define the current price, the price at which you bought the stocks, and the number of stocks\n",
    "price_now = 128.80 # Adjust for stock split\n",
    "bought_at = 1138.5 / 10 # Adjust for stock split\n",
    "num_stocks = 3.76 * 10 # Adjust for stock split\n",
    "\n",
    "\n",
    "# Calculate the total amount you've already sold\n",
    "# Adjust for stock split by dividing the sold price by 10 and multiplying the quantity by 10\n",
    "sold_1 = 121.359 * 0.24   # 291.25 / (10 * 10)\n",
    "sold_stocks = sum([sold_1])\n",
    "\n",
    "# Calculate the price at which you should sell your stocks to start making a profit\n",
    "# Adjust for stock split by dividing the price by 10\n",
    "price_for_positive = (bought_at + (78 / 10))\n",
    "pprint(f\"Price to sell at for profit: {price_for_positive}\")\n",
    "\n",
    "profit_per_stock = price_now - price_for_positive\n",
    "pprint(f\"Profit per stock: {profit_per_stock}. Current profits: {(profit_per_stock * num_stocks) - sold_stocks}\")\n",
    "\n"
   ]
  },
  {
   "cell_type": "code",
   "execution_count": 25,
   "metadata": {},
   "outputs": [
    {
     "name": "stdout",
     "output_type": "stream",
     "text": [
      "Net gain from selling all stocks: 1059.1999814953851\n",
      "Break-even price to sell remaining shares for no loss: 128.55542434006193\n",
      "Profit per stock: 0.14457565993805588. Current profits: 510.1399814953854\n",
      "554.4397647574295\n"
     ]
    }
   ],
   "source": [
    "# Define the original price, the price at which you bought the stocks, and the number of stocks\n",
    "price_now = 1287  # Current price before the split\n",
    "bought_at = 1138\n",
    "num_stocks = 3.76\n",
    "\n",
    "# Adjust for the 10-for-1 stock split\n",
    "price_now_split_adjusted = price_now / 10\n",
    "bought_at_split_adjusted = bought_at / 10\n",
    "num_stocks_split_adjusted = num_stocks * 10\n",
    "\n",
    "# Amount sold and price at which it was sold before split\n",
    "amount_sold = 291.25 + 257.81\n",
    "price_sold_at = 1213.59 + (1289.1*10)\n",
    "price_sold_at_split_adjusted = price_sold_at / 10\n",
    "\n",
    "# Calculate the number of shares sold\n",
    "num_shares_sold = amount_sold / price_sold_at_split_adjusted\n",
    "\n",
    "# Remaining shares after the sale\n",
    "remaining_shares = num_stocks_split_adjusted - num_shares_sold\n",
    "\n",
    "# Calculate the net gain per stock\n",
    "my_current_net = price_now_split_adjusted - bought_at_split_adjusted\n",
    "\n",
    "# Calculate the total gain/loss from the shares sold\n",
    "gain_from_sold_shares = (price_sold_at_split_adjusted - bought_at_split_adjusted) * num_shares_sold\n",
    "\n",
    "# Calculate the net gain from remaining shares\n",
    "net_gain_remaining_shares = (price_now_split_adjusted - bought_at_split_adjusted) * remaining_shares\n",
    "\n",
    "# Calculate the overall net gain/loss\n",
    "total_net_gain = gain_from_sold_shares + net_gain_remaining_shares\n",
    "\n",
    "# Calculate the break-even price for remaining shares to cover the sold amount\n",
    "break_even_price = bought_at_split_adjusted + (amount_sold / remaining_shares)\n",
    "\n",
    "# Print the results\n",
    "print(f\"Net gain from selling all stocks: {total_net_gain}\")\n",
    "print(f\"Break-even price to sell remaining shares for no loss: {break_even_price}\")\n",
    "\n",
    "profit_per_stock = price_now_split_adjusted - break_even_price\n",
    "print(f\"Profit per stock: {profit_per_stock}. Current profits: {(profit_per_stock * remaining_shares) + gain_from_sold_shares}\")\n",
    "print(net_gain_remaining_shares)"
   ]
  },
  {
   "cell_type": "code",
   "execution_count": null,
   "metadata": {},
   "outputs": [],
   "source": []
  },
  {
   "cell_type": "code",
   "execution_count": null,
   "metadata": {},
   "outputs": [],
   "source": []
  }
 ],
 "metadata": {
  "kernelspec": {
   "display_name": "Python 3",
   "language": "python",
   "name": "python3"
  },
  "language_info": {
   "codemirror_mode": {
    "name": "ipython",
    "version": 3
   },
   "file_extension": ".py",
   "mimetype": "text/x-python",
   "name": "python",
   "nbconvert_exporter": "python",
   "pygments_lexer": "ipython3",
   "version": "3.11.9"
  }
 },
 "nbformat": 4,
 "nbformat_minor": 2
}
