{
 "cells": [
  {
   "cell_type": "code",
   "execution_count": 6,
   "metadata": {},
   "outputs": [
    {
     "name": "stdout",
     "output_type": "stream",
     "text": [
      "Initialized simulator with 5 videos.\n"
     ]
    }
   ],
   "source": [
    "import numpy as np\n",
    "import pandas as pd\n",
    "# from sklearn.feature_extraction.text import TfidfVectorizer\n",
    "# from sklearn.metrics.pairwise import cosine_similarity\n",
    "\n",
    "class TikTokAlgorithmSimulator:\n",
    "    def __init__(self, num_videos=300, user_profile=None):\n",
    "        self.num_videos = num_videos\n",
    "        self.user_profile = user_profile or {}\n",
    "        self.content_pool = self.generate_content_pool()\n",
    "        self.user_interactions = []\n",
    "        print(f\"Initialized simulator with {self.num_videos} videos.\")\n",
    "\n",
    "    def generate_content_pool(self):\n",
    "        # Generate detailed video information\n",
    "        content_data = [\n",
    "            {\"video_id\": 1, \"video_title\": \"Introduction to Linear Regression in Python\", \"tags\": \"linear regression, Python, introduction, data analysis, machine learning\", \"description\": \"In this video, we will delve into the fundamentals of linear regression in Python, a powerful tool for analyzing and predicting relationships between variables. We will cover the basics of regression analysis, how to implement linear regression in Python with the help of libraries such as NumPy and scikit-learn, and how to interpret the results. Whether you're new to data analysis or looking to enhance your skills, this tutorial will provide you with a solid foundation in linear regression techniques.\"},\n",
    "            {\"video_id\": 2, \"video_title\": \"Understanding Bayes' Theorem with Real-World Examples\", \"tags\": \"Bayes' Theorem, Real-World Examples, Probability, Statistics, Data Analysis\", \"description\": \"In this video, we dive into the world of Bayes' Theorem with real-world examples to help you understand its application in probability and statistics. Join us as we break down complex concepts into easy-to-understand explanations, making it easier for you to grasp the power of Bayesian inference. Whether you're a student struggling with your math homework or a professional looking to enhance your analytical skills, this video is perfect for anyone looking to improve their understanding of Bayes' Theorem. Watch now and uncover the secrets behind this fundamental probability theory!\"},\n",
    "            {\"video_id\": 3, \"video_title\": \"Quick Guide to Python List Comprehensions\", \"tags\": \"Python, List Comprehensions, Quick Guide, Programming, Python Basics\", \"description\": \"Learn how to use Python list comprehensions in this quick and easy guide. Watch as we demonstrate how to create concise and efficient code using this powerful feature. Whether you're new to Python or looking to level up your programming skills, this video will help you understand the ins and outs of list comprehensions. Say goodbye to lengthy loops and hello to streamlined code with Python list comprehensions.\"},\n",
    "            {\"video_id\": 4, \"video_title\": \"How to Use Dictionaries in Python\", \"tags\": \"Python, Dictionaries, Tutorial, Data Structures, Programming\", \"description\": \"Learn how to efficiently use dictionaries in Python with this comprehensive tutorial. We'll cover the basics, including how to create dictionaries, add and update key-value pairs, and access and manipulate data. Whether you're a beginner or just looking to brush up on your Python skills, this video will help you understand the power and flexibility of dictionaries in your coding projects. Watch now and take your Python programming to the next level!\"},\n",
    "            {\"video_id\": 5, \"video_title\": \"Solving Linear Equations with NumPy\", \"tags\": \"Linear equations, NumPy, Mathematics, Solving, Array\", \"description\": \"In this tutorial on 'Solving Linear Equations with NumPy,' learn how to use the NumPy library in Python to solve systems of linear equations efficiently. Follow along as we go through examples and explanations to help you master this essential skill for mathematics and data analysis. Master the fundamentals of solving linear equations with NumPy in no time!\"}\n",
    "        ]\n",
    "        return pd.DataFrame(content_data)\n",
    "\n",
    "simulator = TikTokAlgorithmSimulator(num_videos=5)\n"
   ]
  },
  {
   "cell_type": "markdown",
   "metadata": {},
   "source": [
    "____"
   ]
  },
  {
   "cell_type": "markdown",
   "metadata": {},
   "source": [
    "# Algorithm 1: Basic Recommendation Based on Tags\n",
    "\n",
    "This algorithm recommends videos that have tags matching the tags of videos the user has interacted with. It is a simple tag-matching approach.\n"
   ]
  },
  {
   "cell_type": "code",
   "execution_count": 7,
   "metadata": {},
   "outputs": [],
   "source": [
    "def watch_video(self, video):\n",
    "    # Simulate user watching video and provide feedback\n",
    "    interaction_time = np.random.rand() * 10  # time spent on the video\n",
    "    self.user_interactions.append({'video_id': video['video_id'], 'time': interaction_time})\n",
    "    print(f\"User watched video {video['video_id']} (Title: {video['video_title']}) for {interaction_time:.2f} seconds.\")\n",
    "    return interaction_time\n",
    "\n",
    "TikTokAlgorithmSimulator.watch_video = watch_video"
   ]
  },
  {
   "cell_type": "markdown",
   "metadata": {},
   "source": [
    "# Recommend Videos Based on Tags\n",
    "\n",
    "This method recommends videos by finding those with tags that match the tags of videos the user has watched."
   ]
  },
  {
   "cell_type": "code",
   "execution_count": 8,
   "metadata": {},
   "outputs": [],
   "source": [
    "def recommend_videos(self):\n",
    "    if not self.user_interactions:\n",
    "        print(\"No interactions yet. Recommending initial popular videos.\")\n",
    "        return self.content_pool.sample(3)  # Initial popular videos\n",
    "\n",
    "    watched_tags = []\n",
    "    for interaction in self.user_interactions:\n",
    "        video = self.content_pool[self.content_pool['video_id'] == interaction['video_id']].iloc[0]\n",
    "        watched_tags.extend(video['tags'].split(\", \"))\n",
    "\n",
    "    recommendations = self.content_pool[self.content_pool['tags'].apply(lambda tags: any(tag in tags.split(\", \") for tag in watched_tags))]\n",
    "    print(f\"Recommending videos based on tags: {watched_tags}\")\n",
    "\n",
    "    return recommendations.sample(3)\n",
    "\n",
    "TikTokAlgorithmSimulator.recommend_videos = recommend_videos\n"
   ]
  },
  {
   "cell_type": "markdown",
   "metadata": {},
   "source": [
    "# Simulate User Interactions with Basic Algorithm\n",
    "\n",
    "This cell simulates 5 interactions and recommends videos based on the tags of watched videos.\n"
   ]
  },
  {
   "cell_type": "code",
   "execution_count": 10,
   "metadata": {},
   "outputs": [
    {
     "name": "stdout",
     "output_type": "stream",
     "text": [
      "Recommending videos based on tags: ['Linear equations', 'NumPy', 'Mathematics', 'Solving', 'Array']\n"
     ]
    },
    {
     "ename": "ValueError",
     "evalue": "Cannot take a larger sample than population when 'replace=False'",
     "output_type": "error",
     "traceback": [
      "\u001b[0;31m---------------------------------------------------------------------------\u001b[0m",
      "\u001b[0;31mValueError\u001b[0m                                Traceback (most recent call last)",
      "Cell \u001b[0;32mIn[10], line 2\u001b[0m\n\u001b[1;32m      1\u001b[0m \u001b[38;5;28;01mfor\u001b[39;00m _ \u001b[38;5;129;01min\u001b[39;00m \u001b[38;5;28mrange\u001b[39m(\u001b[38;5;241m5\u001b[39m):  \u001b[38;5;66;03m# Simulate 5 interactions\u001b[39;00m\n\u001b[0;32m----> 2\u001b[0m     recommended_videos \u001b[38;5;241m=\u001b[39m \u001b[43msimulator\u001b[49m\u001b[38;5;241;43m.\u001b[39;49m\u001b[43mrecommend_videos\u001b[49m\u001b[43m(\u001b[49m\u001b[43m)\u001b[49m\n\u001b[1;32m      3\u001b[0m     \u001b[38;5;28;01mif\u001b[39;00m \u001b[38;5;129;01mnot\u001b[39;00m recommended_videos\u001b[38;5;241m.\u001b[39mempty:  \u001b[38;5;66;03m# Check that recommended_videos is not empty\u001b[39;00m\n\u001b[1;32m      4\u001b[0m         chosen_video \u001b[38;5;241m=\u001b[39m recommended_videos\u001b[38;5;241m.\u001b[39msample(\u001b[38;5;241m1\u001b[39m)\u001b[38;5;241m.\u001b[39miloc[\u001b[38;5;241m0\u001b[39m]\n",
      "Cell \u001b[0;32mIn[8], line 14\u001b[0m, in \u001b[0;36mrecommend_videos\u001b[0;34m(self)\u001b[0m\n\u001b[1;32m     11\u001b[0m recommendations \u001b[38;5;241m=\u001b[39m \u001b[38;5;28mself\u001b[39m\u001b[38;5;241m.\u001b[39mcontent_pool[\u001b[38;5;28mself\u001b[39m\u001b[38;5;241m.\u001b[39mcontent_pool[\u001b[38;5;124m'\u001b[39m\u001b[38;5;124mtags\u001b[39m\u001b[38;5;124m'\u001b[39m]\u001b[38;5;241m.\u001b[39mapply(\u001b[38;5;28;01mlambda\u001b[39;00m tags: \u001b[38;5;28many\u001b[39m(tag \u001b[38;5;129;01min\u001b[39;00m tags\u001b[38;5;241m.\u001b[39msplit(\u001b[38;5;124m\"\u001b[39m\u001b[38;5;124m, \u001b[39m\u001b[38;5;124m\"\u001b[39m) \u001b[38;5;28;01mfor\u001b[39;00m tag \u001b[38;5;129;01min\u001b[39;00m watched_tags))]\n\u001b[1;32m     12\u001b[0m \u001b[38;5;28mprint\u001b[39m(\u001b[38;5;124mf\u001b[39m\u001b[38;5;124m\"\u001b[39m\u001b[38;5;124mRecommending videos based on tags: \u001b[39m\u001b[38;5;132;01m{\u001b[39;00mwatched_tags\u001b[38;5;132;01m}\u001b[39;00m\u001b[38;5;124m\"\u001b[39m)\n\u001b[0;32m---> 14\u001b[0m \u001b[38;5;28;01mreturn\u001b[39;00m \u001b[43mrecommendations\u001b[49m\u001b[38;5;241;43m.\u001b[39;49m\u001b[43msample\u001b[49m\u001b[43m(\u001b[49m\u001b[38;5;241;43m3\u001b[39;49m\u001b[43m)\u001b[49m\n",
      "File \u001b[0;32m/opt/homebrew/lib/python3.11/site-packages/pandas/core/generic.py:5858\u001b[0m, in \u001b[0;36mNDFrame.sample\u001b[0;34m(self, n, frac, replace, weights, random_state, axis, ignore_index)\u001b[0m\n\u001b[1;32m   5855\u001b[0m \u001b[38;5;28;01mif\u001b[39;00m weights \u001b[38;5;129;01mis\u001b[39;00m \u001b[38;5;129;01mnot\u001b[39;00m \u001b[38;5;28;01mNone\u001b[39;00m:\n\u001b[1;32m   5856\u001b[0m     weights \u001b[38;5;241m=\u001b[39m sample\u001b[38;5;241m.\u001b[39mpreprocess_weights(\u001b[38;5;28mself\u001b[39m, weights, axis)\n\u001b[0;32m-> 5858\u001b[0m sampled_indices \u001b[38;5;241m=\u001b[39m \u001b[43msample\u001b[49m\u001b[38;5;241;43m.\u001b[39;49m\u001b[43msample\u001b[49m\u001b[43m(\u001b[49m\u001b[43mobj_len\u001b[49m\u001b[43m,\u001b[49m\u001b[43m \u001b[49m\u001b[43msize\u001b[49m\u001b[43m,\u001b[49m\u001b[43m \u001b[49m\u001b[43mreplace\u001b[49m\u001b[43m,\u001b[49m\u001b[43m \u001b[49m\u001b[43mweights\u001b[49m\u001b[43m,\u001b[49m\u001b[43m \u001b[49m\u001b[43mrs\u001b[49m\u001b[43m)\u001b[49m\n\u001b[1;32m   5859\u001b[0m result \u001b[38;5;241m=\u001b[39m \u001b[38;5;28mself\u001b[39m\u001b[38;5;241m.\u001b[39mtake(sampled_indices, axis\u001b[38;5;241m=\u001b[39maxis)\n\u001b[1;32m   5861\u001b[0m \u001b[38;5;28;01mif\u001b[39;00m ignore_index:\n",
      "File \u001b[0;32m/opt/homebrew/lib/python3.11/site-packages/pandas/core/sample.py:151\u001b[0m, in \u001b[0;36msample\u001b[0;34m(obj_len, size, replace, weights, random_state)\u001b[0m\n\u001b[1;32m    148\u001b[0m     \u001b[38;5;28;01melse\u001b[39;00m:\n\u001b[1;32m    149\u001b[0m         \u001b[38;5;28;01mraise\u001b[39;00m \u001b[38;5;167;01mValueError\u001b[39;00m(\u001b[38;5;124m\"\u001b[39m\u001b[38;5;124mInvalid weights: weights sum to zero\u001b[39m\u001b[38;5;124m\"\u001b[39m)\n\u001b[0;32m--> 151\u001b[0m \u001b[38;5;28;01mreturn\u001b[39;00m \u001b[43mrandom_state\u001b[49m\u001b[38;5;241;43m.\u001b[39;49m\u001b[43mchoice\u001b[49m\u001b[43m(\u001b[49m\u001b[43mobj_len\u001b[49m\u001b[43m,\u001b[49m\u001b[43m \u001b[49m\u001b[43msize\u001b[49m\u001b[38;5;241;43m=\u001b[39;49m\u001b[43msize\u001b[49m\u001b[43m,\u001b[49m\u001b[43m \u001b[49m\u001b[43mreplace\u001b[49m\u001b[38;5;241;43m=\u001b[39;49m\u001b[43mreplace\u001b[49m\u001b[43m,\u001b[49m\u001b[43m \u001b[49m\u001b[43mp\u001b[49m\u001b[38;5;241;43m=\u001b[39;49m\u001b[43mweights\u001b[49m\u001b[43m)\u001b[49m\u001b[38;5;241m.\u001b[39mastype(\n\u001b[1;32m    152\u001b[0m     np\u001b[38;5;241m.\u001b[39mintp, copy\u001b[38;5;241m=\u001b[39m\u001b[38;5;28;01mFalse\u001b[39;00m\n\u001b[1;32m    153\u001b[0m )\n",
      "File \u001b[0;32mmtrand.pyx:1000\u001b[0m, in \u001b[0;36mnumpy.random.mtrand.RandomState.choice\u001b[0;34m()\u001b[0m\n",
      "\u001b[0;31mValueError\u001b[0m: Cannot take a larger sample than population when 'replace=False'"
     ]
    }
   ],
   "source": [
    "for _ in range(5):  # Simulate 5 interactions\n",
    "    recommended_videos = simulator.recommend_videos()\n",
    "    if not recommended_videos.empty:  # Check that recommended_videos is not empty\n",
    "        chosen_video = recommended_videos.sample(1).iloc[0]\n",
    "        simulator.watch_video(chosen_video)\n",
    "\n",
    "# Final Recommendations\n",
    "final_recommendations = simulator.recommend_videos()\n",
    "print(f\"Final Recommendations: {final_recommendations[['video_id', 'video_title']]}\")"
   ]
  },
  {
   "cell_type": "markdown",
   "metadata": {},
   "source": [
    "___"
   ]
  },
  {
   "cell_type": "markdown",
   "metadata": {},
   "source": [
    "# Algorithm 2: Weighted Tag Matching\n",
    "\n",
    "This algorithm improves upon the basic tag matching by giving more weight to videos with tags that have been interacted with more frequently.\n"
   ]
  },
  {
   "cell_type": "code",
   "execution_count": null,
   "metadata": {},
   "outputs": [],
   "source": [
    "def recommend_videos_weighted(self):\n",
    "    if not self.user_interactions:\n",
    "        print(\"No interactions yet. Recommending initial popular videos.\")\n",
    "        return self.content_pool.sample(3)\n",
    "\n",
    "    tag_weights = {}\n",
    "    for interaction in self.user_interactions:\n",
    "        video = self.content_pool[self.content_pool['video_id'] == interaction['video_id']].iloc[0]\n",
    "        for tag in video['tags'].split(\", \"):\n",
    "            tag_weights[tag] = tag_weights.get(tag, 0) + interaction['time']\n",
    "\n",
    "    def weight_tags(tags):\n",
    "        return sum(tag_weights.get(tag, 0) for tag in tags.split(\", \"))\n",
    "\n",
    "    recommendations = self.content_pool.copy()\n",
    "    recommendations['weight'] = recommendations['tags'].apply(weight_tags)\n",
    "    recommendations = recommendations.sort_values(by='weight', ascending=False)\n",
    "    print(f\"Recommending videos based on weighted tags: {tag_weights}\")\n",
    "\n",
    "    return recommendations.head(3)\n",
    "\n",
    "TikTokAlgorithmSimulator.recommend_videos_weighted = recommend_videos_weighted\n"
   ]
  },
  {
   "cell_type": "markdown",
   "metadata": {},
   "source": [
    "# Simulate User Interactions with Weighted Tag Matching\n",
    "\n",
    "This cell simulates 5 interactions and recommends videos based on weighted tags.\n"
   ]
  },
  {
   "cell_type": "code",
   "execution_count": null,
   "metadata": {},
   "outputs": [],
   "source": [
    "for _ in range(5):  # Simulate 5 interactions\n",
    "    recommended_videos = simulator.recommend_videos_weighted()\n",
    "    chosen_video = recommended_videos.sample(1).iloc[0]\n",
    "    simulator.watch_video(chosen_video)\n",
    "\n",
    "# Final Recommendations\n",
    "final_recommendations = simulator.recommend_videos_weighted()\n",
    "print(f\"Final Recommendations: {final_recommendations[['video_id', 'video_title']]}\")\n"
   ]
  }
 ],
 "metadata": {
  "kernelspec": {
   "display_name": "Python 3",
   "language": "python",
   "name": "python3"
  },
  "language_info": {
   "codemirror_mode": {
    "name": "ipython",
    "version": 3
   },
   "file_extension": ".py",
   "mimetype": "text/x-python",
   "name": "python",
   "nbconvert_exporter": "python",
   "pygments_lexer": "ipython3",
   "version": "3.11.9"
  }
 },
 "nbformat": 4,
 "nbformat_minor": 2
}
