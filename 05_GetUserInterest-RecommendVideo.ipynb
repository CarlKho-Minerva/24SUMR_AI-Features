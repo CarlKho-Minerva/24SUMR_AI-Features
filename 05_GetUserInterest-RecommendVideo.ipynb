{
 "cells": [
  {
   "cell_type": "markdown",
   "metadata": {},
   "source": [
    "___\n",
    "# User Interest Algorithm\n"
   ]
  },
  {
   "cell_type": "code",
   "execution_count": 1,
   "metadata": {},
   "outputs": [],
   "source": [
    "import random\n",
    "import pandas as pd\n",
    "import chromadb\n",
    "\n",
    "from pprint import pprint\n",
    "from chromadb.utils import embedding_functions\n",
    "\n",
    "# Constants\n",
    "\n",
    "NEW_VIDEO_WEIGHT = 10\n",
    "STARTING_WEIGHT = 10\n",
    "\n",
    "USER_MIN_INTEREST = 4\n",
    "USER_MAX_INTEREST = 8\n",
    "\n",
    "# Number of vids to queue before running query again (to save costs)\n",
    "COUNT_QUEUED_VIDEOS = 5\n",
    "    # AKA n_results = 3\n",
    "\n",
    "# User Actions\n",
    "LIKE = 1\n",
    "SHARE = 2\n",
    "WATCH = 1  # more than 50% of total duration\n",
    "LOOP = 1\n",
    "\n",
    "# AI-Related Constants\n",
    "OPENAI_API_KEY = \"\"\n",
    "OPENAI_EmbeddingModel = \"text-embedding-3-small\""
   ]
  },
  {
   "cell_type": "code",
   "execution_count": 2,
   "metadata": {},
   "outputs": [],
   "source": [
    "\n",
    "chroma_client = chromadb.PersistentClient(path=\"db\")\n",
    "\n",
    "# Use OpenAI as the embedding model (word to vector)\n",
    "OPENAI_EF = embedding_functions.OpenAIEmbeddingFunction(\n",
    "                api_key=OPENAI_API_KEY,\n",
    "                model_name=OPENAI_EmbeddingModel\n",
    "            )\n",
    "\n",
    "# Create a vectorstore database and use Cosine Similarity for semantic search within the DB\n",
    "collection = chroma_client.get_or_create_collection(\n",
    "    name=\"Edgur_Video_DB_Vectorstore\",\n",
    "    embedding_function=OPENAI_EF,\n",
    "    metadata={\"hnsw:space\": \"cosine\"},\n",
    ")\n",
    "\n",
    "# DB\n",
    "db_url = \"https://docs.google.com/spreadsheets/d/e/2PACX-1vSAE2tBAnAdXsxk9a9YClFN7MSEVhzEmJD01ewwtooMLxL-Ilod26EbdD8sZeZk0ybiqD-jqT-9RZbn/pub?gid=497214901&single=true&output=csv\" # test spreadsheet\n",
    "df = pd.read_csv(db_url)\n",
    "\n",
    "# Simulation Only (replace user input)\n",
    "chosen_interest_tag = \"Dictionaries\"\n",
    "user1_interests = [\"DevOps\", \"Tests (SAT)\", \"Machine Learning\", \"Cats\", \"Cooking\"] # count: 5\n"
   ]
  },
  {
   "cell_type": "code",
   "execution_count": 3,
   "metadata": {},
   "outputs": [],
   "source": [
    "def DebugPrint(msg, function_name):\n",
    "    print(\"START ------- DEBUG (INFUNC):\", function_name, \"\\n\")\n",
    "    pprint(msg)\n",
    "    print(\"\\nEND ------- DEBUG (INFUNC):\", function_name, \"\\n\\n\\n\")"
   ]
  },
  {
   "cell_type": "code",
   "execution_count": 4,
   "metadata": {},
   "outputs": [],
   "source": [
    "def create_user_interest_dict(user_interest_list):\n",
    "    if len(user_interest_list) < USER_MIN_INTEREST:\n",
    "        raise ValueError(\"You must have at least 4 interests\")\n",
    "    elif len(user_interest_list) > USER_MAX_INTEREST:\n",
    "        raise ValueError(\"You may have 8 interests at most\")\n",
    "\n",
    "    user_dict_interest = {interest: STARTING_WEIGHT for interest in user_interest_list}\n",
    "    user_dict_interest[\"Random\"] = STARTING_WEIGHT\n",
    "\n",
    "    DebugPrint(user_dict_interest, \"create_user_interest_dict\")\n",
    "\n",
    "    return user_dict_interest"
   ]
  },
  {
   "cell_type": "code",
   "execution_count": 5,
   "metadata": {},
   "outputs": [],
   "source": [
    "def observe_action_taken(\n",
    "    interest_tag, liked=False, shared=False, watched=False, loop_count=0\n",
    "):\n",
    "    \"\"\"\n",
    "    This function calculates the total points based on the user's actions.\n",
    "\n",
    "    Parameters:\n",
    "    interest_tag (str): The tag of the video.\n",
    "    liked (bool): Whether the user liked the video.\n",
    "    shared (bool): Whether the user shared the video.\n",
    "    watched (bool): Whether the user watched the video.\n",
    "    loop_count (int): The number of times the user looped the video.\n",
    "\n",
    "    Returns:\n",
    "    float: The total points calculated based on the user's actions.\n",
    "    \"\"\"\n",
    "    # Actions and their corresponding points to add\n",
    "    Actions = {\n",
    "        \"LIKE\": LIKE,\n",
    "        \"SHARE\": SHARE,\n",
    "        \"WATCH\": WATCH,  # more than 50% of total duration\n",
    "        \"LOOP\": LOOP,\n",
    "    }\n",
    "\n",
    "    total_action_points = 0\n",
    "\n",
    "    if liked:\n",
    "        total_action_points += Actions[\"LIKE\"]\n",
    "    if shared:\n",
    "        total_action_points += Actions[\"SHARE\"]\n",
    "    if watched:\n",
    "        total_action_points += Actions[\"WATCH\"]\n",
    "    total_action_points += loop_count * Actions[\"LOOP\"]\n",
    "\n",
    "    DebugPrint(\"Updating weights for interest: {}. Total points to add: {}.\".format(interest_tag, total_action_points), \"observe_action_taken()\")\n",
    "\n",
    "    return total_action_points"
   ]
  },
  {
   "cell_type": "code",
   "execution_count": 6,
   "metadata": {},
   "outputs": [
    {
     "name": "stdout",
     "output_type": "stream",
     "text": [
      "START ------- DEBUG (INFUNC): observe_action_taken() \n",
      "\n",
      "'Updating weights for interest: Dictionaries. Total points to add: 5.'\n",
      "\n",
      "END ------- DEBUG (INFUNC): observe_action_taken() \n",
      "\n",
      "\n",
      "\n"
     ]
    },
    {
     "data": {
      "text/plain": [
       "5"
      ]
     },
     "execution_count": 6,
     "metadata": {},
     "output_type": "execute_result"
    }
   ],
   "source": [
    "observe_action_taken(chosen_interest_tag, liked=True, shared=True, watched=True, loop_count=1)"
   ]
  },
  {
   "cell_type": "code",
   "execution_count": 7,
   "metadata": {},
   "outputs": [],
   "source": [
    "def recalculate_percentages(user_dict_interest):\n",
    "    \"\"\"\n",
    "    Recalculate the percentage of each interest relative to the total weight.\n",
    "    \"\"\"\n",
    "    total_weight = sum(user_dict_interest.values())\n",
    "\n",
    "    user_dict_percentage = {}\n",
    "\n",
    "    for interest_tag, weight in user_dict_interest.items():\n",
    "        user_dict_percentage[interest_tag] = round((weight / total_weight) * 100, 2)\n",
    "\n",
    "    DebugPrint(user_dict_percentage, \"recalculate_percentages (%)\")\n",
    "    return user_dict_percentage"
   ]
  },
  {
   "cell_type": "code",
   "execution_count": 8,
   "metadata": {},
   "outputs": [
    {
     "name": "stdout",
     "output_type": "stream",
     "text": [
      "START ------- DEBUG (INFUNC): create_user_interest_dict \n",
      "\n",
      "{'Cats': 10,\n",
      " 'Cooking': 10,\n",
      " 'DevOps': 10,\n",
      " 'Machine Learning': 10,\n",
      " 'Random': 10,\n",
      " 'Tests (SAT)': 10}\n",
      "\n",
      "END ------- DEBUG (INFUNC): create_user_interest_dict \n",
      "\n",
      "\n",
      "\n",
      "START ------- DEBUG (INFUNC): recalculate_percentages (%) \n",
      "\n",
      "{'Cats': 16.67,\n",
      " 'Cooking': 16.67,\n",
      " 'DevOps': 16.67,\n",
      " 'Machine Learning': 16.67,\n",
      " 'Random': 16.67,\n",
      " 'Tests (SAT)': 16.67}\n",
      "\n",
      "END ------- DEBUG (INFUNC): recalculate_percentages (%) \n",
      "\n",
      "\n",
      "\n"
     ]
    },
    {
     "data": {
      "text/plain": [
       "{'DevOps': 16.67,\n",
       " 'Tests (SAT)': 16.67,\n",
       " 'Machine Learning': 16.67,\n",
       " 'Cats': 16.67,\n",
       " 'Cooking': 16.67,\n",
       " 'Random': 16.67}"
      ]
     },
     "execution_count": 8,
     "metadata": {},
     "output_type": "execute_result"
    }
   ],
   "source": [
    "recalculate_percentages(create_user_interest_dict(user1_interests))"
   ]
  },
  {
   "cell_type": "code",
   "execution_count": 9,
   "metadata": {},
   "outputs": [],
   "source": [
    "def handle_interruptions(user_dict_percentage):\n",
    "    \"\"\"\n",
    "    Handle intentional interruptions and suggest relevant interests (50% dominance) or recommend more of the same interest.\n",
    "\n",
    "    Parameters:\n",
    "    user_dict_percentage (dict): A dictionary where keys are interest tags and values are their percentages.\n",
    "    \"\"\"\n",
    "    # Get the interest with the highest percentage\n",
    "    interest_tag, interest_percentage = max(user_dict_percentage.items(), key=lambda item: item[1])\n",
    "\n",
    "    if interest_percentage > 75:\n",
    "        print(f\"Have you been enjoying {interest_tag} so far?\")\n",
    "        response = input()  # Get user's response\n",
    "        if response.lower() == \"yes\":\n",
    "            print(\"Recommend less of the same interest.\")\n",
    "            # Add checkbox code to recommend more videos of the same interest\n",
    "\n",
    "    elif interest_percentage > 50:\n",
    "        print(\"Suggesting relevant interests...\")\n",
    "        # Add slider code\n",
    "\n",
    "    DebugPrint(\"The highest tag is {}. It dominates the interest weights by {}%.\".format(interest_tag, interest_percentage), \"handle_interruptions\")\n"
   ]
  },
  {
   "cell_type": "code",
   "execution_count": 10,
   "metadata": {},
   "outputs": [
    {
     "name": "stdout",
     "output_type": "stream",
     "text": [
      "START ------- DEBUG (INFUNC): create_user_interest_dict \n",
      "\n",
      "{'Cats': 10,\n",
      " 'Cooking': 10,\n",
      " 'DevOps': 10,\n",
      " 'Machine Learning': 10,\n",
      " 'Random': 10,\n",
      " 'Tests (SAT)': 10}\n",
      "\n",
      "END ------- DEBUG (INFUNC): create_user_interest_dict \n",
      "\n",
      "\n",
      "\n",
      "START ------- DEBUG (INFUNC): recalculate_percentages (%) \n",
      "\n",
      "{'Cats': 16.67,\n",
      " 'Cooking': 16.67,\n",
      " 'DevOps': 16.67,\n",
      " 'Machine Learning': 16.67,\n",
      " 'Random': 16.67,\n",
      " 'Tests (SAT)': 16.67}\n",
      "\n",
      "END ------- DEBUG (INFUNC): recalculate_percentages (%) \n",
      "\n",
      "\n",
      "\n",
      "START ------- DEBUG (INFUNC): handle_interruptions \n",
      "\n",
      "'The highest tag is DevOps. It dominates the interest weights by 16.67%.'\n",
      "\n",
      "END ------- DEBUG (INFUNC): handle_interruptions \n",
      "\n",
      "\n",
      "\n"
     ]
    }
   ],
   "source": [
    "handle_interruptions(recalculate_percentages(create_user_interest_dict(user1_interests)))"
   ]
  },
  {
   "cell_type": "code",
   "execution_count": 11,
   "metadata": {},
   "outputs": [],
   "source": [
    "def note_actions_and_update_weights(\n",
    "    user_dict_interest,\n",
    "    interest_tag,\n",
    "    liked=False,\n",
    "    shared=False,\n",
    "    watched=False,\n",
    "    loop_count=0,\n",
    "):\n",
    "    total_action_points = observe_action_taken(\n",
    "        interest_tag, liked, shared, watched, loop_count\n",
    "    )\n",
    "\n",
    "    # Update raw weights\n",
    "    if interest_tag in user_dict_interest:\n",
    "        user_dict_interest[interest_tag] += total_action_points\n",
    "    else:\n",
    "        user_dict_interest[interest_tag] = STARTING_WEIGHT\n",
    "\n",
    "    # Recalculate percentages\n",
    "    user_dict_percentage = recalculate_percentages(user_dict_interest)\n",
    "\n",
    "    # Handle interruptions\n",
    "    handle_interruptions(user_dict_percentage, interest_tag)\n",
    "\n",
    "    # Sort the interests (\"key=item[1]\") by weight in descending (high to low) order and keep only the top 10\n",
    "    user_dict_interest = dict(\n",
    "        sorted(user_dict_interest.items(), key=lambda item: item[1], reverse=True)[:10]\n",
    "    )\n",
    "\n",
    "    DebugPrint(user_dict_interest, \"note_actions_and_update_weights\")\n",
    "\n",
    "    return user_dict_interest"
   ]
  },
  {
   "cell_type": "code",
   "execution_count": 12,
   "metadata": {},
   "outputs": [],
   "source": [
    "def note_actions_and_update_weights(\n",
    "    user_dict_interest,\n",
    "    interest_tag,\n",
    "    liked=False,\n",
    "    shared=False,\n",
    "    watched=False,\n",
    "    loop_count=0,\n",
    "):\n",
    "    TOTAL_ACTION_POINTS = observe_action_taken(\n",
    "        interest_tag, liked, shared, watched, loop_count\n",
    "    )\n",
    "\n",
    "    # Update raw weights\n",
    "    if interest_tag in user_dict_interest:\n",
    "        print(\"Updating weights for interest: {}. Total points to add: {}.\".format(interest_tag, TOTAL_ACTION_POINTS))\n",
    "        user_dict_interest[interest_tag] += TOTAL_ACTION_POINTS\n",
    "        print(\"Updated weight for interest: {}. New weight: {}.\".format(interest_tag, user_dict_interest[interest_tag]))\n",
    "    else:\n",
    "        print(\"Adding new interest: {}. Total points to add: 10 (default).\".format(interest_tag, TOTAL_ACTION_POINTS))\n",
    "        user_dict_interest[interest_tag] = STARTING_WEIGHT\n",
    "        print(\"Added new interest: {}. Weight: {}.\".format(interest_tag, user_dict_interest[interest_tag]))\n",
    "\n",
    "    # Recalculate percentages\n",
    "    user_dict_percentage = recalculate_percentages(user_dict_interest)\n",
    "\n",
    "    # Handle interruptions\n",
    "    handle_interruptions(user_dict_percentage)\n",
    "\n",
    "    # Sort the interests (\"key=item[1]\") by weight in descending order and keep only the top 10\n",
    "    user_dict_interest = dict(\n",
    "        sorted(user_dict_interest.items(), key=lambda item: item[1], reverse=True)[:10]\n",
    "    )\n",
    "\n",
    "    return user_dict_interest"
   ]
  },
  {
   "cell_type": "code",
   "execution_count": 13,
   "metadata": {},
   "outputs": [
    {
     "name": "stdout",
     "output_type": "stream",
     "text": [
      "START ------- DEBUG (INFUNC): create_user_interest_dict \n",
      "\n",
      "{'Cats': 10,\n",
      " 'Cooking': 10,\n",
      " 'DevOps': 10,\n",
      " 'Machine Learning': 10,\n",
      " 'Random': 10,\n",
      " 'Tests (SAT)': 10}\n",
      "\n",
      "END ------- DEBUG (INFUNC): create_user_interest_dict \n",
      "\n",
      "\n",
      "\n",
      "START ------- DEBUG (INFUNC): observe_action_taken() \n",
      "\n",
      "'Updating weights for interest: Dogs. Total points to add: 5.'\n",
      "\n",
      "END ------- DEBUG (INFUNC): observe_action_taken() \n",
      "\n",
      "\n",
      "\n",
      "Adding new interest: Dogs. Total points to add: 10 (default).\n",
      "Added new interest: Dogs. Weight: 10.\n",
      "START ------- DEBUG (INFUNC): recalculate_percentages (%) \n",
      "\n",
      "{'Cats': 14.29,\n",
      " 'Cooking': 14.29,\n",
      " 'DevOps': 14.29,\n",
      " 'Dogs': 14.29,\n",
      " 'Machine Learning': 14.29,\n",
      " 'Random': 14.29,\n",
      " 'Tests (SAT)': 14.29}\n",
      "\n",
      "END ------- DEBUG (INFUNC): recalculate_percentages (%) \n",
      "\n",
      "\n",
      "\n",
      "START ------- DEBUG (INFUNC): handle_interruptions \n",
      "\n",
      "'The highest tag is DevOps. It dominates the interest weights by 14.29%.'\n",
      "\n",
      "END ------- DEBUG (INFUNC): handle_interruptions \n",
      "\n",
      "\n",
      "\n"
     ]
    }
   ],
   "source": [
    "updated_user1_dict = note_actions_and_update_weights(create_user_interest_dict(user1_interests), \"Dogs\", liked=True, shared=True, watched=True, loop_count=1)"
   ]
  },
  {
   "cell_type": "code",
   "execution_count": 14,
   "metadata": {},
   "outputs": [],
   "source": [
    "def get_interest_tag_for_recommendation(user_dict_interest):\n",
    "    # Recalculate percentages\n",
    "    user_dict_percentage = recalculate_percentages(user_dict_interest)\n",
    "\n",
    "    # Generate a random number between 0 and 100\n",
    "    random_value = random.randint(0, 100)\n",
    "\n",
    "    print(\"_\" * 50)\n",
    "    print(f\"\\nRandom value: {random_value}\\n\")\n",
    "\n",
    "    cumulative_percentage = 0\n",
    "\n",
    "    print(\"Based on User_Dictionary_Percentage (%)\\n\")\n",
    "\n",
    "    for interest_tag, percentage in user_dict_percentage.items():\n",
    "        # Save the starting point of the current tag's range (in percentage)\n",
    "        previous_cumulative_percentage = cumulative_percentage\n",
    "\n",
    "        # Add the tag's percentage to the cumulative total to get the end point of the tag's range\n",
    "        cumulative_percentage += percentage\n",
    "\n",
    "        print(f\"Checking interest: {interest_tag}, cumulative range: {int(previous_cumulative_percentage)} - {int(cumulative_percentage)}\")\n",
    "\n",
    "        # If the random value is less than or equal to the cumulative percentage up to the current interest,\n",
    "        # select the current interest and stop looking at the rest of the interests.\n",
    "        if random_value <= cumulative_percentage:\n",
    "            print(f\"\\nSelected interest: {interest_tag}\\n\")\n",
    "            break\n",
    "\n",
    "    if interest_tag == \"Random\":\n",
    "        interest_tag = random.choice(list(user_dict_percentage.keys()))\n",
    "        print(f\"!!Random!! tag selected: {interest_tag}\")\n",
    "        print(\"MODIFY THIS LATER TO POINT TO CSV COLUMN\")\n",
    "        return interest_tag\n",
    "\n",
    "    return interest_tag"
   ]
  },
  {
   "cell_type": "code",
   "execution_count": 15,
   "metadata": {},
   "outputs": [
    {
     "name": "stdout",
     "output_type": "stream",
     "text": [
      "START ------- DEBUG (INFUNC): recalculate_percentages (%) \n",
      "\n",
      "{'Cats': 14.29,\n",
      " 'Cooking': 14.29,\n",
      " 'DevOps': 14.29,\n",
      " 'Dogs': 14.29,\n",
      " 'Machine Learning': 14.29,\n",
      " 'Random': 14.29,\n",
      " 'Tests (SAT)': 14.29}\n",
      "\n",
      "END ------- DEBUG (INFUNC): recalculate_percentages (%) \n",
      "\n",
      "\n",
      "\n",
      "__________________________________________________\n",
      "\n",
      "Random value: 51\n",
      "\n",
      "Based on User_Dictionary_Percentage (%)\n",
      "\n",
      "Checking interest: DevOps, cumulative range: 0 - 14\n",
      "Checking interest: Tests (SAT), cumulative range: 14 - 28\n",
      "Checking interest: Machine Learning, cumulative range: 28 - 42\n",
      "Checking interest: Cats, cumulative range: 42 - 57\n",
      "\n",
      "Selected interest: Cats\n",
      "\n",
      "START ------- DEBUG (INFUNC): get_interest_tag_for_recommendation() \n",
      "\n",
      "'Cats'\n",
      "\n",
      "END ------- DEBUG (INFUNC): get_interest_tag_for_recommendation() \n",
      "\n",
      "\n",
      "\n"
     ]
    }
   ],
   "source": [
    "DebugPrint(get_interest_tag_for_recommendation(updated_user1_dict), \"get_interest_tag_for_recommendation()\")"
   ]
  },
  {
   "cell_type": "markdown",
   "metadata": {},
   "source": [
    "___\n",
    "# Ranking Algorithm\n"
   ]
  },
  {
   "cell_type": "code",
   "execution_count": 16,
   "metadata": {},
   "outputs": [],
   "source": [
    "# Function for adding new rows to the collection\n",
    "\n",
    "# Convert the 'tags' column to a list of strings (grouped according to its respective row)\n",
    "def add_new_rows():\n",
    "    documents = df[\"tags\"].apply(lambda x: x.split(\",\")).tolist()\n",
    "    documents_str = [\", \".join(doc) for doc in documents]\n",
    "\n",
    "    # Add the documents to the collection\n",
    "    # todo: handle UUIDs\n",
    "    ids = [str(i + 1) for i in range(len(documents_str))]\n",
    "\n",
    "    # Add new rows to the collection\n",
    "    collection.upsert(documents=documents_str, ids=ids)\n",
    "\n",
    "    DebugPrint(\"Added new rows to the collection.\", \"add_new_rows()\")"
   ]
  },
  {
   "cell_type": "code",
   "execution_count": 17,
   "metadata": {},
   "outputs": [
    {
     "name": "stdout",
     "output_type": "stream",
     "text": [
      "START ------- DEBUG (INFUNC): add_new_rows() \n",
      "\n",
      "'Added new rows to the collection.'\n",
      "\n",
      "END ------- DEBUG (INFUNC): add_new_rows() \n",
      "\n",
      "\n",
      "\n"
     ]
    }
   ],
   "source": [
    "add_new_rows()"
   ]
  },
  {
   "cell_type": "code",
   "execution_count": 18,
   "metadata": {},
   "outputs": [],
   "source": [
    "# Initialize the queue\n",
    "queue = {}  # should be in class\n",
    "watched = {}  # Should be in a class\n",
    "\n",
    "# Functions handling the watched videos dictionary\n",
    "\n",
    "\n",
    "def mark_as_watched(video_id, title, watched_dict):\n",
    "    watched_dict[video_id] = title\n",
    "    DebugPrint('\"{}\" with ID {} has been added to watched videos.'.format(title, video_id), \"mark_as_watched\")\n",
    "    return watched_dict\n",
    "\n",
    "def show_video_again(video_id, title, watched_dict):\n",
    "    watched_dict.pop(video_id)\n",
    "    DebugPrint('\"{}\" with ID {} has been removed from watched videos. It will be played again on algorithm match.'.format(title, video_id), \"show_video_again\")\n",
    "    return watched_dict"
   ]
  },
  {
   "cell_type": "code",
   "execution_count": 19,
   "metadata": {},
   "outputs": [
    {
     "name": "stdout",
     "output_type": "stream",
     "text": [
      "START ------- DEBUG (INFUNC): mark_as_watched \n",
      "\n",
      "'\"Dictionaries\" with ID 1 has been added to watched videos.'\n",
      "\n",
      "END ------- DEBUG (INFUNC): mark_as_watched \n",
      "\n",
      "\n",
      "\n",
      "START ------- DEBUG (INFUNC): show_video_again \n",
      "\n",
      "('\"Dictionaries\" with ID 1 has been removed from watched videos. It will be '\n",
      " 'played again on algorithm match.')\n",
      "\n",
      "END ------- DEBUG (INFUNC): show_video_again \n",
      "\n",
      "\n",
      "\n"
     ]
    },
    {
     "data": {
      "text/plain": [
       "{}"
      ]
     },
     "execution_count": 19,
     "metadata": {},
     "output_type": "execute_result"
    }
   ],
   "source": [
    "mark_as_watched(\"1\", \"Dictionaries\", watched)\n",
    "show_video_again(\"1\", \"Dictionaries\", watched)"
   ]
  },
  {
   "cell_type": "code",
   "execution_count": 20,
   "metadata": {},
   "outputs": [],
   "source": [
    "# Function to add videos to the queue\n",
    "def add_to_queue(interest_tag, n_results=5):\n",
    "    # Use ChromaDB to query top 5 videos closest to given interest\n",
    "    results = collection.query(query_texts=[interest_tag], n_results=n_results)\n",
    "    DebugPrint('Queried top {} videos for tag \"{}\"'.format(n_results, interest_tag), \"add_to_queue\")\n",
    "\n",
    "    # Add the videos to the queue\n",
    "    for i in range(n_results):\n",
    "        result_id = int(results[\"ids\"][0][i])\n",
    "        title = df.loc[df[\"video_id\"] == result_id, \"video_title\"].values[0]\n",
    "        tag = (\n",
    "            df.loc[df[\"video_id\"] == result_id, \"tags\"].values[0].split(\",\")[0]\n",
    "        )  # get the first tag\n",
    "\n",
    "        # Check if the video has already been watched by user\n",
    "        if result_id not in watched:\n",
    "            queue[result_id] = tag\n",
    "            print(\n",
    "                f'Added \"{title}\" with ID {result_id} and tag \"{tag}\" to the queue'\n",
    "            )  # Debugging line\n",
    "\n",
    "    return queue"
   ]
  },
  {
   "cell_type": "code",
   "execution_count": 21,
   "metadata": {},
   "outputs": [
    {
     "name": "stdout",
     "output_type": "stream",
     "text": [
      "START ------- DEBUG (INFUNC): add_to_queue \n",
      "\n",
      "'Queried top 5 videos for tag \"Dictionaries\"'\n",
      "\n",
      "END ------- DEBUG (INFUNC): add_to_queue \n",
      "\n",
      "\n",
      "\n",
      "Added \"How to Use Dictionaries in Python\" with ID 250 and tag \"Python\" to the queue\n",
      "Added \"How to Use Dictionaries in Python\" with ID 409 and tag \"Python\" to the queue\n",
      "Added \"How to Use Dictionaries in Python\" with ID 4 and tag \"Python\" to the queue\n",
      "Added \"Introduction to Python Descriptors\" with ID 88 and tag \"Python\" to the queue\n",
      "Added \"Introduction to Python Descriptors\" with ID 322 and tag \"Python\" to the queue\n"
     ]
    },
    {
     "data": {
      "text/plain": [
       "{250: 'Python', 409: 'Python', 4: 'Python', 88: 'Python', 322: 'Python'}"
      ]
     },
     "execution_count": 21,
     "metadata": {},
     "output_type": "execute_result"
    }
   ],
   "source": [
    "add_to_queue(\"Dictionaries\", COUNT_QUEUED_VIDEOS)"
   ]
  },
  {
   "cell_type": "code",
   "execution_count": 22,
   "metadata": {},
   "outputs": [],
   "source": [
    "def view_video(queue, user_dict_interest, watched_dict):\n",
    "    if not queue:\n",
    "        print(\"Queue is empty! Adding more videos...\")\n",
    "        new_interest_tag = get_interest_tag_for_recommendation(user_dict_interest)\n",
    "        add_to_queue(new_interest_tag, COUNT_QUEUED_VIDEOS)\n",
    "\n",
    "    video_id, interest_tag = next(iter(queue.items()))\n",
    "    del queue[video_id]\n",
    "    title = df.loc[df[\"video_id\"] == video_id, \"video_title\"].values[0]\n",
    "    mark_as_watched(video_id, title, watched_dict)\n",
    "    note_actions_and_update_weights(user_dict_interest, interest_tag, liked=True, watched=True)\n",
    "    if len(queue) <= 2:\n",
    "        print(\"\\n2 cached videos left. \\nAdding more videos to the queue...\\n\")\n",
    "        new_interest_tag = get_interest_tag_for_recommendation(user_dict_interest)\n",
    "        add_to_queue(new_interest_tag, COUNT_QUEUED_VIDEOS)\n",
    "\n",
    "    DebugPrint(\"Viewed video: {}. Queue: {}. Watched: {}\".format(title, queue, watched_dict), \"view_video\")\n",
    "    return queue"
   ]
  },
  {
   "cell_type": "code",
   "execution_count": 23,
   "metadata": {},
   "outputs": [
    {
     "name": "stdout",
     "output_type": "stream",
     "text": [
      "START ------- DEBUG (INFUNC): mark_as_watched \n",
      "\n",
      "('\"How to Use Dictionaries in Python\" with ID 250 has been added to watched '\n",
      " 'videos.')\n",
      "\n",
      "END ------- DEBUG (INFUNC): mark_as_watched \n",
      "\n",
      "\n",
      "\n",
      "START ------- DEBUG (INFUNC): observe_action_taken() \n",
      "\n",
      "'Updating weights for interest: Python. Total points to add: 2.'\n",
      "\n",
      "END ------- DEBUG (INFUNC): observe_action_taken() \n",
      "\n",
      "\n",
      "\n",
      "Adding new interest: Python. Total points to add: 10 (default).\n",
      "Added new interest: Python. Weight: 10.\n",
      "START ------- DEBUG (INFUNC): recalculate_percentages (%) \n",
      "\n",
      "{'Cats': 12.5,\n",
      " 'Cooking': 12.5,\n",
      " 'DevOps': 12.5,\n",
      " 'Dogs': 12.5,\n",
      " 'Machine Learning': 12.5,\n",
      " 'Python': 12.5,\n",
      " 'Random': 12.5,\n",
      " 'Tests (SAT)': 12.5}\n",
      "\n",
      "END ------- DEBUG (INFUNC): recalculate_percentages (%) \n",
      "\n",
      "\n",
      "\n",
      "START ------- DEBUG (INFUNC): handle_interruptions \n",
      "\n",
      "'The highest tag is DevOps. It dominates the interest weights by 12.5%.'\n",
      "\n",
      "END ------- DEBUG (INFUNC): handle_interruptions \n",
      "\n",
      "\n",
      "\n",
      "START ------- DEBUG (INFUNC): view_video \n",
      "\n",
      "(\"Viewed video: How to Use Dictionaries in Python. Queue: {409: 'Python', 4: \"\n",
      " \"'Python', 88: 'Python', 322: 'Python'}. Watched: {250: 'How to Use \"\n",
      " \"Dictionaries in Python'}\")\n",
      "\n",
      "END ------- DEBUG (INFUNC): view_video \n",
      "\n",
      "\n",
      "\n"
     ]
    },
    {
     "data": {
      "text/plain": [
       "{409: 'Python', 4: 'Python', 88: 'Python', 322: 'Python'}"
      ]
     },
     "execution_count": 23,
     "metadata": {},
     "output_type": "execute_result"
    }
   ],
   "source": [
    "view_video(queue, updated_user1_dict, watched)"
   ]
  },
  {
   "cell_type": "code",
   "execution_count": null,
   "metadata": {},
   "outputs": [],
   "source": []
  },
  {
   "cell_type": "markdown",
   "metadata": {},
   "source": [
    "___\n",
    "# #BreakItDown - Tasks\n",
    "\n",
    "### 1. Mark video as watched ✅\n",
    "- If ID exist\n",
    "- query result skip over id and check again if ID exists\n",
    "- repeat until not \n",
    "\n",
    "### 2. Revised percentage calculation (relative instead of 100%) ✅\n",
    "Will cause a tag to be dominant tho (weight 1000 while others still 10). Mitigated with intentional interruptions (#4). \n",
    "\n",
    "### 3. User class schema ✅\n",
    "- self\n",
    "- interest_weights (dict)\n",
    "- watched_videos (dict)\n",
    "\n",
    "### 4. Intentional Interruptions ✅\n",
    "Handle dominations\n",
    "- 50% -> Suggest relevant interests \n",
    "- 75% -> \"Have you been enjoying {tag name} so far? \"yes\". \"recommend more\". \n",
    "\n",
    "### 5. Modify whisper prompt to return most relevant tag first then extract that for on_user_swipe()\n",
    "in [github](https://github.com/edgurinc/edgur/blob/main/backend/accounts/videoprocessors.py)\n",
    "- To help us later in handling which tag to add weights to given videos have multiple tags. \n",
    "\n",
    "### 6. Decay other interests whenever watching a video ✅\n",
    "except current video tag \n",
    "\n",
    "### 7. Handle irrelevant tags\n",
    "Acknowledge that it will be filled soon, such as \"food\" category\n",
    "\n",
    "### 8. \"Cache\" next 5 videos ✅\n",
    "Run uniformDist+reco only on 3rd video \n",
    "\n",
    "### 9. Min selection Max selection for categories ✅\n",
    "Like tiktok's\n",
    "\n",
    "### 10. Show this to me again (#SpacedRepetition) ✅\n",
    "Remove from watched dictionary"
   ]
  },
  {
   "cell_type": "markdown",
   "metadata": {},
   "source": []
  },
  {
   "cell_type": "code",
   "execution_count": 24,
   "metadata": {},
   "outputs": [],
   "source": [
    "# Update relative calculation (100)\n",
    "\n",
    "# User schema\n",
    "    # Dict of Interests\n",
    "    # Dict `watched`\n",
    "    # Dict `queue`\n",
    "\n",
    "# Research Relational database\n",
    "    # Tables how do we store?"
   ]
  }
 ],
 "metadata": {
  "kernelspec": {
   "display_name": "Python 3",
   "language": "python",
   "name": "python3"
  },
  "language_info": {
   "codemirror_mode": {
    "name": "ipython",
    "version": 3
   },
   "file_extension": ".py",
   "mimetype": "text/x-python",
   "name": "python",
   "nbconvert_exporter": "python",
   "pygments_lexer": "ipython3",
   "version": "3.11.9"
  }
 },
 "nbformat": 4,
 "nbformat_minor": 2
}
