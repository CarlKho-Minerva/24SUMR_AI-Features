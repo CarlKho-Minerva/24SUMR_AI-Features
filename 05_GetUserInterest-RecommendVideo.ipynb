{
 "cells": [
  {
   "cell_type": "markdown",
   "metadata": {},
   "source": [
    "# BreakItDown Tasks\n",
    "\n",
    "### 1. Mark video as watched ✅\n",
    "- If ID exist\n",
    "- query result skip over id and check again if ID exists\n",
    "- repeat until not \n",
    "\n",
    "### 2. Revised percentage calculation (relative instead of 100%) ✅\n",
    "Will cause a tag to be dominant tho (weight 1000 while others still 10). Mitigated with intentional interruptions (#4). \n",
    "\n",
    "### 3. User class schema \n",
    "- self\n",
    "- interest_weights (dict)\n",
    "- watched_videos (dict)\n",
    "\n",
    "### 4. Intentional Interruptions\n",
    "Handle dominations\n",
    "- 50% -> Suggest relevant interests \n",
    "- 75% -> \"Have you been enjoying {tag name} so far? \"yes\". \"recommend more\". \n",
    "\n",
    "### 5. Modify whisper prompt to return most relevant tag first then extract that for on_user_swipe()\n",
    "in [github](https://github.com/edgurinc/edgur/blob/main/backend/accounts/videoprocessors.py)\n",
    "- To help us later in handling which tag to add weights to given videos have multiple tags. \n",
    "\n",
    "### 6. Decay other interests whenever watching a video ✅\n",
    "except current video tag \n",
    "\n",
    "### 7. Handle irrelevant tags\n",
    "Acknowledge that it will be filled soon, such as \"food\" category\n",
    "\n",
    "### 8. \"Cache\" next 5 videos ✅\n",
    "Run uniformDist+reco only on 3rd video \n",
    "\n",
    "### 9. Min selection Max selection for categories ✅\n",
    "Like tiktok's\n",
    "\n",
    "### 10. Show this to me again (#SpacedRepetition)\n",
    "Remove from watched dictionary"
   ]
  },
  {
   "cell_type": "markdown",
   "metadata": {},
   "source": [
    "___\n",
    "# User Interest Algorithm\n"
   ]
  },
  {
   "cell_type": "code",
   "execution_count": 270,
   "metadata": {},
   "outputs": [],
   "source": [
    "from pprint import pprint\n",
    "import random\n",
    "import pandas as pd\n",
    "from pprint import pprint\n",
    "import chromadb\n",
    "from chromadb.utils import embedding_functions\n",
    "\n",
    "# Constants\n",
    "\n",
    "new_video_weight = 10\n",
    "starting_weight = 10\n",
    "\n",
    "user_min_interest = 4\n",
    "user_max_interest = 8\n",
    "\n",
    "queued_videos_count = 3\n",
    "# Number of vids to queue before running query again (to save costs)\n",
    "# AKA n_results = 3.\n",
    "\n",
    "# User Actions\n",
    "Like = 1\n",
    "Share = 2\n",
    "Watch = 1  # more than 50% of total duration\n",
    "Loop = 1\n",
    "\n",
    "natural_decay_rate = 1\n",
    "\n",
    "# Dictionaries - remove\n",
    "watched_videos = {}\n",
    "\n",
    "# AI-Related Constants\n",
    "OPENAI_API_KEY = \"\"\n",
    "OPENAI_EmbeddingModel = \"text-embedding-3-small\"\n",
    "chroma_client = chromadb.PersistentClient(path=\"db\")\n",
    "\n",
    "# Use OpenAI as the embedding model (word to vector)\n",
    "openai_ef = embedding_functions.OpenAIEmbeddingFunction(\n",
    "                api_key=OPENAI_API_KEY,\n",
    "                model_name=OPENAI_EmbeddingModel\n",
    "            )\n",
    "\n",
    "# Create a vectorstore database and use Cosine Similarity for semantic search within the DB\n",
    "collection = chroma_client.get_or_create_collection(\n",
    "    name=\"Edgur_Video_DB_Vectorstore\",\n",
    "    embedding_function=openai_ef,\n",
    "    metadata={\"hnsw:space\": \"cosine\"},\n",
    ")\n",
    "\n",
    "# DB\n",
    "db_url = \"https://docs.google.com/spreadsheets/d/e/2PACX-1vSAE2tBAnAdXsxk9a9YClFN7MSEVhzEmJD01ewwtooMLxL-Ilod26EbdD8sZeZk0ybiqD-jqT-9RZbn/pub?gid=497214901&single=true&output=csv\" # test spreadsheet\n",
    "df = pd.read_csv(db_url)\n",
    "\n",
    "# Simulation Only (replace user input)\n",
    "chosen_tag = \"Dictionaries\"\n",
    "user1_interests = [\"DevOps\", \"Tests (SAT)\", \"Machine Learning\", \"Cats\", \"Cooking\"] # count: 5\n"
   ]
  },
  {
   "cell_type": "code",
   "execution_count": 244,
   "metadata": {},
   "outputs": [],
   "source": [
    "# class User():\n",
    "#     def __init__(self, first_name, interests_dict, )"
   ]
  },
  {
   "cell_type": "code",
   "execution_count": 245,
   "metadata": {},
   "outputs": [],
   "source": [
    "def create_user_interest_dict(user_interest_list):\n",
    "    if len(user_interest_list) < user_min_interest:\n",
    "        return(\"You must have at least 4 interests\")\n",
    "    elif len(user_interest_list) > user_max_interest:\n",
    "        return(\"You may have 8 interests at most\")\n",
    "\n",
    "    user_dict_interest = {interest: starting_weight for interest in user_interest_list}\n",
    "    user_dict_interest[\"Random\"] = starting_weight\n",
    "    return user_dict_interest"
   ]
  },
  {
   "cell_type": "code",
   "execution_count": 246,
   "metadata": {},
   "outputs": [],
   "source": [
    "# HELPER FUNCTIONS for update_weight\n",
    "\n",
    "# User actions\n",
    "\n",
    "def observe_action_taken(video_tag, liked=False, shared=False, watched=False, loop_count=0):\n",
    "    \"\"\"\n",
    "    This function calculates the total points based on the user's actions.\n",
    "\n",
    "    Parameters:\n",
    "    video_tag (str): The tag of the video.\n",
    "    liked (bool): Whether the user liked the video.\n",
    "    shared (bool): Whether the user shared the video.\n",
    "    watched (bool): Whether the user watched the video.\n",
    "    loop_count (int): The number of times the user looped the video.\n",
    "\n",
    "    Returns:\n",
    "    float: The total points calculated based on the user's actions.\n",
    "    \"\"\"\n",
    "    # Actions and their corresponding points to add\n",
    "    Actions = {\n",
    "        \"Like\": Like,\n",
    "        \"Share\": Share,\n",
    "        \"Watch\": Watch,  # more than 50% of total duration\n",
    "        # todo: experiment with increasing watch value\n",
    "        \"Loop\": Loop,\n",
    "    }\n",
    "\n",
    "    total_action_points = 0\n",
    "\n",
    "    if liked:\n",
    "        total_action_points += Actions[\"Like\"]\n",
    "    if shared:\n",
    "        total_action_points += Actions[\"Share\"]\n",
    "    if watched:\n",
    "        total_action_points += Actions[\"Watch\"]\n",
    "    total_action_points += loop_count * Actions[\"Loop\"]\n",
    "\n",
    "    print(f\"\\nUpdating weights for video tag: {video_tag}\")\n",
    "    print(f\"Total points to add: {total_action_points}\")\n",
    "\n",
    "    return total_action_points\n",
    "\n",
    "def handle_update_weight(user_dict_interest, video_tag, total_action_points):\n",
    "\n",
    "    # Increase the weight of the interest based on the action points\n",
    "    user_dict_interest[video_tag] += total_action_points\n",
    "\n",
    "    for interest_tag in user_dict_interest:\n",
    "        if interest_tag != \"Random\" and interest_tag != video_tag:\n",
    "            user_dict_interest[interest_tag] -= natural_decay_rate\n",
    "\n",
    "    return user_dict_interest\n",
    "\n",
    "def handle_add_new_tag(user_dict_interest, video_tag):\n",
    "    # Add new interest if it doesn't exist and give initial points\n",
    "    user_dict_interest[video_tag] = starting_weight\n",
    "\n",
    "    # Decrease the weight of all other interests by the natural decay rate\n",
    "    for interest_tag in user_dict_interest:\n",
    "        if interest_tag != \"Random\" and interest_tag != video_tag:\n",
    "            user_dict_interest[interest_tag] -= natural_decay_rate\n",
    "\n",
    "    return user_dict_interest\n",
    "\n",
    "def handle_interruptions(user_dict_interest, interest_tag):\n",
    "    \"\"\"\n",
    "    Handle intentional interruptions and suggest relevant interests (50% dominance) or recommend more of the same interest.\n",
    "\n",
    "    Parameters:\n",
    "    user_dict_interest (dict): A dictionary where keys are interest tags and values are their weights.\n",
    "    interest_tag (str): The interest tag to handle.\n",
    "    \"\"\"\n",
    "    total_weight = sum(user_dict_interest.values())\n",
    "    interest_weight = user_dict_interest.get(interest_tag, 0)\n",
    "\n",
    "    if interest_weight / total_weight > 0.75:\n",
    "        print(f\"Have you been enjoying {interest_tag} so far?\")\n",
    "        response = input()  # Get user's response\n",
    "        if response.lower() == \"yes\":\n",
    "            print(\"Recommend less of the same interest.\")\n",
    "            # Here you can add code to recommend more videos of the same interest\n",
    "    elif interest_weight / total_weight > 0.50:\n",
    "        print(\"Suggesting relevant interests...\")\n",
    "        # Here you can add code to suggest relevant interests"
   ]
  },
  {
   "cell_type": "code",
   "execution_count": 247,
   "metadata": {},
   "outputs": [],
   "source": [
    "def watch_video_and_update_weight(\n",
    "    user_dict_interest,\n",
    "    video_tag,\n",
    "    liked=False,\n",
    "    shared=False,\n",
    "    watched=False,\n",
    "    loop_count=0,\n",
    "):\n",
    "\n",
    "    total_points = observe_action_taken(video_tag, liked, shared, watched, loop_count)\n",
    "\n",
    "    if video_tag in user_dict_interest:\n",
    "        handle_update_weight(user_dict_interest, video_tag, total_points)\n",
    "    else:\n",
    "        handle_add_new_tag(user_dict_interest, video_tag)\n",
    "\n",
    "    # Sort the interests (\"key=item[1]\") by weight in descending order and keep only the top 10\n",
    "    user_dict_interest = dict(\n",
    "        sorted(user_dict_interest.items(), key=lambda item: item[1], reverse=True)[:10]\n",
    "    )\n",
    "\n",
    "\n",
    "    return user_dict_interest"
   ]
  },
  {
   "cell_type": "code",
   "execution_count": 248,
   "metadata": {},
   "outputs": [],
   "source": [
    "def get_random_tag_for_recommendation(user_dict_interest):\n",
    "\n",
    "    total_score = sum(value for value in user_dict_interest.values())\n",
    "    random_value = round(random.uniform(0, total_score), 0)\n",
    "\n",
    "    print(\"_\" * 50)\n",
    "    print(f\"\\nRandom value: {random_value}\\n\")\n",
    "\n",
    "    cumulative_probability = 0.0\n",
    "    partitions = []\n",
    "\n",
    "    for interest_tag, probability in user_dict_interest.items():\n",
    "        # Save the starting point of the current tag's range (in probability)\n",
    "        previous_cumulative_probability = cumulative_probability\n",
    "\n",
    "        # Add the tag's probability to the cumulative total to get the end point of the tag's range\n",
    "        cumulative_probability += probability\n",
    "\n",
    "        partitions.append(\n",
    "            (interest_tag, previous_cumulative_probability, cumulative_probability)\n",
    "        )\n",
    "\n",
    "        # pprint(f\"Checking interest: {interest}, cumulative range: {previous_cumulative_probability} - {cumulative_probability}\")\n",
    "\n",
    "        # If the random value is less than or equal to the cumulative probability up to the current interest,\n",
    "        # select the current interest and stop looking at the rest of the interests.\n",
    "        if random_value <= cumulative_probability:\n",
    "            print(f\"\\nSelected interest: {interest_tag}\\n\")\n",
    "            break\n",
    "\n",
    "    if interest_tag == \"Random\":\n",
    "        interest_tag = random.choice(list(user_dict_interest.keys()))\n",
    "        print(f\"!!Random!! tag selected: {interest_tag}\")\n",
    "        print(\"MODIFY THIS LATER TO POINT TO CSV COLUMN\")\n",
    "        return interest_tag\n",
    "\n",
    "    return interest_tag"
   ]
  },
  {
   "cell_type": "code",
   "execution_count": 249,
   "metadata": {},
   "outputs": [
    {
     "name": "stdout",
     "output_type": "stream",
     "text": [
      "Initial user-chosen interests\n",
      "\n",
      "{'DevOps': 10, 'Tests (SAT)': 10, 'Machine Learning': 10, 'Cats': 10, 'Cooking': 10, 'Random': 10}\n",
      "\n",
      "Updating weights for video tag: Shiba\n",
      "Total points to add: 2\n",
      "__________________________________________________\n",
      "\n",
      "Random value: 47.0\n",
      "\n",
      "\n",
      "Selected interest: Random\n",
      "\n",
      "!!Random!! tag selected: Machine Learning\n",
      "MODIFY THIS LATER TO POINT TO CSV COLUMN\n"
     ]
    },
    {
     "data": {
      "text/plain": [
       "'Machine Learning'"
      ]
     },
     "execution_count": 249,
     "metadata": {},
     "output_type": "execute_result"
    }
   ],
   "source": [
    "# Sample usage\n",
    "user_interests = create_user_interest_dict(user1_interests)\n",
    "print(\"Initial user-chosen interests\\n\")\n",
    "print(f\"{user_interests}\")\n",
    "\n",
    "watch_video_and_update_weight(user_interests, \"Shiba\", True, False, True, 0)\n",
    "\n",
    "# pprint(user_interests)\n",
    "\n",
    "get_random_tag_for_recommendation(user_interests)\n",
    "\n"
   ]
  },
  {
   "cell_type": "code",
   "execution_count": null,
   "metadata": {},
   "outputs": [],
   "source": []
  },
  {
   "cell_type": "markdown",
   "metadata": {},
   "source": [
    "___\n",
    "# Ranking Algorithm\n"
   ]
  },
  {
   "cell_type": "code",
   "execution_count": 271,
   "metadata": {},
   "outputs": [],
   "source": [
    "# Function for adding new rows to the collection\n",
    "\n",
    "# Convert the 'tags' column to a list of strings (grouped according to its respective row)\n",
    "documents = df[\"tags\"].apply(lambda x: x.split(\",\")).tolist()\n",
    "documents_str = [\", \".join(doc) for doc in documents]\n",
    "\n",
    "# Add the documents to the collection\n",
    "# todo: handle UUIDs\n",
    "ids = [str(i + 1) for i in range(len(documents_str))]\n",
    "\n",
    "# Add new rows to the collection\n",
    "collection.upsert(documents=documents_str, ids=ids)"
   ]
  },
  {
   "cell_type": "code",
   "execution_count": 252,
   "metadata": {},
   "outputs": [
    {
     "name": "stdout",
     "output_type": "stream",
     "text": [
      "{'data': None,\n",
      " 'distances': [[0.7705808650387771, 0.7919710278511047, 0.7948330884752528]],\n",
      " 'documents': [['Cryptocurrencies,  Bitcoin,  How it works,  Blockchain '\n",
      "                'technology,  Digital currency',\n",
      "                'Pandas,  Ruby,  Data Frames,  Manipulating Data',\n",
      "                'Stock markets,  Buying,  Selling,  Basics,  Understanding']],\n",
      " 'embeddings': None,\n",
      " 'ids': [['628', '526', '625']],\n",
      " 'metadatas': [[None, None, None]],\n",
      " 'uris': None}\n",
      "\n",
      "Title: Cryptocurrencies: How Bitcoin Works\n"
     ]
    }
   ],
   "source": [
    "# Query the collection for the top 3 most similar videos\n",
    "\n",
    "results = collection.query(query_texts=[\"Shiba\"], n_results=3)\n",
    "\n",
    "# Print the results\n",
    "pprint(results)\n",
    "\n",
    "# Get the ID of the first result\n",
    "result_id = int(results[\"ids\"][0][0])\n",
    "\n",
    "# Get the title corresponding to the ID\n",
    "title = df.loc[df[\"video_id\"] == result_id, \"video_title\"].values[0]\n",
    "\n",
    "print(f\"\\nTitle: {title}\")"
   ]
  },
  {
   "cell_type": "code",
   "execution_count": 253,
   "metadata": {},
   "outputs": [
    {
     "name": "stdout",
     "output_type": "stream",
     "text": [
      "\"Cryptocurrencies: How Bitcoin Works\" with ID 628 has been added to watched videos.\n"
     ]
    },
    {
     "data": {
      "text/plain": [
       "{628: 'Cryptocurrencies: How Bitcoin Works'}"
      ]
     },
     "execution_count": 253,
     "metadata": {},
     "output_type": "execute_result"
    }
   ],
   "source": [
    "# Functions handling the watched videos dictionary\n",
    "\n",
    "def add_to_watched(video_id, title, watched_dict):\n",
    "    watched_dict[video_id] = title\n",
    "    print(f'\"{title}\" with ID {video_id} has been added to watched videos.')\n",
    "    return watched_dict\n",
    "\n",
    "def show_to_user_again(video_id, title, watched_dict):\n",
    "    watched_dict.pop(video_id)\n",
    "    print(f'\"{title}\" with ID {video_id} will be shown to user again in the future.')\n",
    "    return watched_dict\n",
    "\n",
    "# Usage\n",
    "watched = {} # Should be in a class\n",
    "add_to_watched(result_id, title, watched)"
   ]
  },
  {
   "cell_type": "code",
   "execution_count": 254,
   "metadata": {},
   "outputs": [],
   "source": [
    "# Initialize the queue\n",
    "queue = {} # should be in class\n",
    "\n",
    "# Function to add videos to the queue\n",
    "def add_to_queue(interest_tag, n_results=5):\n",
    "    # Use ChromaDB to query top 5 videos closest to given interest\n",
    "    results = collection.query(query_texts=[interest_tag], n_results=n_results)\n",
    "    print(f'Queried top {n_results} videos for tag \"{interest_tag}\"')  # Debugging line\n",
    "\n",
    "    # Add the videos to the queue\n",
    "    for i in range(n_results):\n",
    "        result_id = int(results[\"ids\"][0][i])\n",
    "        title = df.loc[df[\"video_id\"] == result_id, \"video_title\"].values[0]\n",
    "        tag = df.loc[df[\"video_id\"] == result_id, \"tags\"].values[0].split(',')[0]  # get the first tag\n",
    "\n",
    "        # Check if the video has already been watched by user\n",
    "        if result_id not in watched:\n",
    "            queue[result_id] = tag\n",
    "            print(f'Added video with ID {result_id} and tag \"{tag}\" to the queue')  # Debugging line\n",
    "\n",
    "\n",
    "    return queue"
   ]
  },
  {
   "cell_type": "code",
   "execution_count": 255,
   "metadata": {},
   "outputs": [],
   "source": [
    "queue = {} # should be in class"
   ]
  },
  {
   "cell_type": "code",
   "execution_count": 256,
   "metadata": {},
   "outputs": [
    {
     "name": "stdout",
     "output_type": "stream",
     "text": [
      "Queried top 5 videos for tag \"Python\"\n",
      "Added video with ID 104 and tag \"Python\" to the queue\n",
      "Added video with ID 198 and tag \"Python\" to the queue\n",
      "Added video with ID 406 and tag \"Python\" to the queue\n",
      "Added video with ID 53 and tag \"Python\" to the queue\n",
      "Added video with ID 123 and tag \"Python\" to the queue\n"
     ]
    },
    {
     "data": {
      "text/plain": [
       "{104: 'Python', 198: 'Python', 406: 'Python', 53: 'Python', 123: 'Python'}"
      ]
     },
     "execution_count": 256,
     "metadata": {},
     "output_type": "execute_result"
    }
   ],
   "source": [
    "add_to_queue(\"Python\")"
   ]
  },
  {
   "cell_type": "code",
   "execution_count": 257,
   "metadata": {},
   "outputs": [
    {
     "name": "stdout",
     "output_type": "stream",
     "text": [
      "\"Cryptocurrencies: How Bitcoin Works\" with ID 104 has been added to watched videos.\n",
      "\n",
      "Updating weights for video tag: Python\n",
      "Total points to add: 0\n",
      "\n",
      "{'Cats': 8,\n",
      " 'Cooking': 8,\n",
      " 'DevOps': 8,\n",
      " 'Machine Learning': 8,\n",
      " 'Python': 10,\n",
      " 'Random': 10,\n",
      " 'Shiba': 9,\n",
      " 'Tests (SAT)': 8}\n"
     ]
    }
   ],
   "source": [
    "# Recommend and Queue videos function (MAIN)\n",
    "\n",
    "# Function to view a video\n",
    "def view_video(queue, user_dict_interest, watched_dict):\n",
    "\n",
    "    # Pop the first video from the queue\n",
    "    video_id, interest_tag = next(iter(queue.items()))\n",
    "    del queue[video_id]\n",
    "\n",
    "    # Add the video to the watched videos\n",
    "    add_to_watched(video_id, title, watched_dict)\n",
    "\n",
    "    # Update the user's interest weights based on the watched video\n",
    "    watch_video_and_update_weight(user_dict_interest, interest_tag) # SIMULATION - User took no action\n",
    "\n",
    "    # If the queue length drops to 2, get random tag and add more videos to the queue\n",
    "    if len(queue) <= 2:\n",
    "        print(\"\\nAdding more videos to the queue...\\n\")\n",
    "        new_interest_tag = get_random_tag_for_recommendation(user_dict_interest)\n",
    "        add_to_queue(new_interest_tag, 5)\n",
    "\n",
    "    return queue\n",
    "\n",
    "# Add the first 5 videos to the queue\n",
    "view_video(queue, user_interests, watched)\n",
    "\n",
    "print()\n",
    "pprint(user_interests)"
   ]
  },
  {
   "cell_type": "code",
   "execution_count": 267,
   "metadata": {},
   "outputs": [
    {
     "data": {
      "text/plain": [
       "[]"
      ]
     },
     "execution_count": 267,
     "metadata": {},
     "output_type": "execute_result"
    }
   ],
   "source": [
    "# list all collections\n",
    "chroma_client.list_collections()"
   ]
  },
  {
   "cell_type": "code",
   "execution_count": 266,
   "metadata": {},
   "outputs": [],
   "source": [
    "chroma_client.delete_collection(name=\"Edgur_Video_DB_Vectorstore\")"
   ]
  },
  {
   "cell_type": "code",
   "execution_count": null,
   "metadata": {},
   "outputs": [],
   "source": []
  }
 ],
 "metadata": {
  "kernelspec": {
   "display_name": "Python 3",
   "language": "python",
   "name": "python3"
  },
  "language_info": {
   "codemirror_mode": {
    "name": "ipython",
    "version": 3
   },
   "file_extension": ".py",
   "mimetype": "text/x-python",
   "name": "python",
   "nbconvert_exporter": "python",
   "pygments_lexer": "ipython3",
   "version": "3.11.9"
  }
 },
 "nbformat": 4,
 "nbformat_minor": 2
}
