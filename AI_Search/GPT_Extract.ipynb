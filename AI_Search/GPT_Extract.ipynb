{
 "cells": [
  {
   "cell_type": "markdown",
   "metadata": {},
   "source": [
    "### #BreakItDown\n",
    "\n",
    "0. [Sequential Spreadsheet](https://docs.google.com/spreadsheets/d/e/2PACX-1vSAE2tBAnAdXsxk9a9YClFN7MSEVhzEmJD01ewwtooMLxL-Ilod26EbdD8sZeZk0ybiqD-jqT-9RZbn) should more cohesive serieses (ideal case)\n",
    "1. Extract partial captions from query + edge cases\n",
    "    1. Topic, difficulty, and duration\n",
    "2. Form the perfect playlist-making prompt\n",
    "    1. Optimize for chroma DB\n",
    "    2. Learn if you really need chroma DB to avoid hallucinations\n",
    "3. Learn how to exclude based on distance?\n",
    "4. Work with heroku postgres data. \n",
    "    1. See current search implementation\n",
    "\n",
    "___\n",
    "\n",
    "### OPTIONAL\n",
    "-1. Message Heather\n",
    "\n",
    "0. Open Chase Checking/Savings\n",
    "1. Deactivate BOFA Debit/Credit\n",
    "2. Deactivate Discover CC\n",
    "\n",
    "___"
   ]
  },
  {
   "cell_type": "code",
   "execution_count": 29,
   "metadata": {},
   "outputs": [
    {
     "name": "stdout",
     "output_type": "stream",
     "text": [
      "Docker: Setting up a Docker environment efficiently~Intermediate~5~\"Docker Setup Masterclass\"~Comprehensive playlist covering step-by-step tutorials on setting up Docker environment quickly and effectively. \n",
      "\n",
      "('Topic: Docker: Setting up a Docker environment efficiently, Difficulty: '\n",
      " 'Intermediate, Number of Videos: 5, Playlist Title: \"Docker Setup '\n",
      " 'Masterclass\", Playlist Description: Comprehensive playlist covering '\n",
      " 'step-by-step tutorials on setting up Docker environment quickly and '\n",
      " 'effectively.')\n"
     ]
    }
   ],
   "source": [
    "import openai\n",
    "from pprint import pprint\n",
    "\n",
    "def extract_details(user_input):\n",
    "    response = openai.ChatCompletion.create(\n",
    "        model=\"gpt-3.5-turbo\",\n",
    "        messages=[\n",
    "            {\n",
    "                \"role\": \"system\",\n",
    "                \"content\": \"As an education-focused assistant, your task is to extract key details from user queries to help them maximize their learning experience.\"\n",
    "            },\n",
    "            {\n",
    "                \"role\": \"system\",\n",
    "                \"content\": \"Please return a string that includes the following details, separated by a tilde (~): the detailed topic (the more detailed, the better), the difficulty level, the number of videos needed to form a playlist (integer only), the name of the playlist, and a concise description of the playlist.\"\n",
    "            },\n",
    "            {\n",
    "                \"role\": \"user\",\n",
    "                \"content\": f\"Please extract the following details from this query: '{user_input}'. The details are: topic, difficulty, duration, potential playlist title, and playlist description.\"\n",
    "            },\n",
    "            {\n",
    "                \"role\": \"user\",\n",
    "                \"content\": \"Remember, your response should be a single string with each value separated by a tilde (~).\"\n",
    "            }\n",
    "        ]\n",
    "    )\n",
    "    details = response.choices[0].message['content'].strip()\n",
    "    return details\n",
    "\n",
    "def split_details(details):\n",
    "    topic, difficulty, duration, playlist_title, playlist_desc = details.split('~')\n",
    "    return topic.strip(), difficulty.strip(), duration.strip(), playlist_title.strip(), playlist_desc.strip()\n",
    "\n",
    "# Example Usage\n",
    "user_input = \"I want to learn setting up a Docker environment quickly.\"\n",
    "details = extract_details(user_input)\n",
    "\n",
    "print(details, \"\\n\")\n",
    "topic, difficulty, duration, playlist_title, playlist_desc = split_details(details)\n",
    "\n",
    "pprint(f\"Topic: {topic}, Difficulty: {difficulty}, Number of Videos: {duration}, Playlist Title: {playlist_title}, Playlist Description: {playlist_desc}\")\n"
   ]
  },
  {
   "cell_type": "code",
   "execution_count": 31,
   "metadata": {},
   "outputs": [
    {
     "name": "stdout",
     "output_type": "stream",
     "text": [
      "Generated Curriculum for Playlist:\n",
      "\"Docker Setup Masterclass\" \n",
      " Comprehensive playlist covering step-by-step tutorials on setting up Docker environment quickly and effectively. \n",
      "\n",
      "1. Docker Setup: Installing Docker on Windows, macOS, and Linux\n",
      "2. Docker Images and Containers: Understanding the relationship and creating your first container\n",
      "3. Docker Compose: Managing multi-container applications efficiently\n",
      "4. Docker Volumes: Managing data persistence in Docker\n",
      "5. Docker Networking: Configuring network settings for containers\n"
     ]
    }
   ],
   "source": [
    "def create_curriculum_prompt(topic, difficulty, duration):\n",
    "    # Constructs the prompt to generate a curriculum\n",
    "    return f\"Create a short video curriculum on {topic} with a {difficulty} difficulty level, designed to be covered in excatly {duration} videos.\"\n",
    "\n",
    "def generate_curriculum(topic, difficulty, duration):\n",
    "    prompt = create_curriculum_prompt(topic, difficulty, duration)\n",
    "\n",
    "    response = openai.ChatCompletion.create(\n",
    "        model=\"gpt-3.5-turbo\",\n",
    "        messages=[\n",
    "            {\"role\": \"system\", \"content\": \"You are an experienced educational computer scientist now teaching others.\"},\n",
    "            {\"role\": \"system\", \"content\": \"You return only a list without sublists, following the exact number of videos as specificed by the prompt.\"},\n",
    "            {\"role\": \"system\", \"content\": \"You don't add prefix and suffixes, just the video title. Make sure the video title is detailed enough for a vectorstore DB to query easily.\"},\n",
    "            {\"role\": \"user\", \"content\": prompt}\n",
    "        ]\n",
    "    )\n",
    "\n",
    "    return response.choices[0].message['content']\n",
    "\n",
    "# Example Usage\n",
    "curriculum = generate_curriculum(topic, difficulty, duration)\n",
    "print(f\"Generated Curriculum for Playlist:\")\n",
    "print(playlist_title, \"\\n\", playlist_desc, \"\\n\")\n",
    "print(curriculum)\n"
   ]
  },
  {
   "cell_type": "code",
   "execution_count": null,
   "metadata": {},
   "outputs": [],
   "source": []
  }
 ],
 "metadata": {
  "kernelspec": {
   "display_name": "Python 3",
   "language": "python",
   "name": "python3"
  },
  "language_info": {
   "codemirror_mode": {
    "name": "ipython",
    "version": 3
   },
   "file_extension": ".py",
   "mimetype": "text/x-python",
   "name": "python",
   "nbconvert_exporter": "python",
   "pygments_lexer": "ipython3",
   "version": "3.11.9"
  }
 },
 "nbformat": 4,
 "nbformat_minor": 2
}
