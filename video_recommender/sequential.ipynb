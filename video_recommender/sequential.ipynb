{
 "cells": [
  {
   "cell_type": "code",
   "execution_count": 16,
   "metadata": {},
   "outputs": [],
   "source": [
    "# video_recommender/chromadb_helper.py\n",
    "\n",
    "import pandas as pd\n",
    "import chromadb\n",
    "from chromadb.utils import embedding_functions\n",
    "from constants import *\n",
    "\n",
    "# video_recommender/constants.py\n",
    "# video_recommender/constants.py\n",
    "import os\n",
    "from dotenv import load_dotenv\n",
    "import pandas as pd\n",
    "\n",
    "load_dotenv()  # take environment variables from .env.\n",
    "\n",
    "NEW_VIDEO_WEIGHT = 10\n",
    "STARTING_WEIGHT = 10\n",
    "USER_MIN_INTEREST = 4\n",
    "USER_MAX_INTEREST = 8\n",
    "COUNT_QUEUED_VIDEOS = 5\n",
    "\n",
    "\n",
    "# User Actions\n",
    "LIKE = 1\n",
    "SHARE = 2\n",
    "WATCH = 1  # more than 50% of total duration\n",
    "LOOP = 1\n",
    "\n",
    "# AI-Related Constants\n",
    "OPENAI_API_KEY = os.getenv(\"OPENAI_API_KEY\")\n",
    "OPENAI_EmbeddingModel = \"text-embedding-3-small\"\n",
    "\n",
    "# ChromaDB\n",
    "chromadb_name = \"Edgur_Video_DB_Vectorstore\"\n",
    "\n",
    "# DB\n",
    "db_url = \"https://docs.google.com/spreadsheets/d/e/2PACX-1vSAE2tBAnAdXsxk9a9YClFN7MSEVhzEmJD01ewwtooMLxL-Ilod26EbdD8sZeZk0ybiqD-jqT-9RZbn/pub?gid=497214901&single=true&output=csv\"  # test spreadsheet\n",
    "df = pd.read_csv(db_url)"
   ]
  },
  {
   "cell_type": "code",
   "execution_count": null,
   "metadata": {},
   "outputs": [],
   "source": [
    "\n",
    "def initialize_chromadb():\n",
    "    \"\"\"\n",
    "    Initialize ChromaDB client and collection.\n",
    "\n",
    "    Returns:\n",
    "    collection: Initialized ChromaDB collection.\n",
    "    \"\"\"\n",
    "    chroma_client = chromadb.PersistentClient(path=\"db\")\n",
    "    openai_ef = embedding_functions.OpenAIEmbeddingFunction(\n",
    "        api_key=OPENAI_API_KEY, model_name=OPENAI_EmbeddingModel\n",
    "    )\n",
    "    collection = chroma_client.get_or_create_collection(\n",
    "        name=chromadb_name,\n",
    "        embedding_function=openai_ef,\n",
    "        metadata={\"hnsw:space\": \"cosine\"},\n",
    "    )\n",
    "    return collection\n",
    "\n",
    "\n",
    "def add_or_update_chromadb_rows(df, collection):\n",
    "    \"\"\"\n",
    "    Add or update rows in the ChromaDB collection.\n",
    "\n",
    "    Parameters:\n",
    "    df (DataFrame): DataFrame containing video data.\n",
    "    collection: ChromaDB collection.\n",
    "    \"\"\"\n",
    "    documents = df[\"tags\"].apply(lambda x: x.split(\",\")).tolist()\n",
    "    documents_str = [\", \".join(doc) for doc in documents]\n",
    "    ids = [str(i + 1) for i in range(len(documents_str))]\n",
    "    collection.upsert(documents=documents_str, ids=ids)\n"
   ]
  },
  {
   "cell_type": "code",
   "execution_count": null,
   "metadata": {},
   "outputs": [],
   "source": [
    "collection = initialize_chromadb()\n",
    "add_or_update_chromadb_rows(df, collection)"
   ]
  },
  {
   "cell_type": "code",
   "execution_count": 14,
   "metadata": {},
   "outputs": [],
   "source": [
    "import openai\n",
    "import chromadb\n",
    "from chromadb.config import Settings\n",
    "\n",
    "# Initialize ChromaDB\n",
    "chroma_client = chromadb.Client(Settings())\n",
    "\n",
    "# Define template for the system message\n",
    "system_message_template = \"\"\"\n",
    "You are a seasoned developer and computer scientist turned educator, specializing in creating structured learning paths for students of various levels. You have extensive experience in designing curriculums that progress from beginner to intermediate to advanced topics strictly in bullet points. You do not say anything else apart from said bullet points.\n",
    "\"\"\"\n",
    "\n",
    "# Define template for the user message\n",
    "user_message_template = \"Generate a 10-item-only (no subtopics) curriculum for learning {topic} that progresses from beginner to intermediate to advanced topics.\"\n",
    "\n",
    "# Define function to generate curriculum\n",
    "def generate_curriculum(topic):\n",
    "    user_message = user_message_template.format(topic=topic)\n",
    "    response = openai.ChatCompletion.create(\n",
    "        model=\"gpt-3.5-turbo\",\n",
    "        messages=[\n",
    "            {\"role\": \"system\", \"content\": system_message_template},\n",
    "            {\"role\": \"user\", \"content\": user_message}\n",
    "        ]\n",
    "    )\n",
    "    curriculum = response['choices'][0]['message']['content']\n",
    "    return curriculum.strip().split('\\n')"
   ]
  },
  {
   "cell_type": "code",
   "execution_count": 15,
   "metadata": {},
   "outputs": [
    {
     "data": {
      "text/plain": [
       "['- Introduction to Databases and MySQL',\n",
       " '- Basic SQL Commands (SELECT, INSERT, UPDATE, DELETE)',\n",
       " '- Filtering and Sorting Data',\n",
       " '- Working with Functions and Aggregations',\n",
       " '- Joins and Unions',\n",
       " '- Indexing and Optimization',\n",
       " '- Transactions and Locking',\n",
       " '- Stored Procedures and Functions',\n",
       " '- Triggers and Events',\n",
       " '- Advanced Query Optimization and Performance Tuning']"
      ]
     },
     "execution_count": 15,
     "metadata": {},
     "output_type": "execute_result"
    }
   ],
   "source": [
    "generate_curriculum(\"MySQL\")"
   ]
  },
  {
   "cell_type": "code",
   "execution_count": null,
   "metadata": {},
   "outputs": [],
   "source": [
    "\n",
    "# Load video data into ChromaDB (dummy data for example)\n",
    "video_data = [\n",
    "    {\"id\": \"video1\", \"title\": \"Introduction to SQL\", \"embedding\": [0.1, 0.2, ...]},\n",
    "    {\"id\": \"video2\", \"title\": \"Basic SQL Terms\", \"embedding\": [0.3, 0.1, ...]},\n",
    "    # ... more videos\n",
    "]\n",
    "\n",
    "# Add video data to ChromaDB\n",
    "for video in video_data:\n",
    "    chroma_client.add_document(\n",
    "        id=video[\"id\"],\n",
    "        text=video[\"title\"],\n",
    "        embedding=video[\"embedding\"]\n",
    "    )\n"
   ]
  },
  {
   "cell_type": "code",
   "execution_count": null,
   "metadata": {},
   "outputs": [],
   "source": [
    "\n",
    "# Retrieve videos for each curriculum item\n",
    "def retrieve_videos(curriculum):\n",
    "    video_sequence = []\n",
    "    for item in curriculum:\n",
    "        results = chroma_client.query(item)\n",
    "        best_match = results[0]  # Assuming results are sorted by relevance\n",
    "        video_sequence.append(best_match[\"id\"])\n",
    "    return video_sequence\n"
   ]
  },
  {
   "cell_type": "code",
   "execution_count": null,
   "metadata": {},
   "outputs": [],
   "source": [
    "\n",
    "# Main process\n",
    "topic = \"SQL\"\n",
    "curriculum = generate_curriculum(topic)\n",
    "video_sequence = retrieve_videos(curriculum)\n",
    "\n",
    "print(\"Generated Curriculum:\")\n",
    "print(curriculum)\n",
    "\n",
    "print(\"Video Sequence:\")\n",
    "print(video_sequence)\n"
   ]
  }
 ],
 "metadata": {
  "kernelspec": {
   "display_name": "Python 3",
   "language": "python",
   "name": "python3"
  },
  "language_info": {
   "codemirror_mode": {
    "name": "ipython",
    "version": 3
   },
   "file_extension": ".py",
   "mimetype": "text/x-python",
   "name": "python",
   "nbconvert_exporter": "python",
   "pygments_lexer": "ipython3",
   "version": "3.11.9"
  }
 },
 "nbformat": 4,
 "nbformat_minor": 2
}
