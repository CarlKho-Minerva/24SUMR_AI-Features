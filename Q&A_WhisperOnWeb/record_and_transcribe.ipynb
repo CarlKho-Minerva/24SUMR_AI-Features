{
 "cells": [
  {
   "cell_type": "code",
   "execution_count": null,
   "metadata": {},
   "outputs": [],
   "source": [
    "# How to Record\n",
    "# https://people.csail.mit.edu/hubert/pyaudio/\n",
    "\n",
    "# Fixed by enabling VSCode's mic :) lmao\n",
    "# https://stackoverflow.com/questions/61277449/mac-os-mojave-microphone-permission-for-visual-studio-code\n",
    "\n",
    "import wave\n",
    "import sys\n",
    "\n",
    "import pyaudio\n",
    "\n",
    "CHUNK = 1024\n",
    "FORMAT = pyaudio.paInt16\n",
    "CHANNELS = 1 if sys.platform == 'darwin' else 2\n",
    "RATE = 44100\n",
    "RECORD_SECONDS = 5\n",
    "\n",
    "with wave.open('output.wav', 'wb') as wf:\n",
    "    p = pyaudio.PyAudio()\n",
    "    wf.setnchannels(CHANNELS)\n",
    "    wf.setsampwidth(p.get_sample_size(FORMAT))\n",
    "    wf.setframerate(RATE)\n",
    "\n",
    "    stream = p.open(format=FORMAT, channels=CHANNELS, rate=RATE, input=True)\n",
    "\n",
    "    print('Recording...')\n",
    "    for _ in range(0, RATE // CHUNK * RECORD_SECONDS):\n",
    "        wf.writeframes(stream.read(CHUNK))\n",
    "    print('Done')\n",
    "\n",
    "    stream.close()\n",
    "    p.terminate()"
   ]
  },
  {
   "cell_type": "code",
   "execution_count": null,
   "metadata": {},
   "outputs": [],
   "source": [
    "import openai\n",
    "\n",
    "# Set your OpenAI API key\n",
    "# openai.api_key\n",
    "\n",
    "# Open the audio file you want to transcribe\n",
    "file_path = \"\"\n",
    "audio_file = open(file_path, \"rb\")\n",
    "\n",
    "# Use the openai.Audio class to create a transcription\n",
    "response = openai.Audio.transcribe(\n",
    "    model=\"whisper-1\", file=audio_file, response_format=\"text\"\n",
    ")\n",
    "\n",
    "# Print the transcription result\n",
    "print(response)"
   ]
  },
  {
   "cell_type": "markdown",
   "metadata": {},
   "source": [
    "Weird - above only works if you convert it to .mp3 first\n",
    "\n",
    "Used terminal:\n",
    "`ffmpeg -i \"/Users/cvk/Downloads/[CODE] Local Projects/24SUMR_Recommender-Algo/Q&A_WhisperOnWeb/padayonko.m4a\" \"/Users/cvk/Downloads/[CODE] Local Projects/24SUMR_Recommender-Algo/Q&A_WhisperOnWeb/padayonko.mp3\"`\n",
    "\n"
   ]
  },
  {
   "cell_type": "code",
   "execution_count": 27,
   "metadata": {},
   "outputs": [],
   "source": [
    "import simpleaudio as sa\n",
    "import openai\n",
    "import pyaudio\n",
    "import wave\n",
    "import tempfile\n",
    "import os\n",
    "\n",
    "def transcribe_audio(runPlayback=False):\n",
    "    \"\"\"\n",
    "    Records audio directly from the microphone and transcribes it to text using OpenAI's API.\n",
    "\n",
    "    Returns:\n",
    "        str: The transcription of the recorded audio.\n",
    "    \"\"\"\n",
    "    # Create a temporary file to store the recorded audio\n",
    "    temp_file = tempfile.NamedTemporaryFile(suffix=\".wav\", delete=False)\n",
    "    temp_file_name = temp_file.name\n",
    "\n",
    "    sample_rate = 16000\n",
    "    bits_per_sample = 16\n",
    "    chunk_size = 1024\n",
    "    audio_format = pyaudio.paInt16\n",
    "    channels = 1\n",
    "\n",
    "    def callback(in_data, frame_count, time_info, status):\n",
    "        wav_file.writeframes(in_data)\n",
    "        return None, pyaudio.paContinue\n",
    "\n",
    "    # Open the wave file for writing\n",
    "    with wave.open(temp_file_name, 'wb') as wav_file:\n",
    "        wav_file.setnchannels(channels)\n",
    "        wav_file.setsampwidth(bits_per_sample // 8)\n",
    "        wav_file.setframerate(sample_rate)\n",
    "\n",
    "        # Initialize PyAudio and start recording audio\n",
    "        audio = pyaudio.PyAudio()\n",
    "        stream = audio.open(format=audio_format,\n",
    "                            channels=channels,\n",
    "                            rate=sample_rate,\n",
    "                            input=True,\n",
    "                            frames_per_buffer=chunk_size,\n",
    "                            stream_callback=callback)\n",
    "\n",
    "        input(\"Press Enter to stop recording...\")\n",
    "\n",
    "        # Stop and close the audio stream\n",
    "        stream.stop_stream()\n",
    "        stream.close()\n",
    "        audio.terminate()\n",
    "\n",
    "    # Play the recorded audio\n",
    "    if runPlayback:\n",
    "        playback = sa.WaveObject.from_wave_file(temp_file.name)\n",
    "        play_obj = playback.play()\n",
    "        play_obj.wait_done()  # Wait until playback is finished\n",
    "\n",
    "    # Transcribe the audio to text using OpenAI's API\n",
    "    with open(temp_file_name, 'rb') as audio_file:\n",
    "        response = openai.Audio.transcribe(\n",
    "            file=audio_file,\n",
    "            model=\"whisper-1\",\n",
    "            prompt=\"Carl talks to Hadavand\"\n",
    "        )\n",
    "        transcription = response['text'].strip()\n",
    "\n",
    "    # Delete the temporary audio file\n",
    "    os.remove(temp_file_name)\n",
    "\n",
    "    return transcription"
   ]
  },
  {
   "cell_type": "code",
   "execution_count": 28,
   "metadata": {},
   "outputs": [
    {
     "name": "stdout",
     "output_type": "stream",
     "text": [
      "Transcription: Hi, my name is Karl and I'm going to be talking to Prof. Hadavand. Do you hear me, Sarah?\n"
     ]
    }
   ],
   "source": [
    "transcription = transcribe_audio(runPlayback=True)\n",
    "print(\"Transcription:\", transcription)"
   ]
  },
  {
   "cell_type": "code",
   "execution_count": null,
   "metadata": {},
   "outputs": [],
   "source": []
  }
 ],
 "metadata": {
  "kernelspec": {
   "display_name": "Python 3",
   "language": "python",
   "name": "python3"
  },
  "language_info": {
   "codemirror_mode": {
    "name": "ipython",
    "version": 3
   },
   "file_extension": ".py",
   "mimetype": "text/x-python",
   "name": "python",
   "nbconvert_exporter": "python",
   "pygments_lexer": "ipython3",
   "version": "3.11.9"
  }
 },
 "nbformat": 4,
 "nbformat_minor": 2
}
