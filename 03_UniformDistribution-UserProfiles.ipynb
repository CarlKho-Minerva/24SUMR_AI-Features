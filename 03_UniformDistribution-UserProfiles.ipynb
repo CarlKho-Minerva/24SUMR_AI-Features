{
 "cells": [
  {
   "cell_type": "code",
   "execution_count": 35,
   "metadata": {},
   "outputs": [],
   "source": [
    "from pprint import pprint\n",
    "import random\n"
   ]
  },
  {
   "cell_type": "code",
   "execution_count": 38,
   "metadata": {},
   "outputs": [
    {
     "name": "stdout",
     "output_type": "stream",
     "text": [
      "{'Cats': 18.0,\n",
      " 'Cooking': 18.0,\n",
      " 'DevOps': 18.0,\n",
      " 'Machine Learning': 18.0,\n",
      " 'Poop': 18.0,\n",
      " 'Random': 10}\n"
     ]
    }
   ],
   "source": [
    "def create_user_interest_dict(*interests):\n",
    "    interest_count = len(interests)\n",
    "    interest_weight = (100-10) / interest_count # Subtract 10 for 'Random'\n",
    "    user_interests = {interest: interest_weight for interest in interests}\n",
    "    user_interests['Random'] = 10 # Add 'Random' with constant value of 10\n",
    "    return user_interests\n",
    "\n",
    "carl_interests = create_user_interest_dict(\"DevOps\", \"Poop\", \"Machine Learning\", \"Cats\", \"Cooking\")\n",
    "pprint(carl_interests)"
   ]
  },
  {
   "cell_type": "code",
   "execution_count": null,
   "metadata": {},
   "outputs": [],
   "source": [
    "\n",
    "# Initial Interests\n",
    "CarlInterests = {\n",
    "    \"DevOps\": 22.5,\n",
    "    \"Machine Learning\": 22.5,\n",
    "    \"Cats\": 22.5,\n",
    "    \"Cooking\": 22.5,\n",
    "    \"Random\": 10,\n",
    "}\n",
    "\n",
    "# Actions and their corresponding points to add\n",
    "Actions = {\n",
    "    \"Like\": 0.1,\n",
    "    \"Share\": 0.2,\n",
    "    \"Watch\": 0.1,  # more than 50% of total duration\n",
    "    # todo: experiment with increasing watch value\n",
    "    \"Loop\": 0.05,\n",
    "}"
   ]
  },
  {
   "cell_type": "code",
   "execution_count": 26,
   "metadata": {},
   "outputs": [],
   "source": [
    "def update_weight(\n",
    "    user_dict_interest,\n",
    "    video_tag,\n",
    "    liked=False,\n",
    "    shared=False,\n",
    "    watched=False,\n",
    "    loop_count=0,\n",
    "):\n",
    "    total_points = 0\n",
    "    if liked:\n",
    "        total_points += Actions[\"Like\"]\n",
    "    if shared:\n",
    "        total_points += Actions[\"Share\"]\n",
    "    if watched:\n",
    "        total_points += Actions[\"Watch\"]\n",
    "    total_points += loop_count * Actions[\"Loop\"]\n",
    "\n",
    "    print(f\"\\nUpdating weights for video tag: {video_tag}\")\n",
    "    print(f\"Total points to add: {total_points}\")\n",
    "\n",
    "    if video_tag in user_dict_interest:\n",
    "        # Increase the weight of the interest based on the action points\n",
    "        user_dict_interest[video_tag] += total_points\n",
    "        print(f\"Updated {video_tag} to {user_dict_interest[video_tag]}\\n\")\n",
    "\n",
    "        # Deduct the total points proportionally from existing interests (excluding 'Random' and the video_tag itself)\n",
    "        total_deductable_weight = sum(\n",
    "            weight for interest, weight in user_dict_interest.items()\n",
    "            if interest != \"Random\" and interest != video_tag\n",
    "        )\n",
    "        print(\n",
    "            f\"Total weight to deduct from other interests: {total_points}\\nTotal deductable weight (excluding 'Random' and {video_tag}): {total_deductable_weight}\"\n",
    "        )\n",
    "        for interest in user_dict_interest:\n",
    "            if interest != \"Random\" and interest != video_tag:\n",
    "                deduction = (\n",
    "                    total_points / total_deductable_weight\n",
    "                ) * user_dict_interest[interest]\n",
    "                user_dict_interest[interest] -= deduction\n",
    "                print(\n",
    "                    f\"Deducted {deduction} from {interest}, new weight: {user_dict_interest[interest]}\"\n",
    "                )\n",
    "    else:\n",
    "        # Add new interest if it doesn't exist and give initial points\n",
    "        initial_points = 5\n",
    "        user_dict_interest[video_tag] = initial_points\n",
    "        print(f\"Added new interest {video_tag} with initial weight: {initial_points}\")\n",
    "\n",
    "        # Deduct initial points proportionally from existing interests (excluding 'Random')\n",
    "        total_deductable_weight = sum(\n",
    "            weight\n",
    "            for interest, weight in user_dict_interest.items()\n",
    "            if interest != \"Random\" and interest != video_tag\n",
    "        )\n",
    "        print(\n",
    "            f\"Total weight to deduct from other interests: {initial_points}\\nTotal deductable weight (excluding 'Random' and {video_tag}): {total_deductable_weight}\"\n",
    "        )\n",
    "        for interest in user_dict_interest:\n",
    "            if interest != \"Random\" and interest != video_tag:\n",
    "                deduction = (\n",
    "                    initial_points / total_deductable_weight\n",
    "                ) * user_dict_interest[interest]\n",
    "                user_dict_interest[interest] -= deduction\n",
    "                pprint(\n",
    "                    f\"Deducted {deduction} from {interest}, new weight: {user_dict_interest[interest]}\"\n",
    "                )\n",
    "\n",
    "    # Check total weight to ensure it sums to 100 (for debugging purposes)\n",
    "    total_weight = sum(user_dict_interest.values())\n",
    "    print(f\"Total weight after update: {total_weight} (should be 100)\\n\")\n",
    "    print(f\"Updated interests: {user_dict_interest}\\n\")\n",
    "\n",
    "    return user_dict_interest"
   ]
  },
  {
   "cell_type": "code",
   "execution_count": 27,
   "metadata": {},
   "outputs": [
    {
     "name": "stdout",
     "output_type": "stream",
     "text": [
      "Before update: {'DevOps': 22.8, 'Machine Learning': 22.4, 'Cats': 22.4, 'Cooking': 22.4, 'Random': 10}\n",
      "\n",
      "Updating weights for video tag: DevOps\n",
      "Total points to add: 0.30000000000000004\n",
      "Updated DevOps to 23.1\n",
      "\n",
      "Total weight to deduct from other interests: 0.30000000000000004\n",
      "Total deductable weight (excluding 'Random' and DevOps): 67.19999999999999\n",
      "Deducted 0.10000000000000003 from Machine Learning, new weight: 22.299999999999997\n",
      "Deducted 0.10000000000000003 from Cats, new weight: 22.299999999999997\n",
      "Deducted 0.10000000000000003 from Cooking, new weight: 22.299999999999997\n",
      "Total weight after update: 99.99999999999999 (should be 100)\n",
      "\n",
      "Updated interests: {'DevOps': 23.1, 'Machine Learning': 22.299999999999997, 'Cats': 22.299999999999997, 'Cooking': 22.299999999999997, 'Random': 10}\n",
      "\n",
      "After update: {'DevOps': 23.1, 'Machine Learning': 22.299999999999997, 'Cats': 22.299999999999997, 'Cooking': 22.299999999999997, 'Random': 10}\n"
     ]
    }
   ],
   "source": [
    "# Test the update_weight function\n",
    "print(\"Before update:\", CarlInterests)\n",
    "update_weight(CarlInterests, \"DevOps\", liked=True, watched=True, loop_count=2)\n",
    "print(\"After update:\", CarlInterests)"
   ]
  },
  {
   "cell_type": "code",
   "execution_count": 28,
   "metadata": {},
   "outputs": [],
   "source": [
    "def get_random_interest(user_dict_interest):\n",
    "    random_value = random.uniform(0, 100)\n",
    "    print(\"_\"*50)\n",
    "    print(f\"\\nRandom value: {random_value}\")\n",
    "    cumulative_probability = 0.0\n",
    "    visualization = []\n",
    "\n",
    "    for interest, probability in user_dict_interest.items():\n",
    "        previous_cumulative_probability = cumulative_probability\n",
    "        cumulative_probability += probability\n",
    "        visualization.append(\n",
    "            (interest, previous_cumulative_probability, cumulative_probability)\n",
    "        )\n",
    "        pprint(\n",
    "            f\"Checking interest: {interest}, cumulative range: {previous_cumulative_probability} - {cumulative_probability}\"\n",
    "        )\n",
    "        if random_value <= cumulative_probability:\n",
    "            print(f\"Selected interest: {interest}\\n\")\n",
    "            break\n",
    "\n",
    "    return interest"
   ]
  },
  {
   "cell_type": "code",
   "execution_count": 29,
   "metadata": {},
   "outputs": [
    {
     "name": "stdout",
     "output_type": "stream",
     "text": [
      "__________________________________________________\n",
      "\n",
      "Random value: 51.71416979964486\n",
      "'Checking interest: DevOps, cumulative range: 0.0 - 23.1'\n",
      "'Checking interest: Machine Learning, cumulative range: 23.1 - 45.4'\n",
      "'Checking interest: Cats, cumulative range: 45.4 - 67.69999999999999'\n",
      "Selected interest: Cats\n",
      "\n",
      "Randomly selected interest: Cats\n"
     ]
    }
   ],
   "source": [
    "# Test the get_random_interest function\n",
    "selected_interest = get_random_interest(CarlInterests)\n",
    "print(f\"Randomly selected interest: {selected_interest}\")"
   ]
  },
  {
   "cell_type": "markdown",
   "metadata": {},
   "source": [
    "___"
   ]
  },
  {
   "cell_type": "markdown",
   "metadata": {},
   "source": [
    "# ARCHIVE"
   ]
  },
  {
   "cell_type": "code",
   "execution_count": 14,
   "metadata": {},
   "outputs": [],
   "source": [
    "# class User\n",
    "    # def like\n"
   ]
  },
  {
   "cell_type": "code",
   "execution_count": 15,
   "metadata": {},
   "outputs": [
    {
     "name": "stdout",
     "output_type": "stream",
     "text": [
      "{'DevOps': 45, 'Machine Learning': 45, 'Random': 10}\n"
     ]
    }
   ],
   "source": [
    "# Init - Choose Categories\n",
    "\n",
    "# Carl chose 2 categories\n",
    "# Always adds up to 100\n",
    "CarlInterests = {\n",
    "    'DevOps': 45,\n",
    "    'Machine Learning': 45,\n",
    "    'Random': 10,\n",
    "}\n",
    "\n",
    "print(CarlInterests)"
   ]
  },
  {
   "cell_type": "code",
   "execution_count": 16,
   "metadata": {},
   "outputs": [
    {
     "name": "stdout",
     "output_type": "stream",
     "text": [
      "DevOps exists in {'DevOps': 45, 'Machine Learning': 45, 'Random': 10}\n",
      "\n",
      "Recalculating...\n",
      "{'Like': 0.1, 'Share': 0.2, 'Watch': 0.1, 'Loop': 0.05}\n",
      "45.1\n",
      "\n",
      "Machine Learning 45\n",
      "Machine Learning 45\n",
      "{'DevOps': 45.1, 'Machine Learning': 44.9, 'Random': 10}\n"
     ]
    }
   ],
   "source": [
    "# Updating Weights\n",
    "\n",
    "# Is called when watching a video\n",
    "\n",
    "# Actions taken by user and their corresponding points to add\n",
    "Actions = {\n",
    "    'Like': 0.1,\n",
    "    'Share': 0.2,\n",
    "    'Watch': 0.1, # more than 50% of total duration\n",
    "    'Loop': 0.05\n",
    "}\n",
    "\n",
    "tag = \"DevOps\"\n",
    "\n",
    "def update_weight(user_dict_interest, video_tag, liked=False, shared=False, watched=False,):\n",
    "    if video_tag in user_dict_interest:\n",
    "        print(f\"{video_tag} exists in {user_dict_interest}\\n\")\n",
    "\n",
    "        print(\"Recalculating...\")\n",
    "        print(Actions)\n",
    "        user_dict_interest[tag] = user_dict_interest.get(tag)+Actions.get(\"Like\")\n",
    "        print(f\"{user_dict_interest.get(tag)}\\n\")\n",
    "\n",
    "        for interest, weight in user_dict_interest.items():\n",
    "            if interest != video_tag and interest != 'Random':\n",
    "                  print(interest, weight)\n",
    "                  user_dict_interest[interest] = weight - Actions.get(\"Like\")\n",
    "                  print(interest, weight)\n",
    "\n",
    "    # else:\n",
    "\n",
    "update_weight(CarlInterests, \"DevOps\")\n",
    "\n",
    "print(CarlInterests)\n"
   ]
  },
  {
   "cell_type": "code",
   "execution_count": 17,
   "metadata": {},
   "outputs": [],
   "source": [
    "# Auto-Adding Mechanism"
   ]
  },
  {
   "cell_type": "code",
   "execution_count": 18,
   "metadata": {},
   "outputs": [
    {
     "data": {
      "text/plain": [
       "0.1"
      ]
     },
     "execution_count": 18,
     "metadata": {},
     "output_type": "execute_result"
    }
   ],
   "source": [
    "def update_weight(\n",
    "    user_interests, video_tag, liked=False, shared=False, watched=False, loopCount=0\n",
    "):\n",
    "    user_actions = {\n",
    "        \"Like\": liked,\n",
    "        \"Share\": shared,\n",
    "        \"Watch\": watched,\n",
    "        \"Loop\": loopCount > 0,\n",
    "    }\n",
    "    for action, performed in user_actions.items():\n",
    "        if performed:\n",
    "            user_interests[video_tag] = user_interests.get(video_tag, 0) + Actions.get(\n",
    "                action, 0\n",
    "            )\n",
    "True /10"
   ]
  },
  {
   "cell_type": "code",
   "execution_count": null,
   "metadata": {},
   "outputs": [],
   "source": []
  },
  {
   "cell_type": "code",
   "execution_count": null,
   "metadata": {},
   "outputs": [],
   "source": []
  }
 ],
 "metadata": {
  "kernelspec": {
   "display_name": "Python 3",
   "language": "python",
   "name": "python3"
  },
  "language_info": {
   "codemirror_mode": {
    "name": "ipython",
    "version": 3
   },
   "file_extension": ".py",
   "mimetype": "text/x-python",
   "name": "python",
   "nbconvert_exporter": "python",
   "pygments_lexer": "ipython3",
   "version": "3.11.9"
  }
 },
 "nbformat": 4,
 "nbformat_minor": 2
}
