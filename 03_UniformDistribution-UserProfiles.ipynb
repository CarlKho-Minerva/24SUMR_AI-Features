{
 "cells": [
  {
   "cell_type": "code",
   "execution_count": 173,
   "metadata": {},
   "outputs": [],
   "source": [
    "from pprint import pprint\n",
    "import random"
   ]
  },
  {
   "cell_type": "code",
   "execution_count": 199,
   "metadata": {},
   "outputs": [],
   "source": [
    "def create_user_interest_dict(*interests):\n",
    "    interest_count = len(interests)\n",
    "    interest_weight = round((100-10) / interest_count,2) # Subtract 10 for 'Random'\n",
    "    user_interests = {interest: interest_weight for interest in interests}\n",
    "    user_interests['Random'] = 10 # Add 'Random' with constant value of 10\n",
    "    return user_interests"
   ]
  },
  {
   "cell_type": "code",
   "execution_count": 180,
   "metadata": {},
   "outputs": [],
   "source": [
    "# HELPER FUNCTIONS\n",
    "\n",
    "def observeActionsTaken(video_tag, liked, shared, watched, loop_count):\n",
    "    \"\"\"\n",
    "    This function calculates the total points based on the user's actions.\n",
    "\n",
    "    Parameters:\n",
    "    video_tag (str): The tag of the video.\n",
    "    liked (bool): Whether the user liked the video.\n",
    "    shared (bool): Whether the user shared the video.\n",
    "    watched (bool): Whether the user watched the video.\n",
    "    loop_count (int): The number of times the user looped the video.\n",
    "\n",
    "    Returns:\n",
    "    float: The total points calculated based on the user's actions.\n",
    "    \"\"\"\n",
    "    # Actions and their corresponding points to add\n",
    "    Actions = {\n",
    "        \"Like\": 0.1,\n",
    "        \"Share\": 0.2,\n",
    "        \"Watch\": 0.1,  # more than 50% of total duration\n",
    "        # todo: experiment with increasing watch value\n",
    "        \"Loop\": 0.05,\n",
    "    }\n",
    "\n",
    "    if liked:\n",
    "        total_points += Actions[\"Like\"]\n",
    "    if shared:\n",
    "        total_points += Actions[\"Share\"]\n",
    "    if watched:\n",
    "        total_points += Actions[\"Watch\"]\n",
    "    total_points += loop_count * Actions[\"Loop\"]\n",
    "\n",
    "    print(f\"\\nUpdating weights for video tag: {video_tag}\")\n",
    "    print(f\"Total points to add: {total_points}\")\n",
    "\n",
    "    return total_points\n",
    "\n",
    "def handleUpdateScore(user_dict_interest, video_tag, total_points):\n",
    "    \"\"\"\n",
    "    This function updates the user's interest score based on the total points.\n",
    "\n",
    "    Parameters:\n",
    "    user_dict_interest (dict): The user's interest dictionary.\n",
    "    video_tag (str): The tag of the video.\n",
    "    total_points (float): The total points calculated based on the user's actions.\n",
    "\n",
    "    Returns:\n",
    "    dict: The updated user's interest dictionary.\n",
    "    \"\"\"\n",
    "    # Increase the weight of the interest based on the action points\n",
    "    user_dict_interest[video_tag] += total_points\n",
    "    print(f\"Updated {video_tag} to {user_dict_interest[video_tag]}\\n\")\n",
    "\n",
    "    # Deduct the total points proportionally from existing interests (excluding 'Random' and the video_tag itself)\n",
    "    total_deductable_weight = sum(\n",
    "        weight for interest, weight in user_dict_interest.items()\n",
    "        if interest != \"Random\" and interest != video_tag\n",
    "\n",
    "    )\n",
    "    print(f\"Total weight to deduct from other interests: {total_points}\\nTotal deductable weight (excluding 'Random' and {video_tag}): {total_deductable_weight}\")\n",
    "\n",
    "    for interest in user_dict_interest:\n",
    "        if interest != \"Random\" and interest != video_tag:\n",
    "            deduction = (total_points / total_deductable_weight) * user_dict_interest[interest]\n",
    "            user_dict_interest[interest] -= deduction\n",
    "\n",
    "            print(f\"Deducted {deduction} from {interest}, new weight: {user_dict_interest[interest]}\")\n",
    "\n",
    "    return user_dict_interest\n",
    "\n",
    "def handleAddNewTag(user_dict_interest, video_tag):\n",
    "    \"\"\"\n",
    "    This function adds a new interest to the user's interest dictionary.\n",
    "\n",
    "    Parameters:\n",
    "    user_dict_interest (dict): The user's interest dictionary.\n",
    "    video_tag (str): The tag of the video.\n",
    "\n",
    "    Returns:\n",
    "    dict: The updated user's interest dictionary with the new interest added.\n",
    "    \"\"\"\n",
    "    # Add new interest if it doesn't exist and give initial points\n",
    "    initial_points = 5\n",
    "    user_dict_interest[video_tag] = initial_points\n",
    "    print(f\"Added new interest {video_tag} with initial weight: {initial_points}\")\n",
    "\n",
    "    # Deduct initial points proportionally from existing interests (excluding 'Random')\n",
    "    total_deductable_weight = sum(\n",
    "        weight\n",
    "        for interest, weight in user_dict_interest.items()\n",
    "        if interest != \"Random\" and interest != video_tag\n",
    "    )\n",
    "\n",
    "    print(f\"Total weight to deduct from other interests: {initial_points}\\nTotal deductable weight (excluding 'Random' and {video_tag}): {total_deductable_weight}\")\n",
    "\n",
    "    for interest in user_dict_interest:\n",
    "        if interest != \"Random\" and interest != video_tag:\n",
    "            deduction = (\n",
    "                initial_points / total_deductable_weight\n",
    "            ) * user_dict_interest[interest]\n",
    "            user_dict_interest[interest] -= deduction\n",
    "\n",
    "            pprint(f\"Deducted {deduction} from {interest}, new weight: {user_dict_interest[interest]}\")\n",
    "\n",
    "    return user_dict_interest"
   ]
  },
  {
   "cell_type": "code",
   "execution_count": 194,
   "metadata": {},
   "outputs": [],
   "source": [
    "def update_weight(\n",
    "    user_dict_interest,\n",
    "    video_tag,\n",
    "    liked=False,\n",
    "    shared=False,\n",
    "    watched=False,\n",
    "    loop_count=0,\n",
    "):\n",
    "\n",
    "    total_points = observeActionsTaken(video_tag, liked, shared, watched, loop_count)\n",
    "\n",
    "    if video_tag in user_dict_interest:\n",
    "        handleUpdateScore(user_dict_interest, video_tag, total_points)\n",
    "    else:\n",
    "        handleAddNewTag(user_dict_interest, video_tag)\n",
    "\n",
    "    # Check total weight to ensure it sums to 100 (for debugging purposes)\n",
    "    total_weight = sum(user_dict_interest.values())\n",
    "    print(f\"Total weight after update: {total_weight} (should be 100)\\n\")\n",
    "    print(f\"Updated interests: {user_dict_interest}\\n\")\n",
    "\n",
    "    return user_dict_interest"
   ]
  },
  {
   "cell_type": "code",
   "execution_count": 230,
   "metadata": {},
   "outputs": [],
   "source": [
    "def get_random_interest(user_dict_interest):\n",
    "    random_value = round(random.uniform(0, 100), 0)\n",
    "    print(\"_\"*50)\n",
    "    print(f\"\\nRandom value: {random_value}\\n\")\n",
    "    cumulative_probability = 0.0\n",
    "    visualization = []\n",
    "\n",
    "    for interest, probability in user_dict_interest.items():\n",
    "        previous_cumulative_probability = cumulative_probability\n",
    "        cumulative_probability += probability\n",
    "        visualization.append(\n",
    "            (interest, previous_cumulative_probability, cumulative_probability)\n",
    "        )\n",
    "        pprint(\n",
    "            f\"Checking interest: {interest}, cumulative range: {previous_cumulative_probability} - {cumulative_probability}\"\n",
    "        )\n",
    "        if random_value <= cumulative_probability:\n",
    "            print(f\"Selected interest: {interest}\\n\")\n",
    "            break\n",
    "\n",
    "    return interest"
   ]
  },
  {
   "cell_type": "code",
   "execution_count": 203,
   "metadata": {},
   "outputs": [
    {
     "name": "stdout",
     "output_type": "stream",
     "text": [
      "{'Cats': 18.0,\n",
      " 'Cooking': 18.0,\n",
      " 'DevOps': 18.0,\n",
      " 'Machine Learning': 18.0,\n",
      " 'Random': 10,\n",
      " 'Tests (SAT)': 18.0}\n"
     ]
    }
   ],
   "source": [
    "# New user selects interests (max 5)\n",
    "# 10 total - 5 start to discover other 5 naturally\n",
    "\n",
    "carl_interests = create_user_interest_dict(\n",
    "    \"DevOps\", \"Tests (SAT)\", \"Machine Learning\", \"Cats\", \"Cooking\"\n",
    ")\n",
    "pprint(carl_interests)"
   ]
  },
  {
   "cell_type": "code",
   "execution_count": 214,
   "metadata": {},
   "outputs": [
    {
     "name": "stdout",
     "output_type": "stream",
     "text": [
      "\n",
      "Updating weights for video tag: NewTag\n",
      "Total points to add: 0.5\n",
      "Updated NewTag to 8.5\n",
      "\n",
      "Total weight to deduct from other interests: 0.5\n",
      "Total deductable weight (excluding 'Random' and NewTag): 82.00000000000001\n",
      "Deducted 0.1 from DevOps, new weight: 16.3\n",
      "Deducted 0.1 from Tests (SAT), new weight: 16.3\n",
      "Deducted 0.1 from Machine Learning, new weight: 16.3\n",
      "Deducted 0.1 from Cats, new weight: 16.3\n",
      "Deducted 0.1 from Cooking, new weight: 16.3\n",
      "Total weight after update: 100.0 (should be 100)\n",
      "\n",
      "Updated interests: {'DevOps': 16.3, 'Tests (SAT)': 16.3, 'Machine Learning': 16.3, 'Cats': 16.3, 'Cooking': 16.3, 'Random': 10, 'NewTag': 8.5}\n",
      "\n"
     ]
    },
    {
     "data": {
      "text/plain": [
       "{'DevOps': 16.3,\n",
       " 'Tests (SAT)': 16.3,\n",
       " 'Machine Learning': 16.3,\n",
       " 'Cats': 16.3,\n",
       " 'Cooking': 16.3,\n",
       " 'Random': 10,\n",
       " 'NewTag': 8.5}"
      ]
     },
     "execution_count": 214,
     "metadata": {},
     "output_type": "execute_result"
    }
   ],
   "source": [
    "# Simulate user actions\n",
    "# pprint(f\"Before update: {carl_interests}\")\n",
    "\n",
    "update_weight(carl_interests, \"NewTag\", liked=True, watched=True, shared=True, loop_count=2)\n",
    "\n",
    "# pprint(f\"After update: {carl_interests}\")"
   ]
  },
  {
   "cell_type": "code",
   "execution_count": 234,
   "metadata": {},
   "outputs": [
    {
     "name": "stdout",
     "output_type": "stream",
     "text": [
      "__________________________________________________\n",
      "\n",
      "Random value: 64.0\n",
      "\n",
      "'Checking interest: DevOps, cumulative range: 0.0 - 16.3'\n",
      "'Checking interest: Tests (SAT), cumulative range: 16.3 - 32.6'\n",
      "('Checking interest: Machine Learning, cumulative range: 32.6 - '\n",
      " '48.900000000000006')\n",
      "'Checking interest: Cats, cumulative range: 48.900000000000006 - 65.2'\n",
      "Selected interest: Cats\n",
      "\n"
     ]
    }
   ],
   "source": [
    "# Simulate algorithm picking the next video to recommend via tag\n",
    "selected_interest = get_random_interest(carl_interests)"
   ]
  },
  {
   "cell_type": "code",
   "execution_count": null,
   "metadata": {},
   "outputs": [],
   "source": []
  }
 ],
 "metadata": {
  "kernelspec": {
   "display_name": "Python 3",
   "language": "python",
   "name": "python3"
  },
  "language_info": {
   "codemirror_mode": {
    "name": "ipython",
    "version": 3
   },
   "file_extension": ".py",
   "mimetype": "text/x-python",
   "name": "python",
   "nbconvert_exporter": "python",
   "pygments_lexer": "ipython3",
   "version": "3.11.9"
  }
 },
 "nbformat": 4,
 "nbformat_minor": 2
}
