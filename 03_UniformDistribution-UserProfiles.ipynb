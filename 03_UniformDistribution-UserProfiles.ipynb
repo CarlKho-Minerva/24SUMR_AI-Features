{
 "cells": [
  {
   "cell_type": "code",
   "execution_count": 72,
   "metadata": {},
   "outputs": [
    {
     "name": "stdout",
     "output_type": "stream",
     "text": [
      "Before update: {'DevOps': 45, 'Machine Learning': 45, 'Random': 10}\n",
      "\n",
      "Updating weights for video tag: DevOps\n",
      "Total points to add: 0.30000000000000004\n",
      "Updated DevOps to 45.3\n",
      "\n",
      "Total weight to deduct from other interests: 0.30000000000000004\n",
      "Total deductable weight (excluding 'Random' and DevOps): 45\n",
      "Deducted 0.30000000000000004 from Machine Learning, new weight: 44.7\n",
      "Total weight after update: 100.0 (should be 100)\n",
      "\n",
      "Updated interests: {'DevOps': 45.3, 'Machine Learning': 44.7, 'Random': 10}\n",
      "\n",
      "After update: {'DevOps': 45.3, 'Machine Learning': 44.7, 'Random': 10}\n",
      "\n",
      "Random value: 93.53842836051638\n",
      "Checking interest: DevOps, cumulative range: 0.0 - 45.3\n",
      "Checking interest: Machine Learning, cumulative range: 45.3 - 90.0\n",
      "Checking interest: Random, cumulative range: 90.0 - 100.0\n",
      "Selected interest: Random\n",
      "\n",
      "\n",
      "Cumulative ranges for each interest:\n",
      "DevOps: 0.0 - 45.3\n",
      "Machine Learning: 45.3 - 90.0\n",
      "Random: 90.0 - 100.0\n",
      "Random value 93.53842836051638 falls into the range for: Random\n",
      "Randomly selected interest: Random\n"
     ]
    }
   ],
   "source": [
    "from pprint import pprint\n",
    "import random\n",
    "\n",
    "# Initial Interests\n",
    "CarlInterests = {\n",
    "    'DevOps': 45,\n",
    "    'Machine Learning': 45,\n",
    "    'Random': 10,\n",
    "}\n",
    "\n",
    "# Actions and their corresponding points to add\n",
    "Actions = {\n",
    "    'Like': 0.1,\n",
    "    'Share': 0.2,\n",
    "    'Watch': 0.1,  # more than 50% of total duration\n",
    "    'Loop': 0.05\n",
    "}\n",
    "\n",
    "def update_weight(user_dict_interest, video_tag, liked=False, shared=False, watched=False, loop_count=0):\n",
    "    total_points = 0\n",
    "    if liked:\n",
    "        total_points += Actions['Like']\n",
    "    if shared:\n",
    "        total_points += Actions['Share']\n",
    "    if watched:\n",
    "        total_points += Actions['Watch']\n",
    "    total_points += loop_count * Actions['Loop']\n",
    "\n",
    "    print(f\"\\nUpdating weights for video tag: {video_tag}\")\n",
    "    print(f\"Total points to add: {total_points}\")\n",
    "\n",
    "    if video_tag in user_dict_interest:\n",
    "        # Increase the weight of the interest based on the action points\n",
    "        user_dict_interest[video_tag] += total_points\n",
    "        print(f\"Updated {video_tag} to {user_dict_interest[video_tag]}\\n\")\n",
    "\n",
    "        # Deduct the total points proportionally from existing interests (excluding 'Random' and the video_tag itself)\n",
    "        total_deductable_weight = sum(weight for interest, weight in user_dict_interest.items() if interest != 'Random' and interest != video_tag)\n",
    "        print(f\"Total weight to deduct from other interests: {total_points}\\nTotal deductable weight (excluding 'Random' and {video_tag}): {total_deductable_weight}\")\n",
    "        for interest in user_dict_interest:\n",
    "            if interest != 'Random' and interest != video_tag:\n",
    "                deduction = (total_points / total_deductable_weight) * user_dict_interest[interest]\n",
    "                user_dict_interest[interest] -= deduction\n",
    "                print(f\"Deducted {deduction} from {interest}, new weight: {user_dict_interest[interest]}\")\n",
    "    else:\n",
    "        # Add new interest if it doesn't exist and give initial points\n",
    "        initial_points = 5\n",
    "        user_dict_interest[video_tag] = initial_points\n",
    "        print(f\"Added new interest {video_tag} with initial weight: {initial_points}\")\n",
    "\n",
    "        # Deduct initial points proportionally from existing interests (excluding 'Random')\n",
    "        total_deductable_weight = sum(weight for interest, weight in user_dict_interest.items() if interest != 'Random' and interest != video_tag)\n",
    "        print(f\"Total weight to deduct from other interests: {initial_points}\\nTotal deductable weight (excluding 'Random' and {video_tag}): {total_deductable_weight}\")\n",
    "        for interest in user_dict_interest:\n",
    "            if interest != 'Random' and interest != video_tag:\n",
    "                deduction = (initial_points / total_deductable_weight) * user_dict_interest[interest]\n",
    "                user_dict_interest[interest] -= deduction\n",
    "                print(f\"Deducted {deduction} from {interest}, new weight: {user_dict_interest[interest]}\")\n",
    "\n",
    "    # Check total weight to ensure it sums to 100 (for debugging purposes)\n",
    "    total_weight = sum(user_dict_interest.values())\n",
    "    print(f\"Total weight after update: {total_weight} (should be 100)\\n\")\n",
    "    print(f\"Updated interests: {user_dict_interest}\\n\")\n",
    "\n",
    "def get_random_interest(user_dict_interest):\n",
    "    random_value = random.uniform(0, 100)\n",
    "    print(f\"\\nRandom value: {random_value}\")\n",
    "    cumulative_probability = 0.0\n",
    "    visualization = []\n",
    "\n",
    "    for interest, probability in user_dict_interest.items():\n",
    "        previous_cumulative_probability = cumulative_probability\n",
    "        cumulative_probability += probability\n",
    "        visualization.append((interest, previous_cumulative_probability, cumulative_probability))\n",
    "        print(f\"Checking interest: {interest}, cumulative range: {previous_cumulative_probability} - {cumulative_probability}\")\n",
    "        if random_value <= cumulative_probability:\n",
    "            print(f\"Selected interest: {interest}\\n\")\n",
    "            break\n",
    "\n",
    "    # Visualize the cumulative ranges\n",
    "    print(\"\\nCumulative ranges for each interest:\")\n",
    "    for interest, start, end in visualization:\n",
    "        print(f\"{interest}: {start} - {end}\")\n",
    "    print(f\"Random value {random_value} falls into the range for: {interest}\")\n",
    "\n",
    "    return interest\n",
    "\n",
    "# Test the update_weight function\n",
    "print(\"Before update:\", CarlInterests)\n",
    "update_weight(CarlInterests, \"DevOps\", liked=True, watched=True, loop_count=2)\n",
    "print(\"After update:\", CarlInterests)\n",
    "\n",
    "# Test the get_random_interest function\n",
    "selected_interest = get_random_interest(CarlInterests)\n",
    "print(f\"Randomly selected interest: {selected_interest}\")\n"
   ]
  },
  {
   "cell_type": "markdown",
   "metadata": {},
   "source": [
    "___"
   ]
  },
  {
   "cell_type": "markdown",
   "metadata": {},
   "source": [
    "# ARCHIVE"
   ]
  },
  {
   "cell_type": "code",
   "execution_count": 71,
   "metadata": {},
   "outputs": [],
   "source": [
    "# class User\n",
    "    # def like\n"
   ]
  },
  {
   "cell_type": "code",
   "execution_count": 56,
   "metadata": {},
   "outputs": [
    {
     "name": "stdout",
     "output_type": "stream",
     "text": [
      "{'DevOps': 45, 'Machine Learning': 45, 'Random': 10}\n"
     ]
    }
   ],
   "source": [
    "# Init - Choose Categories\n",
    "\n",
    "# Carl chose 2 categories\n",
    "# Always adds up to 100\n",
    "CarlInterests = {\n",
    "    'DevOps': 45,\n",
    "    'Machine Learning': 45,\n",
    "    'Random': 10,\n",
    "}\n",
    "\n",
    "print(CarlInterests)"
   ]
  },
  {
   "cell_type": "code",
   "execution_count": 57,
   "metadata": {},
   "outputs": [
    {
     "name": "stdout",
     "output_type": "stream",
     "text": [
      "DevOps exists in {'DevOps': 45, 'Machine Learning': 45, 'Random': 10}\n",
      "\n",
      "Recalculating...\n",
      "{'Like': 0.1, 'Share': 0.2, 'Watch': 0.1, 'Loop': 0.05}\n",
      "45.1\n",
      "\n",
      "Machine Learning 45\n",
      "Machine Learning 45\n",
      "{'DevOps': 45.1, 'Machine Learning': 44.9, 'Random': 10}\n"
     ]
    }
   ],
   "source": [
    "# Updating Weights\n",
    "\n",
    "# Is called when watching a video\n",
    "\n",
    "# Actions taken by user and their corresponding points to add\n",
    "Actions = {\n",
    "    'Like': 0.1,\n",
    "    'Share': 0.2,\n",
    "    'Watch': 0.1, # more than 50% of total duration\n",
    "    'Loop': 0.05\n",
    "}\n",
    "\n",
    "tag = \"DevOps\"\n",
    "\n",
    "def update_weight(user_dict_interest, video_tag, liked=False, shared=False, watched=False,):\n",
    "    if video_tag in user_dict_interest:\n",
    "        print(f\"{video_tag} exists in {user_dict_interest}\\n\")\n",
    "\n",
    "        print(\"Recalculating...\")\n",
    "        print(Actions)\n",
    "        user_dict_interest[tag] = user_dict_interest.get(tag)+Actions.get(\"Like\")\n",
    "        print(f\"{user_dict_interest.get(tag)}\\n\")\n",
    "\n",
    "        for interest, weight in user_dict_interest.items():\n",
    "            if interest != video_tag and interest != 'Random':\n",
    "                  print(interest, weight)\n",
    "                  user_dict_interest[interest] = weight - Actions.get(\"Like\")\n",
    "                  print(interest, weight)\n",
    "\n",
    "    # else:\n",
    "\n",
    "update_weight(CarlInterests, \"DevOps\")\n",
    "\n",
    "print(CarlInterests)\n"
   ]
  },
  {
   "cell_type": "code",
   "execution_count": 38,
   "metadata": {},
   "outputs": [],
   "source": [
    "# Auto-Adding Mechanism"
   ]
  },
  {
   "cell_type": "code",
   "execution_count": 61,
   "metadata": {},
   "outputs": [
    {
     "data": {
      "text/plain": [
       "0.1"
      ]
     },
     "execution_count": 61,
     "metadata": {},
     "output_type": "execute_result"
    }
   ],
   "source": [
    "def update_weight(\n",
    "    user_interests, video_tag, liked=False, shared=False, watched=False, loopCount=0\n",
    "):\n",
    "    user_actions = {\n",
    "        \"Like\": liked,\n",
    "        \"Share\": shared,\n",
    "        \"Watch\": watched,\n",
    "        \"Loop\": loopCount > 0,\n",
    "    }\n",
    "    for action, performed in user_actions.items():\n",
    "        if performed:\n",
    "            user_interests[video_tag] = user_interests.get(video_tag, 0) + Actions.get(\n",
    "                action, 0\n",
    "            )\n",
    "True /10"
   ]
  },
  {
   "cell_type": "code",
   "execution_count": null,
   "metadata": {},
   "outputs": [],
   "source": []
  },
  {
   "cell_type": "code",
   "execution_count": null,
   "metadata": {},
   "outputs": [],
   "source": []
  }
 ],
 "metadata": {
  "kernelspec": {
   "display_name": "Python 3",
   "language": "python",
   "name": "python3"
  },
  "language_info": {
   "codemirror_mode": {
    "name": "ipython",
    "version": 3
   },
   "file_extension": ".py",
   "mimetype": "text/x-python",
   "name": "python",
   "nbconvert_exporter": "python",
   "pygments_lexer": "ipython3",
   "version": "3.11.9"
  }
 },
 "nbformat": 4,
 "nbformat_minor": 2
}
