{
 "cells": [
  {
   "cell_type": "code",
   "execution_count": 1,
   "metadata": {},
   "outputs": [],
   "source": [
    "from pprint import pprint"
   ]
  },
  {
   "cell_type": "code",
   "execution_count": null,
   "metadata": {},
   "outputs": [],
   "source": [
    "# class User\n",
    "    # def like\n"
   ]
  },
  {
   "cell_type": "code",
   "execution_count": 3,
   "metadata": {},
   "outputs": [
    {
     "name": "stdout",
     "output_type": "stream",
     "text": [
      "{'DevOps': 45, 'Machine Learning': 45, 'Random': 10}\n"
     ]
    }
   ],
   "source": [
    "# Init - Choose Categories\n",
    "\n",
    "# Carl chose 2 categories\n",
    "# Always adds up to 100\n",
    "CarlInterests = {\n",
    "    'DevOps': 45,\n",
    "    'Machine Learning': 45,\n",
    "    'Random': 10,\n",
    "}\n",
    "\n",
    "print(CarlInterests)"
   ]
  },
  {
   "cell_type": "code",
   "execution_count": null,
   "metadata": {},
   "outputs": [],
   "source": [
    "# Updating Weights\n",
    "\n",
    "# Is called when watching a video\n",
    "\n",
    "Like = 0.1\n",
    "Share = 0.2\n",
    "Watch = 0.1\n",
    "Loop = 0.05\n",
    "\n",
    "def update_weight(user_dict_interest, video_tag):\n",
    "\n"
   ]
  },
  {
   "cell_type": "code",
   "execution_count": null,
   "metadata": {},
   "outputs": [],
   "source": [
    "# Auto-Adding Mechanism"
   ]
  }
 ],
 "metadata": {
  "kernelspec": {
   "display_name": "Python 3",
   "language": "python",
   "name": "python3"
  },
  "language_info": {
   "codemirror_mode": {
    "name": "ipython",
    "version": 3
   },
   "file_extension": ".py",
   "mimetype": "text/x-python",
   "name": "python",
   "nbconvert_exporter": "python",
   "pygments_lexer": "ipython3",
   "version": "3.11.9"
  }
 },
 "nbformat": 4,
 "nbformat_minor": 2
}
