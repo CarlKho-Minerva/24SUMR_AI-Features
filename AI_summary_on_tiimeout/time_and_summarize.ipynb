{
 "cells": [
  {
   "cell_type": "code",
   "execution_count": 33,
   "metadata": {},
   "outputs": [],
   "source": [
    "import openai\n",
    "\n",
    "def generate_takeaway(transcript):\n",
    "    \"\"\"\n",
    "    Generates a unique, nuanced one-liner lesson and/or takeaway for the given video transcript.\n",
    "\n",
    "    Parameters:\n",
    "    transcript (str): The transcript of the video.\n",
    "\n",
    "    Returns:\n",
    "    str: A one-liner lesson and/or takeaway of the video, focusing on key concepts and insights.\n",
    "    \"\"\"\n",
    "    try:\n",
    "        response = openai.ChatCompletion.create(\n",
    "            model=\"gpt-4o\",\n",
    "            messages=[\n",
    "                {\n",
    "                    \"role\": \"system\",\n",
    "                    \"content\": (\n",
    "                        \"You are an assistant specialized in generating concise, valuable one-liner lessons and/or takeaways from video transcripts. \"\n",
    "                        \"Your lessons and/or takeaways should capture the essence of the video by highlighting key concepts and specific insights that are useful for studying and reviewing.\"\n",
    "                    ),\n",
    "                },\n",
    "                {\n",
    "                    \"role\": \"user\",\n",
    "                    \"content\": f\"Video transcript: {transcript}\",\n",
    "                },\n",
    "                {\n",
    "                    \"role\": \"user\",\n",
    "                    \"content\": (\n",
    "                        \"Provide a unique one-liner takeaway for this video that focuses on a key concept or specific insight. \"\n",
    "                        \"The lesson and/or takeaway should be informative and useful for someone studying the material, like: \"\n",
    "                        \"'The probability uniform distribution describes the likelihood of all outcomes within a certain range being equally likely.'\"\n",
    "                        \"It should be straightforward and meaty. Help the users understand the mechanism of why it works like that instead of giving a vague summary.\"\n",
    "                    ),\n",
    "                },\n",
    "            ],\n",
    "        )\n",
    "        takeaway = response.choices[0].message['content'].strip()\n",
    "        return takeaway\n",
    "    except Exception as e:\n",
    "        return f\"Error generating takeaway: {e}\"\n",
    "\n",
    "def display_takeaways(transcripts):\n",
    "    \"\"\"\n",
    "    Generates and displays one-liner lessons and/or takeaways for a list of video transcripts.\n",
    "\n",
    "    Parameters:\n",
    "    transcripts (list): A list of video transcripts.\n",
    "\n",
    "    Returns:\n",
    "    list: A list of one-liner takeaways for the given transcripts.\n",
    "    \"\"\"\n",
    "    takeaways = []\n",
    "    for i, transcript in enumerate(transcripts):\n",
    "        try:\n",
    "            takeaway = generate_takeaway(transcript)\n",
    "            takeaways.append(f\"Takeaway for Video {i+1}: {takeaway}\")\n",
    "        except Exception as e:\n",
    "            takeaways.append(f\"Takeaway for Video {i+1}: Error generating takeaway: {e}\")\n",
    "    return takeaways"
   ]
  },
  {
   "cell_type": "code",
   "execution_count": 34,
   "metadata": {},
   "outputs": [
    {
     "name": "stdout",
     "output_type": "stream",
     "text": [
      "Takeaway for Video 1: \"Understanding when to use mean, median, or mode is crucial: mean is sensitive to outliers, median is robust in skewed distributions, and mode highlights frequency in categorical data.\"\n",
      "Takeaway for Video 2: \"Arrays offer fast element access via indices, while linked lists provide efficient insertions and deletions due to their pointer-based structure, highlighting the trade-offs between direct access and modifiability.\"\n",
      "Takeaway for Video 3: Understanding the syntax and functionality of SQL clauses like SELECT, FROM, WHERE, and JOIN is essential for effectively retrieving and manipulating data in relational databases.\n"
     ]
    }
   ],
   "source": [
    "# Improved Sample Video Transcripts\n",
    "transcripts = [\n",
    "    \"In this video, we explore the basics of statistics, including mean, median, and mode. \"\n",
    "    \"We start with the definition of each measure, discussing how they are calculated and interpreted. \"\n",
    "    \"Mean is the average value, median is the middle value, and mode is the most frequent value in a data set. \"\n",
    "    \"We also cover scenarios where each measure is most appropriate and how to handle outliers in data. \"\n",
    "    \"Practical examples and exercises are included to help you understand these concepts better.\",\n",
    "\n",
    "    \"This video introduces data structures in computer science, covering arrays, linked lists, stacks, and queues. \"\n",
    "    \"We begin by defining each data structure and explaining their basic operations. \"\n",
    "    \"Arrays are collections of elements identified by index, linked lists are collections of nodes connected by pointers, \"\n",
    "    \"stacks are last-in, first-out (LIFO) data structures, and queues are first-in, first-out (FIFO) data structures. \"\n",
    "    \"We discuss their use cases, advantages, and disadvantages, along with code examples in Python.\",\n",
    "\n",
    "    \"In this tutorial, we cover the basics of SQL, including how to write queries to retrieve data from databases. \"\n",
    "    \"We start with an introduction to relational databases and the SQL language. \"\n",
    "    \"Next, we dive into the syntax of SQL queries, covering SELECT, FROM, WHERE, and JOIN clauses. \"\n",
    "    \"We provide numerous examples to illustrate how to filter data, combine tables, and aggregate results. \"\n",
    "    \"Advanced topics such as subqueries, indexing, and performance optimization are also discussed to give you a comprehensive understanding of SQL.\"\n",
    "]\n",
    "\n",
    "# Generate and display summaries\n",
    "takeaways = display_takeaways(transcripts)\n",
    "for takeaway in takeaways:\n",
    "    print(takeaway)"
   ]
  },
  {
   "cell_type": "code",
   "execution_count": null,
   "metadata": {},
   "outputs": [],
   "source": []
  },
  {
   "cell_type": "code",
   "execution_count": null,
   "metadata": {},
   "outputs": [],
   "source": [
    "# video process = generate summary. call cached results only afterwards.\n",
    "    # Run this function along with the recommender algorithm\n",
    "# same process with ChromaDB video retrieval\n",
    "    # only this time we call data from the transcript column as well"
   ]
  },
  {
   "cell_type": "code",
   "execution_count": null,
   "metadata": {},
   "outputs": [],
   "source": [
    "# for the last reco - i would suggest using a smarter suggestion or a new experience.\n",
    "# add chance for cards to appear in reco algo."
   ]
  }
 ],
 "metadata": {
  "kernelspec": {
   "display_name": "Python 3",
   "language": "python",
   "name": "python3"
  },
  "language_info": {
   "codemirror_mode": {
    "name": "ipython",
    "version": 3
   },
   "file_extension": ".py",
   "mimetype": "text/x-python",
   "name": "python",
   "nbconvert_exporter": "python",
   "pygments_lexer": "ipython3",
   "version": "3.11.9"
  }
 },
 "nbformat": 4,
 "nbformat_minor": 2
}
